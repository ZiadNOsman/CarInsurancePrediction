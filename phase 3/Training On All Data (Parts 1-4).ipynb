{
 "cells": [
  {
   "cell_type": "markdown",
   "metadata": {
    "id": "q19Q7XnrRgP-"
   },
   "source": [
    "# Introduction\n",
    "\n",
    "In this Notebook, we will attempt to train multiple models and choose the best one based on the following matrices:\n",
    "\n",
    "* Accuracy.\n",
    "* F-score.\n",
    "* Receiver operating characteristic (ROC) and Area under the ROC Curve (AUC).\n",
    "* Confusion Matrix\n",
    "\n",
    "The models that we are going to fit are the following:\n",
    "\n",
    "* Bagging Decision Tree\n",
    "* Random Forest\n",
    "* XBoost\n",
    "* CATBoost\n",
    "* Neural Network\n",
    "* kNN\n",
    "\n",
    "The data used for training, testing and validation is cleaned, transformed, encoded using dummy encoder, and scaled as per Phase 2.\n",
    "The dataset file is 'Final Data.csv' provided in the Datasets directory in project phase 2 submission.\n"
   ]
  },
  {
   "cell_type": "markdown",
   "metadata": {
    "id": "DcGBbeZmUjCT"
   },
   "source": [
    "# Understanding the Data Limitation\n",
    "\n",
    "The majority of our columns were **categorical**, which is why in Phase 2 we relied heavily on **dummy encoding**. This raised the number of columns we had to **16**. Now, in Phase 3, we are facing another issue with our data: the majority class.\n",
    "\n",
    "The problem we are trying to solve is a binary classification problem, but seeing as the **ratio of negative response to positive response is 10:1** in our dataset, we had to find a solution.\n",
    "\n",
    "First, we ran our models on the dataset as is, to make a baseline (so we can see how much our modified datasets improve the results).\n",
    "\n",
    "Next, we tried cost-sensitive learning (by assigning a higher weight to the positive response).\n",
    "\n",
    "This method produced marginally better results, not enough to call it a real improvement and certainly not enough to call a good model. Instead, we tried using SMOTE.\n",
    "\n",
    "This modified our datasets to a new dataset with no majority class. The resulting models were satisfying, but better changes could have been implemented if not for the time constraints (cost-sensitive ensembles, probabilistic predictions, meta-learning…).\n",
    "\n",
    "Even though the use of SMOTE should eliminate the concept of “minority” and “majority classes, we observed that all our models predicted what was previously the majority class (the negative response) much better. This is what led us to believe that SMOTE was not sophisticated enough to fix our large imbalance issue.\n"
   ]
  },
  {
   "cell_type": "markdown",
   "metadata": {
    "id": "h-sSRbs8Wtfd"
   },
   "source": [
    "# Imports"
   ]
  },
  {
   "cell_type": "code",
   "execution_count": null,
   "metadata": {
    "id": "hsjD1_yFWk0K"
   },
   "outputs": [],
   "source": [
    "import nltk\n",
    "import keras\n",
    "import sklearn\n",
    "import xgboost\n",
    "import numpy as np\n",
    "import pandas as pd\n",
    "import seaborn as sns\n",
    "import tensorflow as tf\n",
    "import matplotlib.pyplot as plt\n",
    "from keras.optimizers import SGD\n",
    "from xgboost import XGBClassifier\n",
    "from imblearn.pipeline import Pipeline\n",
    "from imblearn.over_sampling import SMOTE\n",
    "from sklearn.ensemble import BaggingClassifier\n",
    "from tensorflow.python.client import device_lib\n",
    "from sklearn.tree import DecisionTreeClassifier\n",
    "from mlxtend.plotting import plot_confusion_matrix\n",
    "from sklearn.linear_model import LogisticRegression\n",
    "from sklearn.ensemble import RandomForestClassifier\n",
    "from sklearn.model_selection import train_test_split as tts\n",
    "from sklearn.model_selection import learning_curve,train_test_split,StratifiedKFold, KFold, GridSearchCV,RepeatedStratifiedKFold,cross_val_score\n",
    "from sklearn.metrics import precision_score,confusion_matrix, accuracy_score,f1_score, roc_auc_score,auc, roc_curve, recall_score,log_loss,classification_report, make_scorer\n",
    "#reproducibility\n",
    "SEED=6"
   ]
  },
  {
   "cell_type": "markdown",
   "metadata": {
    "id": "3yLGZm-DY9Eo"
   },
   "source": [
    "# Writing Some Functions for later usage\n",
    "\n",
    "These functions will help in visualizing the learning curve, ROC, and confusion matrix"
   ]
  },
  {
   "cell_type": "code",
   "execution_count": null,
   "metadata": {
    "id": "ogeoH3EoZSsh"
   },
   "outputs": [],
   "source": [
    "def plot_ROC(model,model_name):\n",
    "    with tf.device('/gpu:0'):\n",
    "        Y_score = model.predict_proba(X_test)[:,1]\n",
    "    fpr, tpr, _ = roc_curve(Y_test, Y_score)\n",
    "    plt.plot(fpr,tpr)\n",
    "    plt.plot((0,1), ls='dashed',color='black')\n",
    "    plt.title(str(model_name)+' ROC curve')\n",
    "    plt.xlabel('False Positive Rate')\n",
    "    plt.ylabel('True Positive Rate')\n",
    "    plt.show()\n",
    "    print ('Area under curve (AUC): ', auc(fpr,tpr))"
   ]
  },
  {
   "cell_type": "code",
   "execution_count": null,
   "metadata": {
    "id": "PN1r5v8zZVdo"
   },
   "outputs": [],
   "source": [
    "def CM_CR(model,model_name):\n",
    "    classes = [\"Response 0\", \"Response 1\"]\n",
    "\n",
    "    print(\"results\")\n",
    "    \n",
    "    with tf.device('/gpu:0'):\n",
    "        y_pred = model.predict(X_test)\n",
    "    precision = precision_score(Y_test, y_pred,average='micro') \n",
    "    recall = recall_score(Y_test, y_pred,average='micro')\n",
    "    f1 = f1_score(Y_test, y_pred,average='micro')\n",
    "    print(\"-\"*90)\n",
    "    print(\"Derived Report\")\n",
    "    print(\"-\"*90)\n",
    "    print(\"%s%.2f%s\"% (\"Precision     : \", precision*100, \"%\"))\n",
    "    print(\"%s%.2f%s\"% (\"Recall        : \", recall*100,    \"%\"))\n",
    "    print(\"%s%.2f%s\"% (\"F1-Score      : \", f1*100,        \"%\"))\n",
    "    print(\"-\"*90)\n",
    "    print(\"\\n\\n\")\n",
    "\n",
    "    CM = confusion_matrix(Y_test, y_pred)\n",
    "\n",
    "    fig, ax = plot_confusion_matrix(conf_mat=CM ,  figsize=(10,8), hide_ticks=True,cmap=plt.cm.Blues)\n",
    "    plt.xticks(range(len(classes)), classes, fontsize=12)\n",
    "    plt.yticks(range(len(classes)), classes, fontsize=12)\n",
    "    plt.title(\"Confusion Matrix for: \"+ str(model_name)+ \"\\n\", fontsize=20)\n",
    "    plt.show()\n",
    "\n",
    "\n",
    "    cls_report_print = classification_report(Y_test, y_pred, target_names=classes)\n",
    "\n",
    "    cls_report = classification_report(Y_test, y_pred, target_names=classes, output_dict=True)\n",
    "\n",
    "    print(\"\\n\\n\")\n",
    "    print(\"-\"*90)\n",
    "    print(\"-\"*90)\n",
    "    print(cls_report_print)\n",
    "    print(\"-\"*90)"
   ]
  },
  {
   "cell_type": "code",
   "execution_count": null,
   "metadata": {
    "id": "iqimG4-aZYhY"
   },
   "outputs": [],
   "source": [
    "def plot_learning_curve(estimator, title, X, y, ylim=None, cv=None,\n",
    "                        n_jobs=-1, train_sizes=np.linspace(.1, 1.0, 5)):\n",
    "    \n",
    "    plt.figure()\n",
    "    plt.title(title)\n",
    "    if ylim is not None:\n",
    "        plt.ylim(*ylim)\n",
    "    plt.xlabel(\"Training examples\")\n",
    "    plt.ylabel(\"Score\")\n",
    "    with tf.device('/gpu:0'): \n",
    "        train_sizes, train_scores, test_scores = learning_curve(\n",
    "            estimator, X, y, cv=cv, n_jobs=n_jobs, train_sizes=train_sizes)\n",
    "        train_scores_mean = 1- np.mean(train_scores, axis=1)\n",
    "        test_scores_mean = 1-np.mean(test_scores, axis=1)\n",
    "        plt.grid()\n",
    "        plt.plot(train_sizes, train_scores_mean, 'o-', color=\"r\",\n",
    "                 label=\"Training score\")\n",
    "        plt.plot(train_sizes, test_scores_mean, 'o-', color=\"g\",\n",
    "                 label=\"Cross-validation score\")\n",
    "        plt.legend(bbox_to_anchor=(1.05, 1), loc='upper left', borderaxespad=0.)\n",
    "\n",
    "        plt.show()\n",
    "\n",
    "\n",
    "# cv = ShuffleSplit(n_splits=5, test_size=0.4, random_state=0)"
   ]
  },
  {
   "cell_type": "markdown",
   "metadata": {
    "id": "clyRllwGXctw"
   },
   "source": [
    "# Import, split Data and Apply SMOTE"
   ]
  },
  {
   "cell_type": "markdown",
   "metadata": {
    "id": "EzGbfujGXctw"
   },
   "source": [
    "A problem with imbalanced classification is that there are too few examples of the minority class for a model to effectively learn the decision boundary, to overcome this drawback we use SMOTE.\n",
    "\n",
    "SMOTE works by selecting examples that are close in the feature space, drawing a line between the examples in the feature space and drawing a new sample at a point along that line."
   ]
  },
  {
   "cell_type": "code",
   "execution_count": null,
   "metadata": {
    "id": "rYd3WAmgXctw"
   },
   "outputs": [],
   "source": [
    "df=pd.read_csv('Final Data.csv')\n",
    "\n",
    "y=df.Response\n",
    "X=df.drop(columns=['Response'])"
   ]
  },
  {
   "cell_type": "markdown",
   "metadata": {
    "id": "IDSstUR1Xctw"
   },
   "source": [
    "Spliting data into 80% train and 20% test"
   ]
  },
  {
   "cell_type": "code",
   "execution_count": null,
   "metadata": {
    "id": "CXz0S0zmXctw"
   },
   "outputs": [],
   "source": [
    "X_train,X_test,Y_train,y_test = tts(X,y,test_size= 0.20,random_state=42,shuffle=True)"
   ]
  },
  {
   "cell_type": "markdown",
   "metadata": {
    "id": "gPRaWJNRXctw"
   },
   "source": [
    "Applying SMOTE on training set only to avoid data leakage"
   ]
  },
  {
   "cell_type": "code",
   "execution_count": null,
   "metadata": {
    "id": "OYRsvOYeXctw"
   },
   "outputs": [],
   "source": [
    "X_train, y_train = SMOTE().fit_resample(X_train, Y_train)"
   ]
  },
  {
   "cell_type": "markdown",
   "metadata": {
    "id": "z-B-g2xDXctw"
   },
   "source": [
    "Spliting train data into 80% training and 20% validation. "
   ]
  },
  {
   "cell_type": "code",
   "execution_count": null,
   "metadata": {
    "id": "2Q4TJNpTXctw"
   },
   "outputs": [],
   "source": [
    "xtrain, xval, ytrain, yval = tts(X_train,y_train,test_size=0.2)"
   ]
  },
  {
   "cell_type": "markdown",
   "metadata": {
    "id": "m8dHnh5uAAq6"
   },
   "source": [
    "# Bagging Decision Tree (BaggingClassifier)"
   ]
  },
  {
   "cell_type": "markdown",
   "metadata": {
    "id": "DGyNEnygkqlJ"
   },
   "source": [
    "## Experimental Setup\n",
    "\n",
    "A Bagging classifier is an ensemble meta-estimator that fits base classifiers each on random subsets of the original dataset and then aggregate their individual predictions (either by voting or by averaging) to form a final prediction. Such a meta-estimator can typically be used as a way to reduce the variance of a black-box estimator (e.g., a decision tree), by introducing randomization into its construction procedure and then making an ensemble out of it."
   ]
  },
  {
   "cell_type": "markdown",
   "metadata": {
    "id": "zcqJHR5sk29m"
   },
   "source": [
    "## Hyperparameter tuning\n",
    "\n",
    "We are performing an exhaustive search over specified parameter values for an estimator. The parameters used are found in sclearn documentation of BaggingClassifier, and we didn't use all parameters cause grid search uses a lot of time to get the best combination of parameters.\n",
    "\n",
    "Why **n_estimators** ?\n",
    "\n",
    "Because it's one of the most important parameters in decision trees, it's the number of base estimators in the ensemble.\n",
    "\n",
    "*We only used this parameter in this grid search cause we already demonstrated that fitting other parameters on other models performed better than on the bagging classifier and because grid search takes a lot of time to run we preferred  investing this time on other models.*  "
   ]
  },
  {
   "cell_type": "code",
   "execution_count": null,
   "metadata": {
    "id": "te0dZ9otAAq6",
    "outputId": "dfcd9c98-cd7e-4db8-c496-9fe95124ce3c"
   },
   "outputs": [
    {
     "name": "stdout",
     "output_type": "stream",
     "text": [
      "Fitting 10 folds for each of 3 candidates, totalling 30 fits\n"
     ]
    },
    {
     "name": "stderr",
     "output_type": "stream",
     "text": [
      "[Parallel(n_jobs=-1)]: Using backend LokyBackend with 8 concurrent workers.\n",
      "[Parallel(n_jobs=-1)]: Done  30 out of  30 | elapsed: 55.8min finished\n"
     ]
    },
    {
     "data": {
      "text/plain": [
       "GridSearchCV(cv=StratifiedKFold(n_splits=10, random_state=6, shuffle=True),\n",
       "             estimator=BaggingClassifier(random_state=6), n_jobs=-1,\n",
       "             param_grid={'n_estimators': [50, 100, 200]}, scoring='accuracy',\n",
       "             verbose=1)"
      ]
     },
     "execution_count": 16,
     "metadata": {
      "tags": []
     },
     "output_type": "execute_result"
    }
   ],
   "source": [
    "n_estimators=[50,100,200]\n",
    "\n",
    "params =dict(n_estimators=n_estimators)\n",
    "kfold = StratifiedKFold(n_splits=10, shuffle=True, random_state=SEED)\n",
    "\n",
    "GS_Bagging = GridSearchCV(BaggingClassifier(random_state=SEED),scoring='accuracy', param_grid=params, verbose=1, cv=kfold,n_jobs=-1)\n",
    "GS_Bagging.fit(X_train, Y_train)"
   ]
  },
  {
   "cell_type": "code",
   "execution_count": null,
   "metadata": {
    "id": "VuIVoGsVAAq7",
    "outputId": "cba162b8-aa85-4ce6-acaa-43e2c55c80e6"
   },
   "outputs": [
    {
     "name": "stdout",
     "output_type": "stream",
     "text": [
      "Best params {'n_estimators': 200} yielded 0.9164563783140715 accuracy\n"
     ]
    }
   ],
   "source": [
    "print('Best params',GS_Bagging.best_params_,'yielded',GS_Bagging.best_score_,'accuracy')"
   ]
  },
  {
   "cell_type": "code",
   "execution_count": null,
   "metadata": {
    "colab": {
     "base_uri": "https://localhost:8080/"
    },
    "id": "5f5HkGc7AAq7",
    "outputId": "482dfe43-4c2d-45a6-bf96-2c5bd21a024a"
   },
   "outputs": [
    {
     "data": {
      "text/plain": [
       "BaggingClassifier(base_estimator=None, bootstrap=True, bootstrap_features=False,\n",
       "                  max_features=1.0, max_samples=1.0, n_estimators=200,\n",
       "                  n_jobs=None, oob_score=False, random_state=6, verbose=0,\n",
       "                  warm_start=False)"
      ]
     },
     "execution_count": 43,
     "metadata": {
      "tags": []
     },
     "output_type": "execute_result"
    }
   ],
   "source": [
    "BC=BaggingClassifier(random_state=SEED,n_estimators=200)\n",
    "BC.fit(X_train,Y_train)"
   ]
  },
  {
   "cell_type": "code",
   "execution_count": null,
   "metadata": {
    "id": "eDc1NgTlAAq7",
    "outputId": "b61dde84-49f7-4761-f4ae-eee073919d4c"
   },
   "outputs": [
    {
     "name": "stdout",
     "output_type": "stream",
     "text": [
      "results\n",
      "------------------------------------------------------------------------------------------\n",
      "Derived Report\n",
      "------------------------------------------------------------------------------------------\n",
      "Precision     : 85.78%\n",
      "Recall        : 85.78%\n",
      "F1-Score      : 85.78%\n",
      "------------------------------------------------------------------------------------------\n",
      "\n",
      "\n",
      "\n"
     ]
    },
    {
     "data": {
      "image/png": "[encoded data removed]",
      "text/plain": [
       "<Figure size 720x576 with 1 Axes>"
      ]
     },
     "metadata": {
      "needs_background": "light",
      "tags": []
     },
     "output_type": "display_data"
    },
    {
     "name": "stdout",
     "output_type": "stream",
     "text": [
      "\n",
      "\n",
      "\n",
      "------------------------------------------------------------------------------------------\n",
      "------------------------------------------------------------------------------------------\n",
      "              precision    recall  f1-score   support\n",
      "\n",
      "  Response 0       0.92      0.92      0.92     82152\n",
      "  Response 1       0.24      0.25      0.24      8387\n",
      "\n",
      "    accuracy                           0.86     90539\n",
      "   macro avg       0.58      0.58      0.58     90539\n",
      "weighted avg       0.86      0.86      0.86     90539\n",
      "\n",
      "------------------------------------------------------------------------------------------\n"
     ]
    }
   ],
   "source": [
    "CM_CR(BC,\"BaggingClassifier\")"
   ]
  },
  {
   "cell_type": "code",
   "execution_count": null,
   "metadata": {
    "id": "X1Z7jd5aAAq7",
    "outputId": "6f9a7ecf-6066-480b-dc02-b6fde5a0fc38"
   },
   "outputs": [
    {
     "data": {
      "image/png": "[encoded data removed]",
      "text/plain": [
       "<Figure size 432x288 with 1 Axes>"
      ]
     },
     "metadata": {
      "needs_background": "light",
      "tags": []
     },
     "output_type": "display_data"
    },
    {
     "name": "stdout",
     "output_type": "stream",
     "text": [
      "Area under curve (AUC):  0.8104611748774934\n"
     ]
    }
   ],
   "source": [
    "plot_ROC(BC,\"BaggingClassifier\")"
   ]
  },
  {
   "cell_type": "code",
   "execution_count": null,
   "metadata": {
    "id": "YMtB_kcdAAq7",
    "outputId": "daedfe01-362e-41e0-e0ce-044b3d21c070"
   },
   "outputs": [
    {
     "data": {
      "image/png": "[encoded data removed]",
      "text/plain": [
       "<Figure size 432x288 with 1 Axes>"
      ]
     },
     "metadata": {
      "needs_background": "light",
      "tags": []
     },
     "output_type": "display_data"
    }
   ],
   "source": [
    "plot_learning_curve(BC,\"BaggingClassifier\", X_train, Y_train, cv=None)\n"
   ]
  },
  {
   "cell_type": "markdown",
   "metadata": {
    "id": "5Uq_vWxWmIvR"
   },
   "source": [
    " ## Evaluation\n",
    "\n",
    "We decided to use Bagging decision tree (BaggingClassifier) in hopes of getting better results.\n",
    "\n",
    "However, the confusion matrix we got revealed very poor estimation for **positive response** (the minority class, despite SMOTE/cost-sensitive learning).\n",
    "\n",
    "This proved to be a common trend between all models: good to an excellent estimation of the majority class, and poor estimation of the minority class.\n",
    "\n",
    "**AUC results were 0.82**, but the learning curve was what was most interesting: the **training score remained constant at near 0**, meaning the model knew very little at the beginning and still managed not to learn anything.\n",
    "\n",
    "It is also worth mentioning that we compared results with and without gridsearch and found negligible improvements. \n",
    "\n",
    "We concluded that, for this specific model on this specific dataset, the results of grid search weren’t worth the hour+ runtime.\n",
    "\n",
    "This result was caused by the fact that our data needs a more sophisticated approach than SMOTE (as mentioned above).\n",
    "\n",
    "Tuning the hyper-parameters won’t make any drastic differences. For that reason, we decided to alternate between random search and grid search depending on the model (as per the email we sent)preferred investing this time on other models."
   ]
  },
  {
   "cell_type": "markdown",
   "metadata": {
    "id": "haww9cMLAAq5"
   },
   "source": [
    "# Random Forest"
   ]
  },
  {
   "cell_type": "markdown",
   "metadata": {
    "id": "42wqnWa3b_0N"
   },
   "source": [
    "## Experimental Setup\n",
    "\n",
    "A random forest is a meta estimator that fits a number of decision tree classifiers on various sub-samples of the dataset and uses averaging to improve the predictive accuracy and control over-fitting.\n",
    "\n",
    "The sub-sample size is controlled with the max_samples parameter if bootstrap=True (default), otherwise the whole dataset is used to build each tree. "
   ]
  },
  {
   "cell_type": "markdown",
   "metadata": {
    "id": "crlEOfOqAAq5"
   },
   "source": [
    "## Hyperparameter tuning\n",
    "\n",
    "We are performing an exhaustive search over specified parameter values for an estimator. The parameters used are found in sclearn documentation of  RandomForestClassifier, and we didn't use all parameters cause grid search uses a lot of time to get the best combination of parameters.\n",
    "\n",
    "### Why these parameters\n",
    "**Criterion** is the function to measure the quality of a split. Supported criteria are “gini” for the Gini impurity and “entropy” for the information gain.\n",
    "\n",
    "**n_estimators** is the number of trees in forest\n",
    "\n",
    "**min_samples_split** is minimum number of samples required to split an internal node"
   ]
  },
  {
   "cell_type": "code",
   "execution_count": null,
   "metadata": {
    "id": "ZOW_k7XtAAq5",
    "outputId": "de0db5ec-b948-4186-e957-a9b0522fd8de"
   },
   "outputs": [
    {
     "name": "stdout",
     "output_type": "stream",
     "text": [
      "Fitting 10 folds for each of 12 candidates, totalling 120 fits\n"
     ]
    },
    {
     "name": "stderr",
     "output_type": "stream",
     "text": [
      "[Parallel(n_jobs=-1)]: Using backend LokyBackend with 8 concurrent workers.\n",
      "[Parallel(n_jobs=-1)]: Done  34 tasks      | elapsed:  7.0min\n",
      "[Parallel(n_jobs=-1)]: Done 120 out of 120 | elapsed: 26.3min finished\n"
     ]
    },
    {
     "data": {
      "text/plain": [
       "GridSearchCV(cv=StratifiedKFold(n_splits=10, random_state=6, shuffle=True),\n",
       "             estimator=RandomForestClassifier(random_state=6), n_jobs=-1,\n",
       "             param_grid={'criterion': ['gini', 'entropy'],\n",
       "                         'min_samples_leaf': [1, 2],\n",
       "                         'n_estimators': [20, 40, 60]},\n",
       "             verbose=1)"
      ]
     },
     "execution_count": 14,
     "metadata": {
      "tags": []
     },
     "output_type": "execute_result"
    }
   ],
   "source": [
    "criterion = ['gini', 'entropy']\n",
    "n_estimators=[20,40,60]\n",
    "# max_features=['auto', 'sqrt']\n",
    "min_samples_leaf=[1,2]\n",
    "\n",
    "\n",
    "#max_depth=[6,10]\n",
    "#depth of the tree, might not be useful in our case since our data is huge \n",
    "#and we arent suffering from overfitting\n",
    "\n",
    "params =dict(criterion=criterion,\n",
    "            n_estimators=n_estimators,\n",
    "             min_samples_leaf=min_samples_leaf\n",
    "#            max_features=max_features,\n",
    "#             max_depth=max_depth\n",
    "            )\n",
    "\n",
    "kfold = StratifiedKFold(n_splits=10, shuffle=True, random_state=SEED)\n",
    "\n",
    "GS_RF = GridSearchCV(RandomForestClassifier(random_state=SEED), param_grid=params, verbose=1, cv=kfold,n_jobs=-1)\n",
    "GS_RF.fit(X_train, Y_train)"
   ]
  },
  {
   "cell_type": "code",
   "execution_count": null,
   "metadata": {
    "id": "DeUoHwnVAAq5",
    "outputId": "2f9b6ab0-3136-405f-f6ae-49ebc7991ad0"
   },
   "outputs": [
    {
     "name": "stdout",
     "output_type": "stream",
     "text": [
      "Best params {'criterion': 'gini', 'min_samples_leaf': 1, 'n_estimators': 60} yielded 0.9195848170851961 accuracy\n"
     ]
    }
   ],
   "source": [
    "#finding best parameters\n",
    "print('Best params',GS_RF.best_params_,'yielded',GS_RF.best_score_,'accuracy')"
   ]
  },
  {
   "cell_type": "code",
   "execution_count": null,
   "metadata": {
    "id": "DRUqw8ztAAq5",
    "outputId": "2f190bad-8efc-4623-e68f-5306974a4fb6"
   },
   "outputs": [
    {
     "data": {
      "text/plain": [
       "RandomForestClassifier(n_estimators=60, n_jobs=-1, random_state=6)"
      ]
     },
     "execution_count": 22,
     "metadata": {
      "tags": []
     },
     "output_type": "execute_result"
    }
   ],
   "source": [
    "#fit with best parameters\n",
    "RF=RandomForestClassifier(criterion='gini',min_samples_leaf=1,n_estimators=60,random_state=SEED,n_jobs=-1)\n",
    "RF.fit(X_train, Y_train)"
   ]
  },
  {
   "cell_type": "code",
   "execution_count": null,
   "metadata": {
    "id": "Asv98Y_PAAq6",
    "outputId": "e4ff7938-a019-41f3-cb9f-162a89c2b061"
   },
   "outputs": [
    {
     "name": "stdout",
     "output_type": "stream",
     "text": [
      "results\n",
      "------------------------------------------------------------------------------------------\n",
      "Derived Report\n",
      "------------------------------------------------------------------------------------------\n",
      "Precision     : 86.02%\n",
      "Recall        : 86.02%\n",
      "F1-Score      : 86.02%\n",
      "------------------------------------------------------------------------------------------\n",
      "\n",
      "\n",
      "\n"
     ]
    },
    {
     "data": {
      "image/png": "[encoded data removed]",
      "text/plain": [
       "<Figure size 720x576 with 1 Axes>"
      ]
     },
     "metadata": {
      "needs_background": "light",
      "tags": []
     },
     "output_type": "display_data"
    },
    {
     "name": "stdout",
     "output_type": "stream",
     "text": [
      "\n",
      "\n",
      "\n",
      "------------------------------------------------------------------------------------------\n",
      "------------------------------------------------------------------------------------------\n",
      "              precision    recall  f1-score   support\n",
      "\n",
      "  Response 0       0.92      0.92      0.92     82152\n",
      "  Response 1       0.24      0.23      0.24      8387\n",
      "\n",
      "    accuracy                           0.86     90539\n",
      "   macro avg       0.58      0.58      0.58     90539\n",
      "weighted avg       0.86      0.86      0.86     90539\n",
      "\n",
      "------------------------------------------------------------------------------------------\n"
     ]
    }
   ],
   "source": [
    "CM_CR(RF,\"Random Forest\")"
   ]
  },
  {
   "cell_type": "code",
   "execution_count": null,
   "metadata": {
    "id": "OWWUzu77AAq6",
    "outputId": "0e3bf52d-f7a5-4b84-e522-558a36e0f434"
   },
   "outputs": [
    {
     "data": {
      "image/png": "[encoded data removed]",
      "text/plain": [
       "<Figure size 432x288 with 1 Axes>"
      ]
     },
     "metadata": {
      "needs_background": "light",
      "tags": []
     },
     "output_type": "display_data"
    },
    {
     "name": "stdout",
     "output_type": "stream",
     "text": [
      "Area under curve (AUC):  0.810565142341341\n"
     ]
    }
   ],
   "source": [
    "plot_ROC(RF,\"RF\")"
   ]
  },
  {
   "cell_type": "code",
   "execution_count": null,
   "metadata": {
    "id": "qu7dmfSBAAq6",
    "outputId": "05416d65-1368-4427-c9c8-1c2353a453bc"
   },
   "outputs": [
    {
     "data": {
      "image/png": "[encoded data removed]",
      "text/plain": [
       "<Figure size 432x288 with 1 Axes>"
      ]
     },
     "metadata": {
      "needs_background": "light",
      "tags": []
     },
     "output_type": "display_data"
    }
   ],
   "source": [
    "plot_learning_curve(RF, 'Random Forest', X_train, Y_train, cv=None)"
   ]
  },
  {
   "cell_type": "markdown",
   "metadata": {
    "id": "HkrTcSIZgCr1"
   },
   "source": [
    "## Evaluation\n",
    "\n",
    "Using grid search for the RandomForestClassifier to find the best parameters and fit, the **confusion matrix** of the random forest showed that this model predicted the majority class really well (**0.93 precision**) but performed really poorly for the minority class (**0.24 precision**, same as the decision tree).\n",
    "\n",
    "However, the learning curve showed a bit more promise, the training score **improved** slightly (unlike with decision trees where it stayed near constant).\n",
    "\n",
    "The learning curve showed the cross-validation score **decreasing** with the increase of the sample size. This could be indicative that the SMOTE wasn’t effective.\n",
    "\n",
    "Furthermore, this would give an explanation as to why the training score hasn’t increased significantly in this model and the previous one with the increase in training example: the data is not giving the model much useful information to work with. \n"
   ]
  },
  {
   "cell_type": "markdown",
   "metadata": {
    "id": "pZNTJHRPAAq7"
   },
   "source": [
    "# XGBoost"
   ]
  },
  {
   "cell_type": "markdown",
   "metadata": {
    "id": "I12i1O8PrVMB"
   },
   "source": [
    "## Experimental Setup\n",
    "\n",
    "XGBoost is an optimized distributed gradient boosting library designed to be highly efficient, flexible and portable. It implements machine learning algorithms under the Gradient Boosting framework. XGBoost provides a parallel tree boosting (also known as GBDT, GBM) that solve many data science problems in a fast and accurate way. The same code runs on major distributed environment (Hadoop, SGE, MPI) and can solve problems beyond billions of examples."
   ]
  },
  {
   "cell_type": "markdown",
   "metadata": {
    "id": "nPi6jMN6rVMB"
   },
   "source": [
    "## Hyperparameter tuning\n",
    "\n",
    "We are performing an exhaustive search over specified parameter values for an estimator. The parameters used are found in sclearn documentation of  RandomForestClassifier, and we didn't use all parameters cause grid search uses a lot of time to get the best combination of parameters.\n",
    "\n",
    "### kFold Validation\n",
    "\n",
    "In, we are using Stratified KFold with 10 splits for validation to improve the performance of our model and help the model fit better and to give an unbiased estimate of the skill of the final tuned model when comparing or selecting between final models "
   ]
  },
  {
   "cell_type": "code",
   "execution_count": null,
   "metadata": {
    "id": "aLXejdf0AAq7",
    "outputId": "14eb7186-756f-42cc-e2e2-eed75bceac42"
   },
   "outputs": [
    {
     "name": "stdout",
     "output_type": "stream",
     "text": [
      "Fitting 10 folds for each of 16 candidates, totalling 160 fits\n"
     ]
    },
    {
     "name": "stderr",
     "output_type": "stream",
     "text": [
      "[Parallel(n_jobs=-1)]: Using backend LokyBackend with 8 concurrent workers.\n",
      "[Parallel(n_jobs=-1)]: Done  34 tasks      | elapsed: 20.7min\n",
      "[Parallel(n_jobs=-1)]: Done 160 out of 160 | elapsed: 148.3min finished\n"
     ]
    },
    {
     "data": {
      "text/plain": [
       "GridSearchCV(cv=StratifiedKFold(n_splits=10, random_state=6, shuffle=True),\n",
       "             estimator=XGBClassifier(base_score=None, booster=None,\n",
       "                                     colsample_bylevel=None,\n",
       "                                     colsample_bynode=None,\n",
       "                                     colsample_bytree=None, gamma=None,\n",
       "                                     gpu_id=None, importance_type='gain',\n",
       "                                     interaction_constraints=None,\n",
       "                                     learning_rate=None, max_delta_step=None,\n",
       "                                     max_depth=None, min_child_weight=None,\n",
       "                                     missin...ts=None,\n",
       "                                     n_estimators=100, n_jobs=None,\n",
       "                                     num_parallel_tree=None, random_state=6,\n",
       "                                     reg_alpha=None, reg_lambda=None,\n",
       "                                     scale_pos_weight=None, subsample=None,\n",
       "                                     tree_method=None, validate_parameters=None,\n",
       "                                     verbosity=None),\n",
       "             n_jobs=-1,\n",
       "             param_grid={'learning_rate': [0.15, 0.3],\n",
       "                         'n_estimators': [100, 200], 'reg_alpha': [0.8, 1.2],\n",
       "                         'reg_lambda': [0.8, 1.2]},\n",
       "             scoring='accuracy', verbose=1)"
      ]
     },
     "execution_count": 17,
     "metadata": {
      "tags": []
     },
     "output_type": "execute_result"
    }
   ],
   "source": [
    "#L2 regularization term on weights. Increasing this value will make model more conservative.\n",
    "reg_lambda = [0.8, 1.2]\n",
    "\n",
    "#L1 regularization term on weights. Increasing this value will make model more conservative.\n",
    "reg_alpha=[0.8, 1.2]\n",
    "\n",
    "learning_rate=[0.15,0.3]\n",
    "\n",
    "n_estimators=[100,200]\n",
    "\n",
    "params =dict(reg_lambda=reg_lambda,\n",
    "            reg_alpha=reg_alpha,\n",
    "            learning_rate=learning_rate,\n",
    "            n_estimators=n_estimators)\n",
    "\n",
    "kfold = StratifiedKFold(n_splits=10, shuffle=True, random_state=SEED)\n",
    "\n",
    "GS_XGB = GridSearchCV(XGBClassifier(random_state=SEED), param_grid=params, verbose=1, cv=kfold,scoring='accuracy',n_jobs=-1)\n",
    "GS_XGB.fit(X_train, Y_train)"
   ]
  },
  {
   "cell_type": "code",
   "execution_count": null,
   "metadata": {
    "id": "8BGEsIftAAq7",
    "outputId": "095eae7c-557f-4fc1-c16a-3c6a757ec93e"
   },
   "outputs": [
    {
     "name": "stdout",
     "output_type": "stream",
     "text": [
      "Best params {'learning_rate': 0.3, 'n_estimators': 200, 'reg_alpha': 1.2, 'reg_lambda': 0.8} yielded 0.8916781653282335 accuracy\n"
     ]
    }
   ],
   "source": [
    "print('Best params',GS_XGB.best_params_,'yielded',GS_XGB.best_score_,'accuracy')"
   ]
  },
  {
   "cell_type": "code",
   "execution_count": null,
   "metadata": {
    "id": "eNTyyMjzAAq7",
    "outputId": "95370dad-a4b0-40fe-9d31-76b8819db9b0"
   },
   "outputs": [
    {
     "name": "stdout",
     "output_type": "stream",
     "text": [
      "[0]\tvalidation_0-auc:0.79749\n",
      "Will train until validation_0-auc hasn't improved in 50 rounds.\n",
      "Stopping. Best iteration:\n",
      "[6]\tvalidation_0-auc:0.82356\n",
      "\n"
     ]
    },
    {
     "data": {
      "text/plain": [
       "XGBClassifier(base_score=0.5, booster='gbtree', colsample_bylevel=1,\n",
       "              colsample_bynode=1, colsample_bytree=0.5, eval_metric='auc',\n",
       "              gamma=5, gpu_id=-1, importance_type='gain',\n",
       "              interaction_constraints='', learning_rate=0.3, max_delta_step=0,\n",
       "              max_depth=6, min_child_weight=1, missing=nan,\n",
       "              monotone_constraints='()', n_estimators=200, n_jobs=0,\n",
       "              num_parallel_tree=1, random_state=6, reg_alpha=1.2,\n",
       "              reg_lambda=0.8, scale_pos_weight=1, subsample=1,\n",
       "              tree_method='exact', validate_parameters=1, verbosity=None)"
      ]
     },
     "execution_count": 20,
     "metadata": {
      "tags": []
     },
     "output_type": "execute_result"
    }
   ],
   "source": [
    "XGB= XGBClassifier(random_state = SEED, \n",
    "                             n_estimators =200, \n",
    "                             reg_lambda =0.8, reg_alpha =1.2, \n",
    "                             objective = 'binary:logistic',\n",
    "                             learning_rate =0.3 , gamma = 5, colsample_bytree = 0.5, eval_metric = 'auc')\n",
    "\n",
    "XGB.fit(X_train, Y_train,\n",
    "                 eval_set = [(X_test, Y_test)],\n",
    "                 early_stopping_rounds=50,verbose = 1000)"
   ]
  },
  {
   "cell_type": "code",
   "execution_count": null,
   "metadata": {
    "colab": {
     "base_uri": "https://localhost:8080/"
    },
    "id": "YJK01OY2Ul6M",
    "outputId": "1c919a19-f78c-4cb6-894d-4003bae0e265"
   },
   "outputs": [
    {
     "name": "stdout",
     "output_type": "stream",
     "text": [
      "[0]\tvalidation_0-auc:0.80643\n",
      "Will train until validation_0-auc hasn't improved in 50 rounds.\n",
      "[199]\tvalidation_0-auc:0.843311\n"
     ]
    },
    {
     "data": {
      "text/plain": [
       "XGBClassifier(base_score=0.5, booster='gbtree', colsample_bylevel=1,\n",
       "              colsample_bynode=1, colsample_bytree=0.5, eval_metric='auc',\n",
       "              gamma=5, learning_rate=0.3, max_delta_step=0, max_depth=3,\n",
       "              min_child_weight=1, missing=None, n_estimators=200, n_jobs=1,\n",
       "              nthread=None, objective='binary:logistic', random_state=6,\n",
       "              reg_alpha=1.2, reg_lambda=0.8, scale_pos_weight=1, seed=None,\n",
       "              silent=None, subsample=1, verbosity=1)"
      ]
     },
     "execution_count": 40,
     "metadata": {
      "tags": []
     },
     "output_type": "execute_result"
    }
   ],
   "source": [
    "XGB= XGBClassifier(random_state = SEED, \n",
    "                             n_estimators =200, \n",
    "                             reg_lambda =0.8, reg_alpha =1.2, \n",
    "                             objective = 'binary:logistic',\n",
    "                             learning_rate =0.3 , gamma = 5, colsample_bytree = 0.5, eval_metric = 'auc')\n",
    "\n",
    "XGB.fit(X_train, Y_train,\n",
    "                 eval_set = [(X_test, Y_test)],\n",
    "                 early_stopping_rounds=50,verbose = 1000)"
   ]
  },
  {
   "cell_type": "code",
   "execution_count": null,
   "metadata": {
    "id": "u5dcy38tAAq9",
    "outputId": "1922c1d2-e415-418f-ed89-cec42aa68392"
   },
   "outputs": [
    {
     "name": "stdout",
     "output_type": "stream",
     "text": [
      "results\n",
      "------------------------------------------------------------------------------------------\n",
      "Derived Report\n",
      "------------------------------------------------------------------------------------------\n",
      "Precision     : 76.41%\n",
      "Recall        : 76.41%\n",
      "F1-Score      : 76.41%\n",
      "------------------------------------------------------------------------------------------\n",
      "\n",
      "\n",
      "\n"
     ]
    },
    {
     "data": {
      "image/png": "[encoded data removed]",
      "text/plain": [
       "<Figure size 720x576 with 1 Axes>"
      ]
     },
     "metadata": {
      "needs_background": "light",
      "tags": []
     },
     "output_type": "display_data"
    },
    {
     "name": "stdout",
     "output_type": "stream",
     "text": [
      "\n",
      "\n",
      "\n",
      "------------------------------------------------------------------------------------------\n",
      "------------------------------------------------------------------------------------------\n",
      "              precision    recall  f1-score   support\n",
      "\n",
      "  Response 0       0.96      0.77      0.86     82152\n",
      "  Response 1       0.24      0.69      0.35      8387\n",
      "\n",
      "    accuracy                           0.76     90539\n",
      "   macro avg       0.60      0.73      0.60     90539\n",
      "weighted avg       0.89      0.76      0.81     90539\n",
      "\n",
      "------------------------------------------------------------------------------------------\n"
     ]
    }
   ],
   "source": [
    "CM_CR(XGB,\"XGBoost\")"
   ]
  },
  {
   "cell_type": "code",
   "execution_count": null,
   "metadata": {
    "id": "4Y2x-FeZAAq9",
    "outputId": "191bf9b2-d3fc-4f2a-bbe8-86d7b4200d0b"
   },
   "outputs": [
    {
     "data": {
      "image/png": "[encoded data removed]",
      "text/plain": [
       "<Figure size 432x288 with 1 Axes>"
      ]
     },
     "metadata": {
      "needs_background": "light",
      "tags": []
     },
     "output_type": "display_data"
    },
    {
     "name": "stdout",
     "output_type": "stream",
     "text": [
      "Area under curve (AUC):  0.8235608612466768\n"
     ]
    }
   ],
   "source": [
    "plot_ROC(XGB,\"XGBoost\")"
   ]
  },
  {
   "cell_type": "code",
   "execution_count": null,
   "metadata": {
    "id": "rtrdZ2StAAq9",
    "outputId": "209baf70-bcdf-4e62-f417-85e993e4beff"
   },
   "outputs": [
    {
     "data": {
      "image/png": "[encoded data removed]",
      "text/plain": [
       "<Figure size 432x288 with 1 Axes>"
      ]
     },
     "metadata": {
      "needs_background": "light",
      "tags": []
     },
     "output_type": "display_data"
    }
   ],
   "source": [
    "plot_learning_curve(XGB,\"XGBoost\", X_train, Y_train, cv=None)"
   ]
  },
  {
   "cell_type": "markdown",
   "metadata": {
    "id": "BPLYvKZuuTY3"
   },
   "source": [
    "## Evaluation\n",
    "\n",
    "The confusion matrix of this model showed something interesting. Its precision scores are virtually the same as the other models, but the f1-scores are a bit more promising (0.35 for the minority class instead of 0.25). this change is shown in the confusion matrix: this is best performing model when it came to predicting true positives. But this is not something to celebrate. When we look at the false positive, we see that the number is 3 times higher than that of any other model. It seems the model is over-predicting the minority class (the positive class). In other words, this model is just as sub-par at handling the minority class as other models, but for opposite reasons. On the other hand, this model is still just as adequate at predicting the majority class (f-1 score and precision of 0.9)\n"
   ]
  },
  {
   "cell_type": "markdown",
   "metadata": {
    "id": "vX8xQdD7AAq9"
   },
   "source": [
    "# CatBoost"
   ]
  },
  {
   "cell_type": "markdown",
   "metadata": {
    "id": "b4T5wMZ5vYg4"
   },
   "source": [
    "## Experimental Setup\n",
    "\n",
    "Catboost, unlike XGBOOST can handle categorical data. And, seeing as most of our data is categorical."
   ]
  },
  {
   "cell_type": "code",
   "execution_count": null,
   "metadata": {
    "id": "L-T9OCubAAq9"
   },
   "outputs": [],
   "source": [
    "from catboost import CatBoostClassifier\n",
    "\n",
    "categorical_features=['Vehicle_Age_Ordinal' , 'Policy_Sales_Channel','Gender_Female', 'Gender_Male', 'Driving_License_0', 'Driving_License_1', 'Previously_Insured_0' ,'Previously_Insured_1', 'Vehicle_Damage_No', 'Vehicle_Damage_Yes']\n",
    "num_features=['Age','Annual_Premium','Age_times_Annual']\n"
   ]
  },
  {
   "cell_type": "code",
   "execution_count": null,
   "metadata": {
    "colab": {
     "base_uri": "https://localhost:8080/"
    },
    "id": "2bnx6nWsAAq9",
    "outputId": "df48cad9-52d6-4045-ef3b-9eed219d4918",
    "scrolled": true
   },
   "outputs": [
    {
     "name": "stdout",
     "output_type": "stream",
     "text": [
      "0:\tlearn: 0.3391376\ttest: 0.3399777\tbest: 0.3399777 (0)\ttotal: 417ms\tremaining: 2m 4s\n",
      "1:\tlearn: 0.2698493\ttest: 0.2709825\tbest: 0.2709825 (1)\ttotal: 789ms\tremaining: 1m 57s\n",
      "2:\tlearn: 0.2485131\ttest: 0.2499309\tbest: 0.2499309 (2)\ttotal: 1.16s\tremaining: 1m 54s\n",
      "3:\tlearn: 0.2408483\ttest: 0.2423250\tbest: 0.2423250 (3)\ttotal: 1.49s\tremaining: 1m 50s\n",
      "4:\tlearn: 0.2369750\ttest: 0.2387062\tbest: 0.2387062 (4)\ttotal: 1.84s\tremaining: 1m 48s\n",
      "5:\tlearn: 0.2342259\ttest: 0.2360905\tbest: 0.2360905 (5)\ttotal: 2.15s\tremaining: 1m 45s\n",
      "6:\tlearn: 0.2327915\ttest: 0.2347081\tbest: 0.2347081 (6)\ttotal: 2.45s\tremaining: 1m 42s\n",
      "7:\tlearn: 0.2319512\ttest: 0.2339200\tbest: 0.2339200 (7)\ttotal: 2.78s\tremaining: 1m 41s\n",
      "8:\tlearn: 0.2314036\ttest: 0.2334362\tbest: 0.2334362 (8)\ttotal: 3.07s\tremaining: 1m 39s\n",
      "9:\tlearn: 0.2309332\ttest: 0.2330160\tbest: 0.2330160 (9)\ttotal: 3.34s\tremaining: 1m 36s\n",
      "10:\tlearn: 0.2307094\ttest: 0.2328311\tbest: 0.2328311 (10)\ttotal: 3.65s\tremaining: 1m 35s\n",
      "11:\tlearn: 0.2305664\ttest: 0.2327172\tbest: 0.2327172 (11)\ttotal: 4.01s\tremaining: 1m 36s\n",
      "12:\tlearn: 0.2302897\ttest: 0.2325209\tbest: 0.2325209 (12)\ttotal: 4.34s\tremaining: 1m 35s\n",
      "13:\tlearn: 0.2301367\ttest: 0.2324711\tbest: 0.2324711 (13)\ttotal: 4.64s\tremaining: 1m 34s\n",
      "14:\tlearn: 0.2299028\ttest: 0.2322863\tbest: 0.2322863 (14)\ttotal: 5.04s\tremaining: 1m 35s\n",
      "15:\tlearn: 0.2296820\ttest: 0.2320997\tbest: 0.2320997 (15)\ttotal: 5.35s\tremaining: 1m 34s\n",
      "16:\tlearn: 0.2295657\ttest: 0.2320369\tbest: 0.2320369 (16)\ttotal: 5.63s\tremaining: 1m 33s\n",
      "17:\tlearn: 0.2295078\ttest: 0.2319912\tbest: 0.2319912 (17)\ttotal: 5.97s\tremaining: 1m 33s\n",
      "18:\tlearn: 0.2293947\ttest: 0.2318935\tbest: 0.2318935 (18)\ttotal: 6.28s\tremaining: 1m 32s\n",
      "19:\tlearn: 0.2293233\ttest: 0.2318903\tbest: 0.2318903 (19)\ttotal: 6.61s\tremaining: 1m 32s\n",
      "20:\tlearn: 0.2291469\ttest: 0.2317860\tbest: 0.2317860 (20)\ttotal: 6.9s\tremaining: 1m 31s\n",
      "21:\tlearn: 0.2291381\ttest: 0.2317755\tbest: 0.2317755 (21)\ttotal: 7.08s\tremaining: 1m 29s\n",
      "22:\tlearn: 0.2291324\ttest: 0.2317713\tbest: 0.2317713 (22)\ttotal: 7.25s\tremaining: 1m 27s\n",
      "23:\tlearn: 0.2290578\ttest: 0.2317251\tbest: 0.2317251 (23)\ttotal: 7.62s\tremaining: 1m 27s\n",
      "24:\tlearn: 0.2290358\ttest: 0.2317211\tbest: 0.2317211 (24)\ttotal: 7.91s\tremaining: 1m 27s\n",
      "25:\tlearn: 0.2289580\ttest: 0.2317092\tbest: 0.2317092 (25)\ttotal: 8.2s\tremaining: 1m 26s\n",
      "26:\tlearn: 0.2289411\ttest: 0.2317057\tbest: 0.2317057 (26)\ttotal: 8.47s\tremaining: 1m 25s\n",
      "27:\tlearn: 0.2288992\ttest: 0.2317256\tbest: 0.2317057 (26)\ttotal: 8.79s\tremaining: 1m 25s\n",
      "28:\tlearn: 0.2287414\ttest: 0.2316546\tbest: 0.2316546 (28)\ttotal: 9.12s\tremaining: 1m 25s\n",
      "29:\tlearn: 0.2287121\ttest: 0.2316346\tbest: 0.2316346 (29)\ttotal: 9.45s\tremaining: 1m 25s\n",
      "30:\tlearn: 0.2286863\ttest: 0.2316250\tbest: 0.2316250 (30)\ttotal: 9.75s\tremaining: 1m 24s\n",
      "31:\tlearn: 0.2286573\ttest: 0.2316159\tbest: 0.2316159 (31)\ttotal: 10s\tremaining: 1m 24s\n",
      "32:\tlearn: 0.2286477\ttest: 0.2316024\tbest: 0.2316024 (32)\ttotal: 10.2s\tremaining: 1m 22s\n",
      "33:\tlearn: 0.2285883\ttest: 0.2315897\tbest: 0.2315897 (33)\ttotal: 10.6s\tremaining: 1m 22s\n",
      "34:\tlearn: 0.2285704\ttest: 0.2315808\tbest: 0.2315808 (34)\ttotal: 10.9s\tremaining: 1m 22s\n",
      "35:\tlearn: 0.2285008\ttest: 0.2315687\tbest: 0.2315687 (35)\ttotal: 11.3s\tremaining: 1m 22s\n",
      "36:\tlearn: 0.2284442\ttest: 0.2315684\tbest: 0.2315684 (36)\ttotal: 11.6s\tremaining: 1m 22s\n",
      "37:\tlearn: 0.2284049\ttest: 0.2315554\tbest: 0.2315554 (37)\ttotal: 11.9s\tremaining: 1m 22s\n",
      "38:\tlearn: 0.2283839\ttest: 0.2315527\tbest: 0.2315527 (38)\ttotal: 12.2s\tremaining: 1m 21s\n",
      "39:\tlearn: 0.2283332\ttest: 0.2315066\tbest: 0.2315066 (39)\ttotal: 12.4s\tremaining: 1m 20s\n",
      "40:\tlearn: 0.2282952\ttest: 0.2314713\tbest: 0.2314713 (40)\ttotal: 12.8s\tremaining: 1m 20s\n",
      "41:\tlearn: 0.2282400\ttest: 0.2314040\tbest: 0.2314040 (41)\ttotal: 13.2s\tremaining: 1m 20s\n",
      "42:\tlearn: 0.2282000\ttest: 0.2314226\tbest: 0.2314040 (41)\ttotal: 13.5s\tremaining: 1m 20s\n",
      "43:\tlearn: 0.2281717\ttest: 0.2314248\tbest: 0.2314040 (41)\ttotal: 13.8s\tremaining: 1m 20s\n",
      "44:\tlearn: 0.2281186\ttest: 0.2314213\tbest: 0.2314040 (41)\ttotal: 14.2s\tremaining: 1m 20s\n",
      "45:\tlearn: 0.2280747\ttest: 0.2314281\tbest: 0.2314040 (41)\ttotal: 14.5s\tremaining: 1m 19s\n",
      "46:\tlearn: 0.2280319\ttest: 0.2314154\tbest: 0.2314040 (41)\ttotal: 14.8s\tremaining: 1m 19s\n",
      "47:\tlearn: 0.2279772\ttest: 0.2313895\tbest: 0.2313895 (47)\ttotal: 15.2s\tremaining: 1m 19s\n",
      "48:\tlearn: 0.2279085\ttest: 0.2313976\tbest: 0.2313895 (47)\ttotal: 15.5s\tremaining: 1m 19s\n",
      "49:\tlearn: 0.2278717\ttest: 0.2313980\tbest: 0.2313895 (47)\ttotal: 15.8s\tremaining: 1m 19s\n",
      "50:\tlearn: 0.2278558\ttest: 0.2314084\tbest: 0.2313895 (47)\ttotal: 16.2s\tremaining: 1m 18s\n",
      "51:\tlearn: 0.2277861\ttest: 0.2314069\tbest: 0.2313895 (47)\ttotal: 16.5s\tremaining: 1m 18s\n",
      "52:\tlearn: 0.2277366\ttest: 0.2313979\tbest: 0.2313895 (47)\ttotal: 16.9s\tremaining: 1m 18s\n",
      "53:\tlearn: 0.2276676\ttest: 0.2313876\tbest: 0.2313876 (53)\ttotal: 17.2s\tremaining: 1m 18s\n",
      "54:\tlearn: 0.2276255\ttest: 0.2313637\tbest: 0.2313637 (54)\ttotal: 17.5s\tremaining: 1m 18s\n",
      "55:\tlearn: 0.2275792\ttest: 0.2313736\tbest: 0.2313637 (54)\ttotal: 17.9s\tremaining: 1m 18s\n",
      "56:\tlearn: 0.2275251\ttest: 0.2313740\tbest: 0.2313637 (54)\ttotal: 18.3s\tremaining: 1m 17s\n",
      "57:\tlearn: 0.2274905\ttest: 0.2313662\tbest: 0.2313637 (54)\ttotal: 18.7s\tremaining: 1m 17s\n",
      "58:\tlearn: 0.2274593\ttest: 0.2313671\tbest: 0.2313637 (54)\ttotal: 19.1s\tremaining: 1m 17s\n",
      "59:\tlearn: 0.2274150\ttest: 0.2313626\tbest: 0.2313626 (59)\ttotal: 19.3s\tremaining: 1m 17s\n",
      "60:\tlearn: 0.2273999\ttest: 0.2313536\tbest: 0.2313536 (60)\ttotal: 19.7s\tremaining: 1m 17s\n",
      "61:\tlearn: 0.2273864\ttest: 0.2313549\tbest: 0.2313536 (60)\ttotal: 19.9s\tremaining: 1m 16s\n",
      "62:\tlearn: 0.2273377\ttest: 0.2313553\tbest: 0.2313536 (60)\ttotal: 20.3s\tremaining: 1m 16s\n",
      "63:\tlearn: 0.2272830\ttest: 0.2313568\tbest: 0.2313536 (60)\ttotal: 20.6s\tremaining: 1m 15s\n",
      "64:\tlearn: 0.2272433\ttest: 0.2313637\tbest: 0.2313536 (60)\ttotal: 20.9s\tremaining: 1m 15s\n",
      "65:\tlearn: 0.2271628\ttest: 0.2313713\tbest: 0.2313536 (60)\ttotal: 21.2s\tremaining: 1m 15s\n",
      "66:\tlearn: 0.2271390\ttest: 0.2313740\tbest: 0.2313536 (60)\ttotal: 21.6s\tremaining: 1m 15s\n",
      "67:\tlearn: 0.2271038\ttest: 0.2313714\tbest: 0.2313536 (60)\ttotal: 21.9s\tremaining: 1m 14s\n",
      "68:\tlearn: 0.2270655\ttest: 0.2313706\tbest: 0.2313536 (60)\ttotal: 22.2s\tremaining: 1m 14s\n",
      "69:\tlearn: 0.2270303\ttest: 0.2313805\tbest: 0.2313536 (60)\ttotal: 22.5s\tremaining: 1m 14s\n",
      "70:\tlearn: 0.2269854\ttest: 0.2313985\tbest: 0.2313536 (60)\ttotal: 22.9s\tremaining: 1m 13s\n",
      "71:\tlearn: 0.2269674\ttest: 0.2314053\tbest: 0.2313536 (60)\ttotal: 23.2s\tremaining: 1m 13s\n",
      "72:\tlearn: 0.2269380\ttest: 0.2313878\tbest: 0.2313536 (60)\ttotal: 23.6s\tremaining: 1m 13s\n",
      "73:\tlearn: 0.2269073\ttest: 0.2313813\tbest: 0.2313536 (60)\ttotal: 23.9s\tremaining: 1m 12s\n",
      "74:\tlearn: 0.2268905\ttest: 0.2313880\tbest: 0.2313536 (60)\ttotal: 24.2s\tremaining: 1m 12s\n",
      "75:\tlearn: 0.2268374\ttest: 0.2313878\tbest: 0.2313536 (60)\ttotal: 24.6s\tremaining: 1m 12s\n",
      "76:\tlearn: 0.2267773\ttest: 0.2313901\tbest: 0.2313536 (60)\ttotal: 25s\tremaining: 1m 12s\n",
      "77:\tlearn: 0.2267554\ttest: 0.2313714\tbest: 0.2313536 (60)\ttotal: 25.3s\tremaining: 1m 11s\n",
      "78:\tlearn: 0.2267288\ttest: 0.2313829\tbest: 0.2313536 (60)\ttotal: 25.6s\tremaining: 1m 11s\n",
      "79:\tlearn: 0.2267115\ttest: 0.2313911\tbest: 0.2313536 (60)\ttotal: 25.9s\tremaining: 1m 11s\n",
      "80:\tlearn: 0.2266770\ttest: 0.2313781\tbest: 0.2313536 (60)\ttotal: 26.3s\tremaining: 1m 11s\n",
      "81:\tlearn: 0.2266504\ttest: 0.2313913\tbest: 0.2313536 (60)\ttotal: 26.6s\tremaining: 1m 10s\n",
      "82:\tlearn: 0.2265726\ttest: 0.2313170\tbest: 0.2313170 (82)\ttotal: 26.9s\tremaining: 1m 10s\n",
      "83:\tlearn: 0.2265251\ttest: 0.2313276\tbest: 0.2313170 (82)\ttotal: 27.3s\tremaining: 1m 10s\n",
      "84:\tlearn: 0.2265074\ttest: 0.2313250\tbest: 0.2313170 (82)\ttotal: 27.6s\tremaining: 1m 9s\n",
      "85:\tlearn: 0.2264431\ttest: 0.2312995\tbest: 0.2312995 (85)\ttotal: 28s\tremaining: 1m 9s\n",
      "86:\tlearn: 0.2264173\ttest: 0.2313002\tbest: 0.2312995 (85)\ttotal: 28.3s\tremaining: 1m 9s\n",
      "87:\tlearn: 0.2263586\ttest: 0.2313093\tbest: 0.2312995 (85)\ttotal: 28.6s\tremaining: 1m 8s\n",
      "88:\tlearn: 0.2263453\ttest: 0.2313103\tbest: 0.2312995 (85)\ttotal: 29s\tremaining: 1m 8s\n",
      "89:\tlearn: 0.2263256\ttest: 0.2313182\tbest: 0.2312995 (85)\ttotal: 29.3s\tremaining: 1m 8s\n",
      "90:\tlearn: 0.2262916\ttest: 0.2313318\tbest: 0.2312995 (85)\ttotal: 29.7s\tremaining: 1m 8s\n",
      "91:\tlearn: 0.2262607\ttest: 0.2313458\tbest: 0.2312995 (85)\ttotal: 30.1s\tremaining: 1m 7s\n",
      "92:\tlearn: 0.2262268\ttest: 0.2313466\tbest: 0.2312995 (85)\ttotal: 30.4s\tremaining: 1m 7s\n",
      "93:\tlearn: 0.2262150\ttest: 0.2313528\tbest: 0.2312995 (85)\ttotal: 30.7s\tremaining: 1m 7s\n",
      "94:\tlearn: 0.2261631\ttest: 0.2313623\tbest: 0.2312995 (85)\ttotal: 31.1s\tremaining: 1m 7s\n",
      "95:\tlearn: 0.2261353\ttest: 0.2313636\tbest: 0.2312995 (85)\ttotal: 31.4s\tremaining: 1m 6s\n",
      "96:\tlearn: 0.2260994\ttest: 0.2313742\tbest: 0.2312995 (85)\ttotal: 31.7s\tremaining: 1m 6s\n",
      "97:\tlearn: 0.2260910\ttest: 0.2313773\tbest: 0.2312995 (85)\ttotal: 32s\tremaining: 1m 5s\n",
      "98:\tlearn: 0.2260408\ttest: 0.2314149\tbest: 0.2312995 (85)\ttotal: 32.4s\tremaining: 1m 5s\n",
      "99:\tlearn: 0.2260068\ttest: 0.2314117\tbest: 0.2312995 (85)\ttotal: 32.7s\tremaining: 1m 5s\n",
      "100:\tlearn: 0.2259853\ttest: 0.2314046\tbest: 0.2312995 (85)\ttotal: 33.1s\tremaining: 1m 5s\n",
      "101:\tlearn: 0.2259535\ttest: 0.2314142\tbest: 0.2312995 (85)\ttotal: 33.3s\tremaining: 1m 4s\n",
      "102:\tlearn: 0.2259415\ttest: 0.2314164\tbest: 0.2312995 (85)\ttotal: 33.6s\tremaining: 1m 4s\n",
      "103:\tlearn: 0.2259092\ttest: 0.2314327\tbest: 0.2312995 (85)\ttotal: 33.9s\tremaining: 1m 3s\n",
      "104:\tlearn: 0.2258593\ttest: 0.2314513\tbest: 0.2312995 (85)\ttotal: 34.3s\tremaining: 1m 3s\n",
      "105:\tlearn: 0.2258359\ttest: 0.2314589\tbest: 0.2312995 (85)\ttotal: 34.6s\tremaining: 1m 3s\n",
      "106:\tlearn: 0.2258077\ttest: 0.2314496\tbest: 0.2312995 (85)\ttotal: 34.9s\tremaining: 1m 2s\n",
      "107:\tlearn: 0.2257706\ttest: 0.2314438\tbest: 0.2312995 (85)\ttotal: 35.3s\tremaining: 1m 2s\n",
      "108:\tlearn: 0.2257290\ttest: 0.2314368\tbest: 0.2312995 (85)\ttotal: 35.6s\tremaining: 1m 2s\n",
      "109:\tlearn: 0.2256857\ttest: 0.2314446\tbest: 0.2312995 (85)\ttotal: 36s\tremaining: 1m 2s\n",
      "110:\tlearn: 0.2256373\ttest: 0.2314296\tbest: 0.2312995 (85)\ttotal: 36.3s\tremaining: 1m 1s\n",
      "111:\tlearn: 0.2256253\ttest: 0.2314177\tbest: 0.2312995 (85)\ttotal: 36.7s\tremaining: 1m 1s\n",
      "112:\tlearn: 0.2256061\ttest: 0.2314129\tbest: 0.2312995 (85)\ttotal: 37s\tremaining: 1m 1s\n",
      "113:\tlearn: 0.2255873\ttest: 0.2314139\tbest: 0.2312995 (85)\ttotal: 37.3s\tremaining: 1m\n",
      "114:\tlearn: 0.2255694\ttest: 0.2314159\tbest: 0.2312995 (85)\ttotal: 37.6s\tremaining: 1m\n",
      "115:\tlearn: 0.2255347\ttest: 0.2314196\tbest: 0.2312995 (85)\ttotal: 38s\tremaining: 1m\n",
      "116:\tlearn: 0.2254899\ttest: 0.2314519\tbest: 0.2312995 (85)\ttotal: 38.3s\tremaining: 59.9s\n",
      "117:\tlearn: 0.2254524\ttest: 0.2314571\tbest: 0.2312995 (85)\ttotal: 38.7s\tremaining: 59.6s\n",
      "118:\tlearn: 0.2254320\ttest: 0.2314664\tbest: 0.2312995 (85)\ttotal: 38.9s\tremaining: 59.2s\n",
      "119:\tlearn: 0.2254035\ttest: 0.2314588\tbest: 0.2312995 (85)\ttotal: 39.3s\tremaining: 59s\n",
      "120:\tlearn: 0.2253553\ttest: 0.2314458\tbest: 0.2312995 (85)\ttotal: 39.6s\tremaining: 58.6s\n",
      "121:\tlearn: 0.2253106\ttest: 0.2314388\tbest: 0.2312995 (85)\ttotal: 40s\tremaining: 58.3s\n",
      "122:\tlearn: 0.2252649\ttest: 0.2314456\tbest: 0.2312995 (85)\ttotal: 40.3s\tremaining: 58s\n",
      "123:\tlearn: 0.2252495\ttest: 0.2314484\tbest: 0.2312995 (85)\ttotal: 40.6s\tremaining: 57.7s\n",
      "124:\tlearn: 0.2252097\ttest: 0.2314391\tbest: 0.2312995 (85)\ttotal: 41s\tremaining: 57.4s\n",
      "125:\tlearn: 0.2251681\ttest: 0.2314681\tbest: 0.2312995 (85)\ttotal: 41.3s\tremaining: 57.1s\n",
      "126:\tlearn: 0.2251368\ttest: 0.2314620\tbest: 0.2312995 (85)\ttotal: 41.6s\tremaining: 56.7s\n",
      "127:\tlearn: 0.2251099\ttest: 0.2314719\tbest: 0.2312995 (85)\ttotal: 42s\tremaining: 56.4s\n",
      "128:\tlearn: 0.2250893\ttest: 0.2314817\tbest: 0.2312995 (85)\ttotal: 42.4s\tremaining: 56.1s\n",
      "129:\tlearn: 0.2250698\ttest: 0.2314874\tbest: 0.2312995 (85)\ttotal: 42.7s\tremaining: 55.8s\n",
      "130:\tlearn: 0.2250425\ttest: 0.2315143\tbest: 0.2312995 (85)\ttotal: 43s\tremaining: 55.5s\n",
      "131:\tlearn: 0.2250298\ttest: 0.2315166\tbest: 0.2312995 (85)\ttotal: 43.3s\tremaining: 55.1s\n",
      "132:\tlearn: 0.2249919\ttest: 0.2315269\tbest: 0.2312995 (85)\ttotal: 43.6s\tremaining: 54.7s\n",
      "133:\tlearn: 0.2249669\ttest: 0.2315237\tbest: 0.2312995 (85)\ttotal: 43.9s\tremaining: 54.4s\n",
      "134:\tlearn: 0.2249420\ttest: 0.2315108\tbest: 0.2312995 (85)\ttotal: 44.3s\tremaining: 54.2s\n",
      "135:\tlearn: 0.2249104\ttest: 0.2315308\tbest: 0.2312995 (85)\ttotal: 44.7s\tremaining: 53.9s\n",
      "136:\tlearn: 0.2248843\ttest: 0.2315285\tbest: 0.2312995 (85)\ttotal: 45s\tremaining: 53.6s\n",
      "137:\tlearn: 0.2248378\ttest: 0.2315427\tbest: 0.2312995 (85)\ttotal: 45.4s\tremaining: 53.3s\n",
      "138:\tlearn: 0.2248049\ttest: 0.2315471\tbest: 0.2312995 (85)\ttotal: 45.7s\tremaining: 53s\n",
      "139:\tlearn: 0.2247670\ttest: 0.2315548\tbest: 0.2312995 (85)\ttotal: 46.1s\tremaining: 52.7s\n",
      "140:\tlearn: 0.2247331\ttest: 0.2315724\tbest: 0.2312995 (85)\ttotal: 46.4s\tremaining: 52.4s\n",
      "141:\tlearn: 0.2246877\ttest: 0.2315481\tbest: 0.2312995 (85)\ttotal: 46.8s\tremaining: 52s\n",
      "142:\tlearn: 0.2246661\ttest: 0.2315493\tbest: 0.2312995 (85)\ttotal: 47.1s\tremaining: 51.7s\n",
      "143:\tlearn: 0.2246491\ttest: 0.2315515\tbest: 0.2312995 (85)\ttotal: 47.5s\tremaining: 51.4s\n",
      "144:\tlearn: 0.2246378\ttest: 0.2315542\tbest: 0.2312995 (85)\ttotal: 47.8s\tremaining: 51.1s\n",
      "145:\tlearn: 0.2246053\ttest: 0.2315577\tbest: 0.2312995 (85)\ttotal: 48.2s\tremaining: 50.8s\n",
      "146:\tlearn: 0.2245813\ttest: 0.2315645\tbest: 0.2312995 (85)\ttotal: 48.5s\tremaining: 50.5s\n",
      "147:\tlearn: 0.2245401\ttest: 0.2315717\tbest: 0.2312995 (85)\ttotal: 48.9s\tremaining: 50.2s\n",
      "148:\tlearn: 0.2245089\ttest: 0.2315608\tbest: 0.2312995 (85)\ttotal: 49.3s\tremaining: 49.9s\n",
      "149:\tlearn: 0.2244833\ttest: 0.2315687\tbest: 0.2312995 (85)\ttotal: 49.6s\tremaining: 49.6s\n",
      "150:\tlearn: 0.2244492\ttest: 0.2315549\tbest: 0.2312995 (85)\ttotal: 50s\tremaining: 49.3s\n",
      "151:\tlearn: 0.2244114\ttest: 0.2315499\tbest: 0.2312995 (85)\ttotal: 50.4s\tremaining: 49s\n",
      "152:\tlearn: 0.2243944\ttest: 0.2315459\tbest: 0.2312995 (85)\ttotal: 50.7s\tremaining: 48.7s\n",
      "153:\tlearn: 0.2243588\ttest: 0.2315381\tbest: 0.2312995 (85)\ttotal: 51s\tremaining: 48.4s\n",
      "154:\tlearn: 0.2243330\ttest: 0.2315570\tbest: 0.2312995 (85)\ttotal: 51.5s\tremaining: 48.1s\n",
      "155:\tlearn: 0.2243136\ttest: 0.2315548\tbest: 0.2312995 (85)\ttotal: 51.8s\tremaining: 47.8s\n",
      "156:\tlearn: 0.2242645\ttest: 0.2315857\tbest: 0.2312995 (85)\ttotal: 52.1s\tremaining: 47.5s\n",
      "157:\tlearn: 0.2242559\ttest: 0.2315902\tbest: 0.2312995 (85)\ttotal: 52.5s\tremaining: 47.2s\n",
      "158:\tlearn: 0.2242301\ttest: 0.2316066\tbest: 0.2312995 (85)\ttotal: 52.8s\tremaining: 46.8s\n",
      "159:\tlearn: 0.2242167\ttest: 0.2316202\tbest: 0.2312995 (85)\ttotal: 53.2s\tremaining: 46.5s\n",
      "160:\tlearn: 0.2241787\ttest: 0.2316450\tbest: 0.2312995 (85)\ttotal: 53.5s\tremaining: 46.2s\n",
      "161:\tlearn: 0.2241516\ttest: 0.2316501\tbest: 0.2312995 (85)\ttotal: 54s\tremaining: 46s\n",
      "162:\tlearn: 0.2241285\ttest: 0.2316457\tbest: 0.2312995 (85)\ttotal: 54.3s\tremaining: 45.6s\n",
      "163:\tlearn: 0.2241065\ttest: 0.2316489\tbest: 0.2312995 (85)\ttotal: 54.7s\tremaining: 45.3s\n",
      "164:\tlearn: 0.2240827\ttest: 0.2316515\tbest: 0.2312995 (85)\ttotal: 55s\tremaining: 45s\n",
      "165:\tlearn: 0.2240608\ttest: 0.2316434\tbest: 0.2312995 (85)\ttotal: 55.3s\tremaining: 44.7s\n",
      "166:\tlearn: 0.2240385\ttest: 0.2316293\tbest: 0.2312995 (85)\ttotal: 55.6s\tremaining: 44.3s\n",
      "167:\tlearn: 0.2239908\ttest: 0.2316278\tbest: 0.2312995 (85)\ttotal: 56s\tremaining: 44s\n",
      "168:\tlearn: 0.2239596\ttest: 0.2316347\tbest: 0.2312995 (85)\ttotal: 56.3s\tremaining: 43.7s\n",
      "169:\tlearn: 0.2239519\ttest: 0.2316302\tbest: 0.2312995 (85)\ttotal: 56.6s\tremaining: 43.3s\n",
      "170:\tlearn: 0.2239309\ttest: 0.2316202\tbest: 0.2312995 (85)\ttotal: 57s\tremaining: 43s\n",
      "171:\tlearn: 0.2239144\ttest: 0.2316207\tbest: 0.2312995 (85)\ttotal: 57.3s\tremaining: 42.6s\n",
      "172:\tlearn: 0.2238875\ttest: 0.2316199\tbest: 0.2312995 (85)\ttotal: 57.7s\tremaining: 42.4s\n",
      "173:\tlearn: 0.2238631\ttest: 0.2316070\tbest: 0.2312995 (85)\ttotal: 58s\tremaining: 42s\n",
      "174:\tlearn: 0.2238174\ttest: 0.2316046\tbest: 0.2312995 (85)\ttotal: 58.4s\tremaining: 41.7s\n",
      "175:\tlearn: 0.2237847\ttest: 0.2316182\tbest: 0.2312995 (85)\ttotal: 58.8s\tremaining: 41.4s\n",
      "176:\tlearn: 0.2237294\ttest: 0.2316295\tbest: 0.2312995 (85)\ttotal: 59.1s\tremaining: 41.1s\n",
      "177:\tlearn: 0.2237030\ttest: 0.2316313\tbest: 0.2312995 (85)\ttotal: 59.4s\tremaining: 40.7s\n",
      "178:\tlearn: 0.2236968\ttest: 0.2316313\tbest: 0.2312995 (85)\ttotal: 59.7s\tremaining: 40.3s\n",
      "179:\tlearn: 0.2236628\ttest: 0.2316356\tbest: 0.2312995 (85)\ttotal: 1m\tremaining: 40s\n",
      "180:\tlearn: 0.2236206\ttest: 0.2316360\tbest: 0.2312995 (85)\ttotal: 1m\tremaining: 39.7s\n",
      "181:\tlearn: 0.2236035\ttest: 0.2316433\tbest: 0.2312995 (85)\ttotal: 1m\tremaining: 39.4s\n",
      "182:\tlearn: 0.2235826\ttest: 0.2316552\tbest: 0.2312995 (85)\ttotal: 1m 1s\tremaining: 39s\n",
      "183:\tlearn: 0.2235640\ttest: 0.2316593\tbest: 0.2312995 (85)\ttotal: 1m 1s\tremaining: 38.7s\n",
      "184:\tlearn: 0.2235377\ttest: 0.2316882\tbest: 0.2312995 (85)\ttotal: 1m 1s\tremaining: 38.4s\n",
      "185:\tlearn: 0.2235010\ttest: 0.2316935\tbest: 0.2312995 (85)\ttotal: 1m 2s\tremaining: 38s\n",
      "186:\tlearn: 0.2234869\ttest: 0.2317091\tbest: 0.2312995 (85)\ttotal: 1m 2s\tremaining: 37.7s\n",
      "187:\tlearn: 0.2234527\ttest: 0.2317013\tbest: 0.2312995 (85)\ttotal: 1m 2s\tremaining: 37.4s\n",
      "188:\tlearn: 0.2234139\ttest: 0.2317040\tbest: 0.2312995 (85)\ttotal: 1m 3s\tremaining: 37.1s\n",
      "189:\tlearn: 0.2233813\ttest: 0.2317108\tbest: 0.2312995 (85)\ttotal: 1m 3s\tremaining: 36.8s\n",
      "190:\tlearn: 0.2233682\ttest: 0.2317155\tbest: 0.2312995 (85)\ttotal: 1m 3s\tremaining: 36.4s\n",
      "191:\tlearn: 0.2233457\ttest: 0.2317135\tbest: 0.2312995 (85)\ttotal: 1m 4s\tremaining: 36.1s\n",
      "192:\tlearn: 0.2233131\ttest: 0.2317280\tbest: 0.2312995 (85)\ttotal: 1m 4s\tremaining: 35.8s\n",
      "193:\tlearn: 0.2232822\ttest: 0.2317417\tbest: 0.2312995 (85)\ttotal: 1m 4s\tremaining: 35.5s\n",
      "194:\tlearn: 0.2232656\ttest: 0.2317419\tbest: 0.2312995 (85)\ttotal: 1m 5s\tremaining: 35.2s\n",
      "195:\tlearn: 0.2232287\ttest: 0.2317577\tbest: 0.2312995 (85)\ttotal: 1m 5s\tremaining: 34.8s\n",
      "196:\tlearn: 0.2232003\ttest: 0.2317642\tbest: 0.2312995 (85)\ttotal: 1m 5s\tremaining: 34.5s\n",
      "197:\tlearn: 0.2231828\ttest: 0.2317646\tbest: 0.2312995 (85)\ttotal: 1m 6s\tremaining: 34.2s\n",
      "198:\tlearn: 0.2231529\ttest: 0.2317681\tbest: 0.2312995 (85)\ttotal: 1m 6s\tremaining: 33.9s\n",
      "199:\tlearn: 0.2231228\ttest: 0.2317611\tbest: 0.2312995 (85)\ttotal: 1m 7s\tremaining: 33.5s\n",
      "200:\tlearn: 0.2230998\ttest: 0.2317593\tbest: 0.2312995 (85)\ttotal: 1m 7s\tremaining: 33.2s\n",
      "201:\tlearn: 0.2230823\ttest: 0.2317577\tbest: 0.2312995 (85)\ttotal: 1m 7s\tremaining: 32.9s\n",
      "202:\tlearn: 0.2230723\ttest: 0.2317694\tbest: 0.2312995 (85)\ttotal: 1m 8s\tremaining: 32.6s\n",
      "203:\tlearn: 0.2230361\ttest: 0.2317736\tbest: 0.2312995 (85)\ttotal: 1m 8s\tremaining: 32.2s\n",
      "204:\tlearn: 0.2230108\ttest: 0.2317705\tbest: 0.2312995 (85)\ttotal: 1m 8s\tremaining: 31.9s\n",
      "205:\tlearn: 0.2229777\ttest: 0.2317756\tbest: 0.2312995 (85)\ttotal: 1m 9s\tremaining: 31.6s\n",
      "206:\tlearn: 0.2229519\ttest: 0.2317883\tbest: 0.2312995 (85)\ttotal: 1m 9s\tremaining: 31.2s\n",
      "207:\tlearn: 0.2229169\ttest: 0.2317878\tbest: 0.2312995 (85)\ttotal: 1m 9s\tremaining: 30.9s\n",
      "208:\tlearn: 0.2228875\ttest: 0.2318103\tbest: 0.2312995 (85)\ttotal: 1m 10s\tremaining: 30.6s\n",
      "209:\tlearn: 0.2228624\ttest: 0.2318094\tbest: 0.2312995 (85)\ttotal: 1m 10s\tremaining: 30.2s\n",
      "210:\tlearn: 0.2228374\ttest: 0.2318201\tbest: 0.2312995 (85)\ttotal: 1m 10s\tremaining: 29.9s\n",
      "211:\tlearn: 0.2228067\ttest: 0.2318171\tbest: 0.2312995 (85)\ttotal: 1m 11s\tremaining: 29.6s\n",
      "212:\tlearn: 0.2227813\ttest: 0.2318161\tbest: 0.2312995 (85)\ttotal: 1m 11s\tremaining: 29.2s\n",
      "213:\tlearn: 0.2227646\ttest: 0.2318328\tbest: 0.2312995 (85)\ttotal: 1m 11s\tremaining: 28.9s\n",
      "214:\tlearn: 0.2227329\ttest: 0.2318260\tbest: 0.2312995 (85)\ttotal: 1m 12s\tremaining: 28.6s\n",
      "215:\tlearn: 0.2227100\ttest: 0.2318245\tbest: 0.2312995 (85)\ttotal: 1m 12s\tremaining: 28.2s\n",
      "216:\tlearn: 0.2226796\ttest: 0.2318308\tbest: 0.2312995 (85)\ttotal: 1m 12s\tremaining: 27.9s\n",
      "217:\tlearn: 0.2226596\ttest: 0.2318398\tbest: 0.2312995 (85)\ttotal: 1m 13s\tremaining: 27.6s\n",
      "218:\tlearn: 0.2226406\ttest: 0.2318401\tbest: 0.2312995 (85)\ttotal: 1m 13s\tremaining: 27.2s\n",
      "219:\tlearn: 0.2226116\ttest: 0.2318345\tbest: 0.2312995 (85)\ttotal: 1m 13s\tremaining: 26.9s\n",
      "220:\tlearn: 0.2225770\ttest: 0.2318186\tbest: 0.2312995 (85)\ttotal: 1m 14s\tremaining: 26.6s\n",
      "221:\tlearn: 0.2225432\ttest: 0.2318270\tbest: 0.2312995 (85)\ttotal: 1m 14s\tremaining: 26.2s\n",
      "222:\tlearn: 0.2225228\ttest: 0.2318293\tbest: 0.2312995 (85)\ttotal: 1m 14s\tremaining: 25.9s\n",
      "223:\tlearn: 0.2225020\ttest: 0.2318472\tbest: 0.2312995 (85)\ttotal: 1m 15s\tremaining: 25.5s\n",
      "224:\tlearn: 0.2224888\ttest: 0.2318438\tbest: 0.2312995 (85)\ttotal: 1m 15s\tremaining: 25.2s\n",
      "225:\tlearn: 0.2224599\ttest: 0.2318512\tbest: 0.2312995 (85)\ttotal: 1m 15s\tremaining: 24.9s\n",
      "226:\tlearn: 0.2224284\ttest: 0.2318827\tbest: 0.2312995 (85)\ttotal: 1m 16s\tremaining: 24.6s\n",
      "227:\tlearn: 0.2224093\ttest: 0.2318693\tbest: 0.2312995 (85)\ttotal: 1m 16s\tremaining: 24.2s\n",
      "228:\tlearn: 0.2223880\ttest: 0.2318671\tbest: 0.2312995 (85)\ttotal: 1m 17s\tremaining: 23.9s\n",
      "229:\tlearn: 0.2223556\ttest: 0.2319060\tbest: 0.2312995 (85)\ttotal: 1m 17s\tremaining: 23.5s\n",
      "230:\tlearn: 0.2223354\ttest: 0.2319011\tbest: 0.2312995 (85)\ttotal: 1m 17s\tremaining: 23.2s\n",
      "231:\tlearn: 0.2223121\ttest: 0.2319092\tbest: 0.2312995 (85)\ttotal: 1m 17s\tremaining: 22.8s\n",
      "232:\tlearn: 0.2222667\ttest: 0.2319066\tbest: 0.2312995 (85)\ttotal: 1m 18s\tremaining: 22.5s\n",
      "233:\tlearn: 0.2222374\ttest: 0.2319239\tbest: 0.2312995 (85)\ttotal: 1m 18s\tremaining: 22.2s\n",
      "234:\tlearn: 0.2222211\ttest: 0.2319284\tbest: 0.2312995 (85)\ttotal: 1m 18s\tremaining: 21.8s\n",
      "235:\tlearn: 0.2221915\ttest: 0.2319345\tbest: 0.2312995 (85)\ttotal: 1m 19s\tremaining: 21.5s\n",
      "236:\tlearn: 0.2221671\ttest: 0.2319360\tbest: 0.2312995 (85)\ttotal: 1m 19s\tremaining: 21.2s\n",
      "237:\tlearn: 0.2221523\ttest: 0.2319209\tbest: 0.2312995 (85)\ttotal: 1m 20s\tremaining: 20.8s\n",
      "238:\tlearn: 0.2221216\ttest: 0.2319318\tbest: 0.2312995 (85)\ttotal: 1m 20s\tremaining: 20.5s\n",
      "239:\tlearn: 0.2221163\ttest: 0.2319328\tbest: 0.2312995 (85)\ttotal: 1m 20s\tremaining: 20.2s\n",
      "240:\tlearn: 0.2220923\ttest: 0.2319460\tbest: 0.2312995 (85)\ttotal: 1m 20s\tremaining: 19.8s\n",
      "241:\tlearn: 0.2220666\ttest: 0.2319536\tbest: 0.2312995 (85)\ttotal: 1m 21s\tremaining: 19.5s\n",
      "242:\tlearn: 0.2220573\ttest: 0.2319540\tbest: 0.2312995 (85)\ttotal: 1m 21s\tremaining: 19.1s\n",
      "243:\tlearn: 0.2220281\ttest: 0.2319704\tbest: 0.2312995 (85)\ttotal: 1m 21s\tremaining: 18.8s\n",
      "244:\tlearn: 0.2220053\ttest: 0.2319763\tbest: 0.2312995 (85)\ttotal: 1m 22s\tremaining: 18.5s\n",
      "245:\tlearn: 0.2219968\ttest: 0.2319756\tbest: 0.2312995 (85)\ttotal: 1m 22s\tremaining: 18.2s\n",
      "246:\tlearn: 0.2219626\ttest: 0.2319694\tbest: 0.2312995 (85)\ttotal: 1m 23s\tremaining: 17.8s\n",
      "247:\tlearn: 0.2219502\ttest: 0.2319713\tbest: 0.2312995 (85)\ttotal: 1m 23s\tremaining: 17.5s\n",
      "248:\tlearn: 0.2219164\ttest: 0.2319680\tbest: 0.2312995 (85)\ttotal: 1m 23s\tremaining: 17.2s\n",
      "249:\tlearn: 0.2218793\ttest: 0.2319978\tbest: 0.2312995 (85)\ttotal: 1m 24s\tremaining: 16.8s\n",
      "250:\tlearn: 0.2218495\ttest: 0.2320132\tbest: 0.2312995 (85)\ttotal: 1m 24s\tremaining: 16.5s\n",
      "251:\tlearn: 0.2218271\ttest: 0.2320255\tbest: 0.2312995 (85)\ttotal: 1m 24s\tremaining: 16.2s\n",
      "252:\tlearn: 0.2218079\ttest: 0.2320355\tbest: 0.2312995 (85)\ttotal: 1m 25s\tremaining: 15.8s\n",
      "253:\tlearn: 0.2217866\ttest: 0.2320416\tbest: 0.2312995 (85)\ttotal: 1m 25s\tremaining: 15.5s\n",
      "254:\tlearn: 0.2217593\ttest: 0.2320472\tbest: 0.2312995 (85)\ttotal: 1m 25s\tremaining: 15.2s\n",
      "255:\tlearn: 0.2217414\ttest: 0.2320510\tbest: 0.2312995 (85)\ttotal: 1m 26s\tremaining: 14.8s\n",
      "256:\tlearn: 0.2217322\ttest: 0.2320543\tbest: 0.2312995 (85)\ttotal: 1m 26s\tremaining: 14.5s\n",
      "257:\tlearn: 0.2217086\ttest: 0.2320634\tbest: 0.2312995 (85)\ttotal: 1m 26s\tremaining: 14.2s\n",
      "258:\tlearn: 0.2216859\ttest: 0.2320735\tbest: 0.2312995 (85)\ttotal: 1m 27s\tremaining: 13.8s\n",
      "259:\tlearn: 0.2216716\ttest: 0.2320895\tbest: 0.2312995 (85)\ttotal: 1m 27s\tremaining: 13.5s\n",
      "260:\tlearn: 0.2216408\ttest: 0.2320875\tbest: 0.2312995 (85)\ttotal: 1m 27s\tremaining: 13.1s\n",
      "261:\tlearn: 0.2216135\ttest: 0.2321033\tbest: 0.2312995 (85)\ttotal: 1m 28s\tremaining: 12.8s\n",
      "262:\tlearn: 0.2216002\ttest: 0.2321072\tbest: 0.2312995 (85)\ttotal: 1m 28s\tremaining: 12.5s\n",
      "263:\tlearn: 0.2215702\ttest: 0.2321106\tbest: 0.2312995 (85)\ttotal: 1m 28s\tremaining: 12.1s\n",
      "264:\tlearn: 0.2215413\ttest: 0.2321108\tbest: 0.2312995 (85)\ttotal: 1m 29s\tremaining: 11.8s\n",
      "265:\tlearn: 0.2215095\ttest: 0.2321052\tbest: 0.2312995 (85)\ttotal: 1m 29s\tremaining: 11.5s\n",
      "266:\tlearn: 0.2214705\ttest: 0.2321108\tbest: 0.2312995 (85)\ttotal: 1m 30s\tremaining: 11.1s\n",
      "267:\tlearn: 0.2214389\ttest: 0.2321343\tbest: 0.2312995 (85)\ttotal: 1m 30s\tremaining: 10.8s\n",
      "268:\tlearn: 0.2214306\ttest: 0.2321431\tbest: 0.2312995 (85)\ttotal: 1m 30s\tremaining: 10.4s\n",
      "269:\tlearn: 0.2213921\ttest: 0.2321584\tbest: 0.2312995 (85)\ttotal: 1m 30s\tremaining: 10.1s\n",
      "270:\tlearn: 0.2213716\ttest: 0.2321646\tbest: 0.2312995 (85)\ttotal: 1m 31s\tremaining: 9.78s\n",
      "271:\tlearn: 0.2213419\ttest: 0.2321694\tbest: 0.2312995 (85)\ttotal: 1m 31s\tremaining: 9.44s\n",
      "272:\tlearn: 0.2213361\ttest: 0.2321713\tbest: 0.2312995 (85)\ttotal: 1m 32s\tremaining: 9.1s\n",
      "273:\tlearn: 0.2213067\ttest: 0.2321692\tbest: 0.2312995 (85)\ttotal: 1m 32s\tremaining: 8.77s\n",
      "274:\tlearn: 0.2212772\ttest: 0.2322000\tbest: 0.2312995 (85)\ttotal: 1m 32s\tremaining: 8.43s\n",
      "275:\tlearn: 0.2212643\ttest: 0.2322133\tbest: 0.2312995 (85)\ttotal: 1m 33s\tremaining: 8.09s\n",
      "276:\tlearn: 0.2212343\ttest: 0.2322170\tbest: 0.2312995 (85)\ttotal: 1m 33s\tremaining: 7.76s\n",
      "277:\tlearn: 0.2212073\ttest: 0.2322180\tbest: 0.2312995 (85)\ttotal: 1m 33s\tremaining: 7.42s\n",
      "278:\tlearn: 0.2211969\ttest: 0.2322216\tbest: 0.2312995 (85)\ttotal: 1m 34s\tremaining: 7.08s\n",
      "279:\tlearn: 0.2211661\ttest: 0.2322198\tbest: 0.2312995 (85)\ttotal: 1m 34s\tremaining: 6.74s\n",
      "280:\tlearn: 0.2211462\ttest: 0.2322156\tbest: 0.2312995 (85)\ttotal: 1m 34s\tremaining: 6.41s\n",
      "281:\tlearn: 0.2211279\ttest: 0.2322258\tbest: 0.2312995 (85)\ttotal: 1m 35s\tremaining: 6.07s\n",
      "282:\tlearn: 0.2211137\ttest: 0.2322398\tbest: 0.2312995 (85)\ttotal: 1m 35s\tremaining: 5.74s\n",
      "283:\tlearn: 0.2210716\ttest: 0.2322472\tbest: 0.2312995 (85)\ttotal: 1m 35s\tremaining: 5.4s\n",
      "284:\tlearn: 0.2210455\ttest: 0.2322715\tbest: 0.2312995 (85)\ttotal: 1m 36s\tremaining: 5.06s\n",
      "285:\tlearn: 0.2210071\ttest: 0.2322759\tbest: 0.2312995 (85)\ttotal: 1m 36s\tremaining: 4.73s\n",
      "286:\tlearn: 0.2209860\ttest: 0.2322827\tbest: 0.2312995 (85)\ttotal: 1m 36s\tremaining: 4.39s\n",
      "287:\tlearn: 0.2209628\ttest: 0.2322860\tbest: 0.2312995 (85)\ttotal: 1m 37s\tremaining: 4.06s\n",
      "288:\tlearn: 0.2209542\ttest: 0.2322971\tbest: 0.2312995 (85)\ttotal: 1m 37s\tremaining: 3.72s\n",
      "289:\tlearn: 0.2209338\ttest: 0.2323066\tbest: 0.2312995 (85)\ttotal: 1m 38s\tremaining: 3.38s\n",
      "290:\tlearn: 0.2209089\ttest: 0.2323070\tbest: 0.2312995 (85)\ttotal: 1m 38s\tremaining: 3.05s\n",
      "291:\tlearn: 0.2208939\ttest: 0.2323088\tbest: 0.2312995 (85)\ttotal: 1m 38s\tremaining: 2.71s\n",
      "292:\tlearn: 0.2208645\ttest: 0.2323103\tbest: 0.2312995 (85)\ttotal: 1m 39s\tremaining: 2.37s\n",
      "293:\tlearn: 0.2208451\ttest: 0.2323081\tbest: 0.2312995 (85)\ttotal: 1m 39s\tremaining: 2.03s\n",
      "294:\tlearn: 0.2208340\ttest: 0.2323075\tbest: 0.2312995 (85)\ttotal: 1m 39s\tremaining: 1.69s\n",
      "295:\tlearn: 0.2208193\ttest: 0.2323073\tbest: 0.2312995 (85)\ttotal: 1m 40s\tremaining: 1.35s\n",
      "296:\tlearn: 0.2208032\ttest: 0.2323108\tbest: 0.2312995 (85)\ttotal: 1m 40s\tremaining: 1.01s\n",
      "297:\tlearn: 0.2207626\ttest: 0.2323110\tbest: 0.2312995 (85)\ttotal: 1m 40s\tremaining: 677ms\n",
      "298:\tlearn: 0.2207442\ttest: 0.2323315\tbest: 0.2312995 (85)\ttotal: 1m 41s\tremaining: 339ms\n",
      "299:\tlearn: 0.2207181\ttest: 0.2323257\tbest: 0.2312995 (85)\ttotal: 1m 41s\tremaining: 0us\n",
      "\n",
      "bestTest = 0.2312994873\n",
      "bestIteration = 85\n",
      "\n",
      "Shrink model to first 86 iterations.\n"
     ]
    },
    {
     "data": {
      "text/plain": [
       "<catboost.core.CatBoostClassifier at 0x7f3fe1336358>"
      ]
     },
     "execution_count": 36,
     "metadata": {
      "tags": []
     },
     "output_type": "execute_result"
    }
   ],
   "source": [
    "Cat_model = CatBoostClassifier(iterations = 300, \n",
    "                                random_seed = SEED, \n",
    "                                task_type = 'CPU',\n",
    "                                learning_rate=0.3,\n",
    "                                reg_lambda =0.8,\n",
    "                                loss_function='Logloss',\n",
    "                                eval_metric='Logloss'\n",
    "                               )\n",
    "Cat_model.fit(X_train, Y_train,cat_features = categorical_features, eval_set = (X_test, Y_test), plot = False)"
   ]
  },
  {
   "cell_type": "code",
   "execution_count": null,
   "metadata": {
    "id": "U5kO-lWVAAq9",
    "outputId": "9851f34b-3243-42b5-d19c-1831c4477f5c"
   },
   "outputs": [
    {
     "name": "stdout",
     "output_type": "stream",
     "text": [
      "results\n",
      "------------------------------------------------------------------------------------------\n",
      "Derived Report\n",
      "------------------------------------------------------------------------------------------\n",
      "Precision     : 85.45%\n",
      "Recall        : 85.45%\n",
      "F1-Score      : 85.45%\n",
      "------------------------------------------------------------------------------------------\n",
      "\n",
      "\n",
      "\n"
     ]
    },
    {
     "data": {
      "image/png": "[encoded data removed]",
      "text/plain": [
       "<Figure size 720x576 with 1 Axes>"
      ]
     },
     "metadata": {
      "needs_background": "light",
      "tags": []
     },
     "output_type": "display_data"
    },
    {
     "name": "stdout",
     "output_type": "stream",
     "text": [
      "\n",
      "\n",
      "\n",
      "------------------------------------------------------------------------------------------\n",
      "------------------------------------------------------------------------------------------\n",
      "              precision    recall  f1-score   support\n",
      "\n",
      "  Response 0       0.93      0.91      0.92     82152\n",
      "  Response 1       0.25      0.28      0.27      8387\n",
      "\n",
      "    accuracy                           0.85     90539\n",
      "   macro avg       0.59      0.60      0.59     90539\n",
      "weighted avg       0.86      0.85      0.86     90539\n",
      "\n",
      "------------------------------------------------------------------------------------------\n"
     ]
    }
   ],
   "source": [
    "CM_CR(Cat_model,\"Cat Boost\")"
   ]
  },
  {
   "cell_type": "code",
   "execution_count": null,
   "metadata": {
    "colab": {
     "base_uri": "https://localhost:8080/",
     "height": 315
    },
    "id": "StKBT0qWQfMU",
    "outputId": "4ef546e9-3838-4f51-ad1a-82e5f8ceb3bc"
   },
   "outputs": [
    {
     "data": {
      "image/png": "[encoded data removed]",
      "text/plain": [
       "<Figure size 432x288 with 1 Axes>"
      ]
     },
     "metadata": {
      "needs_background": "light",
      "tags": []
     },
     "output_type": "display_data"
    },
    {
     "name": "stdout",
     "output_type": "stream",
     "text": [
      "Area under curve (AUC):  0.8436036793049837\n"
     ]
    }
   ],
   "source": [
    "plot_ROC(Cat_model,\"Cat Boost\")"
   ]
  },
  {
   "cell_type": "code",
   "execution_count": null,
   "metadata": {
    "colab": {
     "base_uri": "https://localhost:8080/",
     "height": 295
    },
    "id": "8xe8SU2pAAq9",
    "outputId": "dc7a4bec-d40a-4bb3-b7ac-0169665b0708"
   },
   "outputs": [
    {
     "data": {
      "image/png": "[encoded data removed]",
      "text/plain": [
       "<Figure size 432x288 with 1 Axes>"
      ]
     },
     "metadata": {
      "needs_background": "light",
      "tags": []
     },
     "output_type": "display_data"
    }
   ],
   "source": [
    "plot_learning_curve(Cat_model,\"Cat Boost\", X_train, Y_train, cv=None)"
   ]
  },
  {
   "cell_type": "markdown",
   "metadata": {
    "id": "5_KUz4y_vqdX"
   },
   "source": [
    "## Evaluation\n",
    "\n",
    "What we noticed is that the Catboost model, unlike the XGboost, didn’t over-predict the minority class (so it performs like the decision tree and the random forest). However, things changed when we used the best features.\n"
   ]
  },
  {
   "cell_type": "markdown",
   "metadata": {
    "id": "lSl1LU89a0fC"
   },
   "source": [
    "# Neural Network"
   ]
  },
  {
   "cell_type": "markdown",
   "metadata": {
    "id": "q4BiG9dnXctw"
   },
   "source": [
    "## Experimental Setup\n",
    "\n",
    "We will train a neural network on the training data for 25 epochs with mini-batch size as hyperparameter .\n",
    "\n",
    "The architecture is as follows:\n",
    "- Multiple hidden layer with units as hyperparameter, \n",
    "- One output layer preceded with one dropout layer and one batch normalization layer \n",
    "- The activation of the hidden layers is a Relu cause it does not activate all the neurons at the same time\n",
    "- The activation of the output layer is a Softmax because it converts the scores to a normalized probability distribution, which can be displayed to a user or used as input to other systems.\n",
    "- The loss function is a binary cross-entropy funtion\n",
    "- The optimizer of this model is adam because combines the best properties of the AdaGrad and RMSProp algorithms to provide an optimization algorithm that can handle sparse gradients on noisy problems.\n"
   ]
  },
  {
   "cell_type": "markdown",
   "metadata": {
    "id": "f7Y0vrRPXctw"
   },
   "source": [
    "## Hyperparameters Tuning"
   ]
  },
  {
   "cell_type": "markdown",
   "metadata": {
    "id": "pBandXGlXctw"
   },
   "source": [
    "We will tune the hyperparameters of the above architecture using random search by validating on the validation set. \n",
    "\n",
    "The hyperparameters that need to be tuned are:\n",
    "- Learning rates\n",
    "- Dropout rate\n",
    "- Number of hidden units\n",
    "- Mini-batch size\n",
    "- Learning rate decay\n",
    "- Number of layers\n",
    "\n",
    "We will be using random search to find the best parameters cause GridSearch is taking a huge ammount of time and we are going to implement our own random search"
   ]
  },
  {
   "cell_type": "code",
   "execution_count": null,
   "metadata": {
    "id": "LUCS_7oBXctw"
   },
   "outputs": [],
   "source": [
    "import keras.backend as K\n",
    "def get_f1(y_true, y_pred): #taken from old keras source code cause it doesnt support f1 anymore\n",
    "    true_positives = K.sum(K.round(K.clip(y_true * y_pred, 0, 1)))\n",
    "    possible_positives = K.sum(K.round(K.clip(y_true, 0, 1)))\n",
    "    predicted_positives = K.sum(K.round(K.clip(y_pred, 0, 1)))\n",
    "    precision = true_positives / (predicted_positives + K.epsilon())\n",
    "    recall = true_positives / (possible_positives + K.epsilon())\n",
    "    f1_val = 2*(precision*recall)/(precision+recall+K.epsilon())\n",
    "    return f1_val"
   ]
  },
  {
   "cell_type": "code",
   "execution_count": null,
   "metadata": {
    "id": "Ocf_kQmWXctw"
   },
   "outputs": [],
   "source": [
    "#The function that build the neural network given the random parameters\n",
    "import random\n",
    "def create_model(params):\n",
    "    model = keras.Sequential()\n",
    "    model.add(keras.layers.Dense(units = params['units'],activation = 'relu',input_shape = (xtrain.shape[1],))) \n",
    "    for i in range(params['layers']):\n",
    "        model.add(keras.layers.Dense(units = params['units'],activation = 'relu'))\n",
    "    model.add(keras.layers.BatchNormalization())\n",
    "    model.add(keras.layers.Dropout(params['dropout']))\n",
    "    model.add(keras.layers.Dense(1,activation='softmax'))\n",
    "    \n",
    "    opt = keras.optimizers.adam(lr=params['Learning Rate'], decay = params['decay'])                               \n",
    "    model.compile(optimizer = opt,loss='binary_crossentropy',metrics = ['accuracy',get_f1])\n",
    "    return model"
   ]
  },
  {
   "cell_type": "code",
   "execution_count": null,
   "metadata": {
    "id": "yKFc_CS7Xctw"
   },
   "outputs": [],
   "source": [
    "#The function that does the randomization given the parameters dictionnary\n",
    "#It fits models based on the <<num_iterations>> parameter and append these models to a list \n",
    "def random_search(params, num_iterations, xtrain, ytrain, xval, yval, epochs):\n",
    "    models = []\n",
    "    for i in range(num_iterations):\n",
    "        print(\"\\n\\n\\n Sample Number : \"+str(i+1))        \n",
    "        passing_params = {}\n",
    "        passing_params.update({'layers' : random.choice(params['layers'])})\n",
    "        passing_params.update({'Learning Rate' :random.choice(params['Learning Rate'])})\n",
    "        passing_params.update({'units' : random.choice(params['units'])})\n",
    "        passing_params.update({'batchSize' : random.choice(params['batchSize'])})\n",
    "        passing_params.update({'decay' : random.choice(params['decay'])})\n",
    "        passing_params.update({'dropout' : random.choice(params['dropout'])})\n",
    "        print('Batch Size : '+str(passing_params['batchSize']))\n",
    "        model = create_model(passing_params)\n",
    "        h = model.fit(xtrain,ytrain,validation_data=(xval,yval),\n",
    "                            batch_size=passing_params['batchSize'],epochs=epochs)\n",
    "        val_acc = h.history['val_accuracy'][-1]\n",
    "        get_f1 = h.history['get_f1'][-1]\n",
    "        models.append([str(passing_params),val_acc,get_f1,h,model])\n",
    "    return models"
   ]
  },
  {
   "cell_type": "code",
   "execution_count": null,
   "metadata": {
    "id": "Oa83jBtoXctw"
   },
   "outputs": [],
   "source": [
    "#The table of choosen values for parameter tuning\n",
    "params = { 'Learning Rate': [0.001, 0.25, 0.5, 0.4],\n",
    "          'dropout' : [0.2,0.1,0.3],\n",
    "          'batchSize' : [128,256,512,1024],\n",
    "          'decay': [0.055,0.003, 0.022, 0.001],\n",
    "          'layers' : [7,10,15],\n",
    "          'units' : [20,30,40,50]\n",
    "         }"
   ]
  },
  {
   "cell_type": "code",
   "execution_count": null,
   "metadata": {
    "id": "T0C9YVL9Xctw",
    "outputId": "7d8a0500-cfc1-488b-cca9-020d9f0dbd7e"
   },
   "outputs": [
    {
     "name": "stdout",
     "output_type": "stream",
     "text": [
      "\n",
      "\n",
      "\n",
      " Sample Number : 1\n",
      "Batch Size : 128\n",
      "Train on 526086 samples, validate on 131522 samples\n",
      "Epoch 1/15\n",
      "526086/526086 [==============================] - 59s 112us/step - loss: 7.6738 - accuracy: 0.4995 - get_f1: 0.6651 - val_loss: 7.5960 - val_accuracy: 0.5019 - val_get_f1: 0.6672\n",
      "Epoch 2/15\n",
      "526086/526086 [==============================] - 58s 110us/step - loss: 7.6738 - accuracy: 0.4995 - get_f1: 0.6651 - val_loss: 7.5960 - val_accuracy: 0.5019 - val_get_f1: 0.6672\n",
      "Epoch 3/15\n",
      "526086/526086 [==============================] - 61s 116us/step - loss: 7.6738 - accuracy: 0.4995 - get_f1: 0.6651 - val_loss: 7.5960 - val_accuracy: 0.5019 - val_get_f1: 0.6672\n",
      "Epoch 4/15\n",
      "526086/526086 [==============================] - 60s 115us/step - loss: 7.6738 - accuracy: 0.4995 - get_f1: 0.6650 - val_loss: 7.5960 - val_accuracy: 0.5019 - val_get_f1: 0.6672\n",
      "Epoch 5/15\n",
      "526086/526086 [==============================] - 60s 115us/step - loss: 7.6738 - accuracy: 0.4995 - get_f1: 0.6651 - val_loss: 7.5960 - val_accuracy: 0.5019 - val_get_f1: 0.6672\n",
      "Epoch 6/15\n",
      "526086/526086 [==============================] - 60s 114us/step - loss: 7.6738 - accuracy: 0.4995 - get_f1: 0.6651 - val_loss: 7.5960 - val_accuracy: 0.5019 - val_get_f1: 0.6672\n",
      "Epoch 7/15\n",
      "526086/526086 [==============================] - 61s 115us/step - loss: 7.6738 - accuracy: 0.4995 - get_f1: 0.6651 - val_loss: 7.5960 - val_accuracy: 0.5019 - val_get_f1: 0.6672\n",
      "Epoch 8/15\n",
      "526086/526086 [==============================] - 60s 114us/step - loss: 7.6738 - accuracy: 0.4995 - get_f1: 0.6651 - val_loss: 7.5960 - val_accuracy: 0.5019 - val_get_f1: 0.6672\n",
      "Epoch 9/15\n",
      "526086/526086 [==============================] - 62s 118us/step - loss: 7.6738 - accuracy: 0.4995 - get_f1: 0.6650 - val_loss: 7.5960 - val_accuracy: 0.5019 - val_get_f1: 0.6672\n",
      "Epoch 10/15\n",
      "526086/526086 [==============================] - 60s 113us/step - loss: 7.6738 - accuracy: 0.4995 - get_f1: 0.6650 - val_loss: 7.5960 - val_accuracy: 0.5019 - val_get_f1: 0.6672\n",
      "Epoch 11/15\n",
      "526086/526086 [==============================] - 60s 115us/step - loss: 7.6738 - accuracy: 0.4995 - get_f1: 0.6651 - val_loss: 7.5960 - val_accuracy: 0.5019 - val_get_f1: 0.6672\n",
      "Epoch 12/15\n",
      "526086/526086 [==============================] - 61s 117us/step - loss: 7.6738 - accuracy: 0.4995 - get_f1: 0.6651 - val_loss: 7.5960 - val_accuracy: 0.5019 - val_get_f1: 0.6672\n",
      "Epoch 13/15\n",
      "526086/526086 [==============================] - 59s 112us/step - loss: 7.6738 - accuracy: 0.4995 - get_f1: 0.6651 - val_loss: 7.5960 - val_accuracy: 0.5019 - val_get_f1: 0.6672\n",
      "Epoch 14/15\n",
      "526086/526086 [==============================] - 62s 117us/step - loss: 7.6738 - accuracy: 0.4995 - get_f1: 0.6651 - val_loss: 7.5960 - val_accuracy: 0.5019 - val_get_f1: 0.6672\n",
      "Epoch 15/15\n",
      "526086/526086 [==============================] - 61s 116us/step - loss: 7.6738 - accuracy: 0.4995 - get_f1: 0.6651 - val_loss: 7.5960 - val_accuracy: 0.5019 - val_get_f1: 0.6672\n",
      "\n",
      "\n",
      "\n",
      " Sample Number : 2\n",
      "Batch Size : 128\n",
      "Train on 526086 samples, validate on 131522 samples\n",
      "Epoch 1/15\n",
      "526086/526086 [==============================] - 73s 138us/step - loss: 7.6738 - accuracy: 0.4995 - get_f1: 0.6651 - val_loss: 7.5960 - val_accuracy: 0.5019 - val_get_f1: 0.6672\n",
      "Epoch 2/15\n",
      "526086/526086 [==============================] - 72s 137us/step - loss: 7.6738 - accuracy: 0.4995 - get_f1: 0.6651 - val_loss: 7.5960 - val_accuracy: 0.5019 - val_get_f1: 0.6672\n",
      "Epoch 3/15\n",
      "526086/526086 [==============================] - 70s 134us/step - loss: 7.6738 - accuracy: 0.4995 - get_f1: 0.6652 - val_loss: 7.5960 - val_accuracy: 0.5019 - val_get_f1: 0.6672\n",
      "Epoch 4/15\n",
      "526086/526086 [==============================] - 72s 137us/step - loss: 7.6738 - accuracy: 0.4995 - get_f1: 0.6652 - val_loss: 7.5960 - val_accuracy: 0.5019 - val_get_f1: 0.6672\n",
      "Epoch 5/15\n",
      "526086/526086 [==============================] - 74s 141us/step - loss: 7.6738 - accuracy: 0.4995 - get_f1: 0.6652 - val_loss: 7.5960 - val_accuracy: 0.5019 - val_get_f1: 0.6672\n",
      "Epoch 6/15\n",
      "526086/526086 [==============================] - 72s 137us/step - loss: 7.6738 - accuracy: 0.4995 - get_f1: 0.6651 - val_loss: 7.5960 - val_accuracy: 0.5019 - val_get_f1: 0.6672\n",
      "Epoch 7/15\n",
      "526086/526086 [==============================] - 72s 136us/step - loss: 7.6738 - accuracy: 0.4995 - get_f1: 0.6651 - val_loss: 7.5960 - val_accuracy: 0.5019 - val_get_f1: 0.6672\n",
      "Epoch 8/15\n",
      "526086/526086 [==============================] - 72s 136us/step - loss: 7.6738 - accuracy: 0.4995 - get_f1: 0.6651 - val_loss: 7.5960 - val_accuracy: 0.5019 - val_get_f1: 0.6672\n",
      "Epoch 9/15\n",
      "526086/526086 [==============================] - 71s 135us/step - loss: 7.6738 - accuracy: 0.4995 - get_f1: 0.6651 - val_loss: 7.5960 - val_accuracy: 0.5019 - val_get_f1: 0.6672\n",
      "Epoch 10/15\n",
      "526086/526086 [==============================] - 72s 138us/step - loss: 7.6738 - accuracy: 0.4995 - get_f1: 0.6652 - val_loss: 7.5960 - val_accuracy: 0.5019 - val_get_f1: 0.6672\n",
      "Epoch 11/15\n",
      "526086/526086 [==============================] - 71s 136us/step - loss: 7.6738 - accuracy: 0.4995 - get_f1: 0.6651 - val_loss: 7.5960 - val_accuracy: 0.5019 - val_get_f1: 0.6672\n",
      "Epoch 12/15\n",
      "526086/526086 [==============================] - 72s 137us/step - loss: 7.6738 - accuracy: 0.4995 - get_f1: 0.6651 - val_loss: 7.5960 - val_accuracy: 0.5019 - val_get_f1: 0.6672\n",
      "Epoch 13/15\n",
      "526086/526086 [==============================] - 68s 129us/step - loss: 7.6738 - accuracy: 0.4995 - get_f1: 0.6651 - val_loss: 7.5960 - val_accuracy: 0.5019 - val_get_f1: 0.6672\n",
      "Epoch 14/15\n",
      "526086/526086 [==============================] - 67s 127us/step - loss: 7.6738 - accuracy: 0.4995 - get_f1: 0.6651 - val_loss: 7.5960 - val_accuracy: 0.5019 - val_get_f1: 0.6672\n",
      "Epoch 15/15\n",
      "526086/526086 [==============================] - 68s 130us/step - loss: 7.6738 - accuracy: 0.4995 - get_f1: 0.6651 - val_loss: 7.5960 - val_accuracy: 0.5019 - val_get_f1: 0.6672\n",
      "\n",
      "\n",
      "\n",
      " Sample Number : 3\n",
      "Batch Size : 128\n",
      "Train on 526086 samples, validate on 131522 samples\n",
      "Epoch 1/15\n",
      "526086/526086 [==============================] - 68s 130us/step - loss: 7.6738 - accuracy: 0.4995 - get_f1: 0.6651 - val_loss: 7.5960 - val_accuracy: 0.5019 - val_get_f1: 0.6672\n",
      "Epoch 2/15\n",
      "526086/526086 [==============================] - 67s 126us/step - loss: 7.6738 - accuracy: 0.4995 - get_f1: 0.6651 - val_loss: 7.5960 - val_accuracy: 0.5019 - val_get_f1: 0.6672\n",
      "Epoch 3/15\n",
      "526086/526086 [==============================] - 67s 127us/step - loss: 7.6738 - accuracy: 0.4995 - get_f1: 0.6651 - val_loss: 7.5960 - val_accuracy: 0.5019 - val_get_f1: 0.6672\n",
      "Epoch 4/15\n",
      "526086/526086 [==============================] - 67s 127us/step - loss: 7.6738 - accuracy: 0.4995 - get_f1: 0.6652 - val_loss: 7.5960 - val_accuracy: 0.5019 - val_get_f1: 0.6672\n",
      "Epoch 5/15\n",
      "526086/526086 [==============================] - 68s 128us/step - loss: 7.6738 - accuracy: 0.4995 - get_f1: 0.6650 - val_loss: 7.5960 - val_accuracy: 0.5019 - val_get_f1: 0.6672\n",
      "Epoch 6/15\n",
      "526086/526086 [==============================] - 70s 134us/step - loss: 7.6738 - accuracy: 0.4995 - get_f1: 0.6650 - val_loss: 7.5960 - val_accuracy: 0.5019 - val_get_f1: 0.6672\n",
      "Epoch 7/15\n",
      "526086/526086 [==============================] - 70s 133us/step - loss: 7.6738 - accuracy: 0.4995 - get_f1: 0.6651 - val_loss: 7.5960 - val_accuracy: 0.5019 - val_get_f1: 0.6672\n",
      "Epoch 8/15\n",
      "526086/526086 [==============================] - 71s 134us/step - loss: 7.6738 - accuracy: 0.4995 - get_f1: 0.6650 - val_loss: 7.5960 - val_accuracy: 0.5019 - val_get_f1: 0.6672\n",
      "Epoch 9/15\n",
      "526086/526086 [==============================] - 70s 134us/step - loss: 7.6738 - accuracy: 0.4995 - get_f1: 0.6650 - val_loss: 7.5960 - val_accuracy: 0.5019 - val_get_f1: 0.6672\n",
      "Epoch 10/15\n",
      "526086/526086 [==============================] - 70s 133us/step - loss: 7.6738 - accuracy: 0.4995 - get_f1: 0.6651 - val_loss: 7.5960 - val_accuracy: 0.5019 - val_get_f1: 0.6672\n",
      "Epoch 11/15\n",
      "526086/526086 [==============================] - 70s 132us/step - loss: 7.6738 - accuracy: 0.4995 - get_f1: 0.6651 - val_loss: 7.5960 - val_accuracy: 0.5019 - val_get_f1: 0.6672\n",
      "Epoch 12/15\n",
      "526086/526086 [==============================] - 70s 132us/step - loss: 7.6738 - accuracy: 0.4995 - get_f1: 0.6651 - val_loss: 7.5960 - val_accuracy: 0.5019 - val_get_f1: 0.6672\n",
      "Epoch 13/15\n",
      "526086/526086 [==============================] - 71s 135us/step - loss: 7.6738 - accuracy: 0.4995 - get_f1: 0.6651 - val_loss: 7.5960 - val_accuracy: 0.5019 - val_get_f1: 0.6672\n",
      "Epoch 14/15\n",
      "526086/526086 [==============================] - 70s 134us/step - loss: 7.6738 - accuracy: 0.4995 - get_f1: 0.6651 - val_loss: 7.5960 - val_accuracy: 0.5019 - val_get_f1: 0.6672\n",
      "Epoch 15/15\n",
      "526086/526086 [==============================] - 70s 133us/step - loss: 7.6738 - accuracy: 0.4995 - get_f1: 0.6650 - val_loss: 7.5960 - val_accuracy: 0.5019 - val_get_f1: 0.6672\n",
      "\n",
      "\n",
      "\n",
      " Sample Number : 4\n",
      "Batch Size : 256\n",
      "Train on 526086 samples, validate on 131522 samples\n",
      "Epoch 1/15\n",
      "526086/526086 [==============================] - 27s 51us/step - loss: 7.6738 - accuracy: 0.4995 - get_f1: 0.6657 - val_loss: 7.5960 - val_accuracy: 0.5019 - val_get_f1: 0.6678\n",
      "Epoch 2/15\n",
      "526086/526086 [==============================] - 25s 47us/step - loss: 7.6738 - accuracy: 0.4995 - get_f1: 0.6656 - val_loss: 7.5960 - val_accuracy: 0.5019 - val_get_f1: 0.6678\n",
      "Epoch 3/15\n",
      "526086/526086 [==============================] - 26s 49us/step - loss: 7.6738 - accuracy: 0.4995 - get_f1: 0.6658 - val_loss: 7.5960 - val_accuracy: 0.5019 - val_get_f1: 0.6678\n",
      "Epoch 4/15\n",
      "526086/526086 [==============================] - 25s 47us/step - loss: 7.6738 - accuracy: 0.4995 - get_f1: 0.6656 - val_loss: 7.5960 - val_accuracy: 0.5019 - val_get_f1: 0.6678\n",
      "Epoch 5/15\n",
      "526086/526086 [==============================] - 25s 48us/step - loss: 7.6738 - accuracy: 0.4995 - get_f1: 0.6655 - val_loss: 7.5960 - val_accuracy: 0.5019 - val_get_f1: 0.6678\n",
      "Epoch 6/15\n",
      "526086/526086 [==============================] - 25s 47us/step - loss: 7.6738 - accuracy: 0.4995 - get_f1: 0.6657 - val_loss: 7.5960 - val_accuracy: 0.5019 - val_get_f1: 0.6678\n",
      "Epoch 7/15\n",
      "526086/526086 [==============================] - 25s 47us/step - loss: 7.6738 - accuracy: 0.4995 - get_f1: 0.6657 - val_loss: 7.5960 - val_accuracy: 0.5019 - val_get_f1: 0.6678\n",
      "Epoch 8/15\n",
      "526086/526086 [==============================] - 25s 48us/step - loss: 7.6738 - accuracy: 0.4995 - get_f1: 0.6657 - val_loss: 7.5960 - val_accuracy: 0.5019 - val_get_f1: 0.6678\n",
      "Epoch 9/15\n",
      "526086/526086 [==============================] - 25s 48us/step - loss: 7.6738 - accuracy: 0.4995 - get_f1: 0.6656 - val_loss: 7.5960 - val_accuracy: 0.5019 - val_get_f1: 0.6678\n",
      "Epoch 10/15\n",
      "526086/526086 [==============================] - 25s 48us/step - loss: 7.6738 - accuracy: 0.4995 - get_f1: 0.6656 - val_loss: 7.5960 - val_accuracy: 0.5019 - val_get_f1: 0.6678\n",
      "Epoch 11/15\n",
      "526086/526086 [==============================] - 28s 53us/step - loss: 7.6738 - accuracy: 0.4995 - get_f1: 0.6656 - val_loss: 7.5960 - val_accuracy: 0.5019 - val_get_f1: 0.6678\n",
      "Epoch 12/15\n",
      "526086/526086 [==============================] - 26s 49us/step - loss: 7.6738 - accuracy: 0.4995 - get_f1: 0.6658 - val_loss: 7.5960 - val_accuracy: 0.5019 - val_get_f1: 0.6678\n",
      "Epoch 13/15\n",
      "526086/526086 [==============================] - 27s 52us/step - loss: 7.6738 - accuracy: 0.4995 - get_f1: 0.6655 - val_loss: 7.5960 - val_accuracy: 0.5019 - val_get_f1: 0.6678\n",
      "Epoch 14/15\n",
      "526086/526086 [==============================] - 27s 51us/step - loss: 7.6738 - accuracy: 0.4995 - get_f1: 0.6656 - val_loss: 7.5960 - val_accuracy: 0.5019 - val_get_f1: 0.6678\n",
      "Epoch 15/15\n",
      "526086/526086 [==============================] - 28s 52us/step - loss: 7.6738 - accuracy: 0.4995 - get_f1: 0.6656 - val_loss: 7.5960 - val_accuracy: 0.5019 - val_get_f1: 0.6678\n",
      "\n",
      "\n",
      "\n",
      " Sample Number : 5\n",
      "Batch Size : 128\n",
      "Train on 526086 samples, validate on 131522 samples\n",
      "Epoch 1/15\n",
      "526086/526086 [==============================] - 69s 131us/step - loss: 7.6738 - accuracy: 0.4995 - get_f1: 0.6651 - val_loss: 7.5960 - val_accuracy: 0.5019 - val_get_f1: 0.6672\n",
      "Epoch 2/15\n",
      "526086/526086 [==============================] - 74s 141us/step - loss: 7.6738 - accuracy: 0.4995 - get_f1: 0.6652 - val_loss: 7.5960 - val_accuracy: 0.5019 - val_get_f1: 0.6672\n",
      "Epoch 3/15\n",
      "526086/526086 [==============================] - 66s 125us/step - loss: 7.6738 - accuracy: 0.4995 - get_f1: 0.6650 - val_loss: 7.5960 - val_accuracy: 0.5019 - val_get_f1: 0.6672\n",
      "Epoch 4/15\n",
      "526086/526086 [==============================] - 69s 131us/step - loss: 7.6738 - accuracy: 0.4995 - get_f1: 0.6650 - val_loss: 7.5960 - val_accuracy: 0.5019 - val_get_f1: 0.6672\n",
      "Epoch 5/15\n",
      "526086/526086 [==============================] - 70s 132us/step - loss: 7.6738 - accuracy: 0.4995 - get_f1: 0.6651 - val_loss: 7.5960 - val_accuracy: 0.5019 - val_get_f1: 0.6672\n",
      "Epoch 6/15\n",
      "526086/526086 [==============================] - 64s 121us/step - loss: 7.6738 - accuracy: 0.4995 - get_f1: 0.6651 - val_loss: 7.5960 - val_accuracy: 0.5019 - val_get_f1: 0.6672\n",
      "Epoch 7/15\n",
      "526086/526086 [==============================] - 66s 126us/step - loss: 7.6738 - accuracy: 0.4995 - get_f1: 0.6651 - val_loss: 7.5960 - val_accuracy: 0.5019 - val_get_f1: 0.6672\n",
      "Epoch 8/15\n",
      "526086/526086 [==============================] - 60s 115us/step - loss: 7.6738 - accuracy: 0.4995 - get_f1: 0.6651 - val_loss: 7.5960 - val_accuracy: 0.5019 - val_get_f1: 0.6672\n",
      "Epoch 9/15\n",
      "526086/526086 [==============================] - 59s 112us/step - loss: 7.6738 - accuracy: 0.4995 - get_f1: 0.6651 - val_loss: 7.5960 - val_accuracy: 0.5019 - val_get_f1: 0.6672\n",
      "Epoch 10/15\n",
      "526086/526086 [==============================] - 60s 115us/step - loss: 7.6738 - accuracy: 0.4995 - get_f1: 0.6650 - val_loss: 7.5960 - val_accuracy: 0.5019 - val_get_f1: 0.6672\n",
      "Epoch 11/15\n",
      "526086/526086 [==============================] - 59s 113us/step - loss: 7.6738 - accuracy: 0.4995 - get_f1: 0.6650 - val_loss: 7.5960 - val_accuracy: 0.5019 - val_get_f1: 0.6672\n",
      "Epoch 12/15\n",
      "526086/526086 [==============================] - 59s 112us/step - loss: 7.6738 - accuracy: 0.4995 - get_f1: 0.6651 - val_loss: 7.5960 - val_accuracy: 0.5019 - val_get_f1: 0.6672\n",
      "Epoch 13/15\n",
      "526086/526086 [==============================] - 58s 111us/step - loss: 7.6738 - accuracy: 0.4995 - get_f1: 0.6651 - val_loss: 7.5960 - val_accuracy: 0.5019 - val_get_f1: 0.6672\n",
      "Epoch 14/15\n",
      "526086/526086 [==============================] - 57s 108us/step - loss: 7.6738 - accuracy: 0.4995 - get_f1: 0.6650 - val_loss: 7.5960 - val_accuracy: 0.5019 - val_get_f1: 0.6672\n",
      "Epoch 15/15\n",
      "526086/526086 [==============================] - 57s 107us/step - loss: 7.6738 - accuracy: 0.4995 - get_f1: 0.6651 - val_loss: 7.5960 - val_accuracy: 0.5019 - val_get_f1: 0.6672\n"
     ]
    }
   ],
   "source": [
    "#Fitting the model using 15 epochs on 5 randmonized set of paremeters\n",
    "models = random_search(params,5 ,xtrain, ytrain, xval, yval, 15)"
   ]
  },
  {
   "cell_type": "code",
   "execution_count": null,
   "metadata": {
    "id": "tZPMkhmPXctx",
    "outputId": "45249a53-2408-4b9d-a108-53a7afaa5003"
   },
   "outputs": [
    {
     "name": "stdout",
     "output_type": "stream",
     "text": [
      "The highest accuracy is 50.1878023147583 and it corresponds to these following hyperparameters\n",
      "\n",
      "{'layers': 10, 'Learning Rate': 0.001, 'units': 40, 'batchSize': 128, 'decay': 0.003, 'dropout': 0.3}\n",
      "It's F-measure is 0.66511613\n"
     ]
    }
   ],
   "source": [
    "#This function is used to get the best model given the list of models generated earlier\n",
    "def getBest(models):\n",
    "    best_model_params = models[0][0]\n",
    "    maxAcc = models[0][1]*100\n",
    "    f = models[0][2]\n",
    "    h = models[0][3]\n",
    "    best_model = models[0][4]\n",
    "    for model in models:\n",
    "        if model[1]>maxAcc:\n",
    "            maxAcc = model[1]*100\n",
    "            best_model_params = model[0]\n",
    "            f = model[2]\n",
    "            h = model[3]\n",
    "            best_model = model[4]\n",
    "    return best_model_params, maxAcc, f, h, best_model\n",
    "parameters, accuracy, Fmeasure, history, model = getBest(models)\n",
    "print(\"The highest accuracy is\",accuracy,\"and it corresponds to these following hyperparameters\\n\")\n",
    "print(parameters)\n",
    "print(\"It's F-measure is\", Fmeasure)\n"
   ]
  },
  {
   "cell_type": "markdown",
   "metadata": {
    "id": "TqThU2lsXctx"
   },
   "source": [
    "## Evaluating the model using accuracy and Fmeasure"
   ]
  },
  {
   "cell_type": "markdown",
   "metadata": {
    "id": "Lycc05CiXctx"
   },
   "source": [
    "The neural network presented very low accuracy and Fmeasure. The low accuracy means that you are doing underfitting (high bias) and the low Fmeasure indicates both poor precision and poor recall. This  poor performance is due to poor training and overfitted and underfitted classes in the data because of SMOTE. We could conclude clearly that SMOTE after all isn't that good to deal with imbalanced data when it comes to neural networks"
   ]
  },
  {
   "cell_type": "markdown",
   "metadata": {
    "id": "hSdfzuVOXctx"
   },
   "source": [
    "## Visualize Model Training History"
   ]
  },
  {
   "cell_type": "markdown",
   "metadata": {
    "id": "bkwI5nuoXctx"
   },
   "source": [
    "Below is the plot of accuracy on the training and validation datasets over training epochs."
   ]
  },
  {
   "cell_type": "code",
   "execution_count": null,
   "metadata": {
    "id": "5NcwYxPrXctx",
    "outputId": "7c1cddba-3e74-4299-fbd9-bfa9611c4a88"
   },
   "outputs": [
    {
     "data": {
      "image/png": "[encoded data removed]",
      "text/plain": [
       "<Figure size 432x288 with 1 Axes>"
      ]
     },
     "metadata": {
      "needs_background": "light",
      "tags": []
     },
     "output_type": "display_data"
    }
   ],
   "source": [
    "plt.plot(history.history['accuracy'])\n",
    "plt.plot(history.history['val_accuracy'])\n",
    "plt.title('model accuracy')\n",
    "plt.ylabel('accuracy')\n",
    "plt.xlabel('epoch')\n",
    "plt.legend(['train', 'test'], loc='upper left')\n",
    "plt.show()"
   ]
  },
  {
   "cell_type": "markdown",
   "metadata": {
    "id": "mxrNZsvYXcty"
   },
   "source": [
    "From the plot of accuracy, we can see that the model must be trained differently and more epochs will not increase the performance since it didn't change during the whole training. This means the optimizer has found a local minimum for the loss. This may be an undesirable minimum. One common local minimum is to always predict the class with the most number of data points. It could also mean that the optimizer isn't fit for the data.\n",
    "\n",
    "We tried **many** combinations and many different architectures but nothing helped to get the best results. This might be because of the undersampling of the majority class and the oversampling of the minority class that happened when we used SMOTE."
   ]
  },
  {
   "cell_type": "markdown",
   "metadata": {
    "id": "FplaGnaqXcty"
   },
   "source": [
    "Below is the plot of loss on the training and validation datasets over training epochs."
   ]
  },
  {
   "cell_type": "code",
   "execution_count": null,
   "metadata": {
    "id": "Gm_rGG6VXcty",
    "outputId": "46326562-aa67-4455-8261-b87305b9e5af"
   },
   "outputs": [
    {
     "data": {
      "image/png": "[encoded data removed]",
      "text/plain": [
       "<Figure size 432x288 with 1 Axes>"
      ]
     },
     "metadata": {
      "needs_background": "light",
      "tags": []
     },
     "output_type": "display_data"
    }
   ],
   "source": [
    "# summarize history for loss\n",
    "plt.plot(history.history['loss'])\n",
    "plt.plot(history.history['val_loss'])\n",
    "plt.title('model loss')\n",
    "plt.ylabel('loss')\n",
    "plt.xlabel('epoch')\n",
    "plt.legend(['train', 'test'], loc='upper left')\n",
    "plt.show()"
   ]
  },
  {
   "cell_type": "markdown",
   "metadata": {
    "id": "_6Ytt1wtXcty"
   },
   "source": [
    "From the plot of loss, we can see that both validation and training loss are very high but very similar.\n",
    "Higher loss is the worse(bad prediction) for any model. The loss is calculated on training and validation and its interpretation is how well the model is doing for these two sets.\n",
    "If the model's prediction is perfect, the loss is zero; otherwise, the loss is greater.\n",
    "The loss in our model is very high indicating that the model isn't well-performing.\n",
    "From the other side, we see that the validation and training loss are very similar and that the validation loss is lower than the training loss and this is the result of data leakage because of SMOTE."
   ]
  },
  {
   "cell_type": "markdown",
   "metadata": {
    "id": "Wwm2xe7SXcty"
   },
   "source": [
    "## Evaluating the model using ROC and AUC"
   ]
  },
  {
   "cell_type": "markdown",
   "metadata": {
    "id": "g2_ZeSVVXcty"
   },
   "source": [
    "AUC - ROC curve is a performance measurement for classification problem at various thresholds settings. ROC is a probability curve and AUC represents degree or measure of separability. It tells how much model is capable of distinguishing between classes. Higher the AUC, better the model is at predicting 0s as 0s and 1s as 1s. "
   ]
  },
  {
   "cell_type": "markdown",
   "metadata": {
    "id": "1CqHke41Xcty"
   },
   "source": [
    "To make the plot looks more meaningful, let's train another binary classifier and compare it with our Keras classifier later in the same plot."
   ]
  },
  {
   "cell_type": "code",
   "execution_count": null,
   "metadata": {
    "id": "qowp5eiWXcty"
   },
   "outputs": [],
   "source": [
    "from sklearn.ensemble import RandomForestClassifier\n",
    "# Supervised transformation based on random forests\n",
    "rf = RandomForestClassifier(max_depth=3, n_estimators=10)\n",
    "rf.fit(X_train, y_train)\n",
    "\n",
    "y_pred_rf = rf.predict_proba(X_test)[:, 1]\n",
    "fpr_rf, tpr_rf, thresholds_rf = roc_curve(y_test, y_pred_rf)\n",
    "auc_rf = auc(fpr_rf, tpr_rf)"
   ]
  },
  {
   "cell_type": "markdown",
   "metadata": {
    "id": "t7UM05lNXcty"
   },
   "source": [
    "Now, let's plot the ROC for the two classifiers."
   ]
  },
  {
   "cell_type": "code",
   "execution_count": null,
   "metadata": {
    "id": "61mLijPUXcty"
   },
   "outputs": [],
   "source": [
    "y_pred = model.predict(X_test).ravel()\n",
    "fpr_keras, tpr_keras, thresholds_keras = roc_curve(y_test, y_pred)\n",
    "auc_keras = auc(fpr_keras, tpr_keras)"
   ]
  },
  {
   "cell_type": "code",
   "execution_count": null,
   "metadata": {
    "id": "6PAxCL93Xcty",
    "outputId": "13368805-ea07-49b4-d145-2bd1003fa3c4"
   },
   "outputs": [
    {
     "data": {
      "image/png": "[encoded data removed]",
      "text/plain": [
       "<Figure size 432x288 with 1 Axes>"
      ]
     },
     "metadata": {
      "needs_background": "light",
      "tags": []
     },
     "output_type": "display_data"
    }
   ],
   "source": [
    "plt.figure(1)\n",
    "plt.plot([0, 1], [0, 1], 'k--')\n",
    "plt.plot(fpr_keras, tpr_keras, label='Neural Network (area = {:.3f})'.format(auc_keras))\n",
    "plt.plot(fpr_rf, tpr_rf, label='RF (area = {:.3f})'.format(auc_rf))\n",
    "plt.xlabel('False positive rate')\n",
    "plt.ylabel('True positive rate')\n",
    "plt.title('ROC curve')\n",
    "plt.legend(loc='best')\n",
    "plt.show()"
   ]
  },
  {
   "cell_type": "markdown",
   "metadata": {
    "id": "kHaSXW1FXcty"
   },
   "source": [
    "With AUC=0.5, then the classifier is not able to distinguish between Positive and Negative class points. Meaning either the classifier is predicting random class or constant class for all the data points."
   ]
  },
  {
   "cell_type": "markdown",
   "metadata": {
    "id": "70evL3beFE0T"
   },
   "source": [
    "#KNN"
   ]
  },
  {
   "cell_type": "markdown",
   "metadata": {
    "id": "Tvbm0IjAFWnC"
   },
   "source": [
    "KNN algorithm is one of the simplest classification algorithm and it is one of the most used learning algorithms.KNN is a non-parametric, lazy learning algorithm. Its purpose is to use a database in which the data points are separated into several classes to predict the classification of a new sample point. The KNN algorithm works to classify new data based on its proximity to K-neighbors (training data). So if the new data is surrounded by training data that has Class 1, it can be concluded that the new data is included in Class."
   ]
  },
  {
   "cell_type": "markdown",
   "metadata": {
    "id": "4CZjrA8kFI95"
   },
   "source": [
    "##Experimental Setup"
   ]
  },
  {
   "cell_type": "markdown",
   "metadata": {
    "id": "xo3j7mX3FN2F"
   },
   "source": [
    "Parameters:\n",
    "\n",
    "n_neighbors\n",
    "\n",
    "Number of neighbors. We set the value from 3 to 10. We will choose later the most appropriate on the values passed to fit method.\n",
    "\n",
    "weights{‘uniform’, ‘distance’}\n",
    "\n",
    "We used both weights, which is kept for the randomSearch to choose which one is most appropriate on the values passed to fit method.\n",
    "\n",
    "algorithm\n",
    "\n",
    "we use the auto algo which will attempt to decide the most appropriate algorithm based on the values passed to fit method.\n",
    "\n",
    "Leaf_size\n",
    "\n",
    "This can affect the speed of the construction and query, as well as the memory required to store the tree. From 30,60 & 90, we will get the most appropriate value on the values passed to fit method, by the randomSearch.\n",
    "\n",
    "p\n",
    "\n",
    "Power parameter for the Minkowski metric. When p = 1, this is equivalent to using manhattan_distance (l1), and euclidean_distance (l2) for p = 2. We set the parameter for both values, we will get the most appropriate value on the values passed to fit method, by the randomSearch.\n",
    "\n",
    "n_jobs\n",
    "\n",
    "We used -1 value to use all processes while fitting."
   ]
  },
  {
   "cell_type": "code",
   "execution_count": null,
   "metadata": {
    "id": "pcEccYeYD9TZ"
   },
   "outputs": [],
   "source": [
    "#Grid Table for kNN\n",
    "kNN_parameters = {\n",
    "    \"n_neighbors\" : np.arange(3, 10),\n",
    "    \"weights\"     : ['uniform', 'distance'],    \n",
    "    \"leaf_size\"   : [30,60,90],\n",
    "    \"p\"           : [1,2]\n",
    "}\n",
    "n_jobs = -1"
   ]
  },
  {
   "cell_type": "markdown",
   "metadata": {
    "id": "MrBo384tGHBZ"
   },
   "source": [
    "We pass the Knn Parameters, after choosing our model (KNeighborsClassifier), then we run our random search using the parameters chosen before, with 3 random iterations and cv = 3. We used these small values inorder to finish the random search and fitting algo in the fastest time possible."
   ]
  },
  {
   "cell_type": "markdown",
   "metadata": {
    "id": "HkpqBDvlJNEi"
   },
   "source": [
    "##Hyper Parameters Tuning \n",
    "\n",
    "In machine learning, hyperparameter tuning is the problem of choosing a set of optimal hyperparameters for a learning algorithm. A hyperparameter is a parameter whose value is used to control the learning process. By contrast, the values of other parameters are learned."
   ]
  },
  {
   "cell_type": "code",
   "execution_count": null,
   "metadata": {
    "id": "dvr-sJeED9TZ"
   },
   "outputs": [],
   "source": [
    "knn = KNeighborsClassifier()\n",
    "clf = RandomizedSearchCV(knn,kNN_parameters,n_iter=3,n_jobs=-1,cv=3)\n",
    "kNN = clf.fit(X_train,Y_train)"
   ]
  },
  {
   "cell_type": "markdown",
   "metadata": {
    "id": "Ou3QzYWNGgSq"
   },
   "source": [
    "After finishing the fitting algorithm, we save the values in kNN variable, and then we interpret the result by printing them to the screen. We print the best estimator, best score, and best parameters in our to determine what are the parameters chosen by the random search funtion."
   ]
  },
  {
   "cell_type": "code",
   "execution_count": null,
   "metadata": {
    "id": "3mhPbuRvD9TZ",
    "outputId": "3eb0c25d-d871-4dea-9489-6e513fd089d5"
   },
   "outputs": [
    {
     "name": "stdout",
     "output_type": "stream",
     "text": [
      " Results from Random Search \n",
      "\n",
      " The best estimator across ALL searched params:\n",
      " KNeighborsClassifier(n_neighbors=4, weights='distance')\n",
      "\n",
      " The best score across ALL searched params:\n",
      " 0.8812864206242246\n",
      "\n",
      " The best parameters across ALL searched params:\n",
      " {'weights': 'distance', 'p': 2, 'n_neighbors': 4, 'leaf_size': 30}\n"
     ]
    }
   ],
   "source": [
    "print(\" Results from Random Search \" )\n",
    "print(\"\\n The best estimator across ALL searched params:\\n\", kNN.best_estimator_)\n",
    "print(\"\\n The best score across ALL searched params:\\n\", kNN.best_score_)\n",
    "print(\"\\n The best parameters across ALL searched params:\\n\", kNN.best_params_)"
   ]
  },
  {
   "cell_type": "markdown",
   "metadata": {
    "id": "L-CZavkBG-EF"
   },
   "source": [
    "Interpreting the results  \n",
    "\n",
    "1) We can determine that the hyper parameters chosen after the tuning process were {'weights': 'distance', 'p': 2, 'n_neighbors': 4, 'leaf_size': 30}.\n",
    "\n",
    "2) The best score across all search params chosen by the random search funtion, was 88%.\n",
    "\n",
    "3)We got the best estimator parameters n_neighbors = 4 and weights= \"distance\". The rest parameters weren't mentioned because they are chosen by default in the funtion."
   ]
  },
  {
   "cell_type": "markdown",
   "metadata": {
    "id": "DbGvUtzhJXhb"
   },
   "source": [
    "## Evaluating using Confusion Matrix"
   ]
  },
  {
   "cell_type": "markdown",
   "metadata": {
    "id": "TfH6PIvGcuAG"
   },
   "source": [
    "We use the predict function in the model class to predict the values gained by the fitting function with the Input_testing data.\n",
    "\n",
    "We use the accuracy_score function to get the accuracy of our model."
   ]
  },
  {
   "cell_type": "code",
   "execution_count": null,
   "metadata": {
    "id": "-LCUMDsrD9Tb"
   },
   "outputs": [],
   "source": [
    "knn_predict = kNN.predict(X_test)\n",
    "knn_accuracy = accuracy_score(Y_test, knn_predict)"
   ]
  },
  {
   "cell_type": "code",
   "execution_count": null,
   "metadata": {
    "id": "anurnMnZD9Tb",
    "outputId": "74e589d1-6647-4eb0-9eb6-34a677e766fc"
   },
   "outputs": [
    {
     "name": "stdout",
     "output_type": "stream",
     "text": [
      "Accuracy is:  0.790532256817504 \n",
      "\n",
      "KNN Reports\n",
      "               precision    recall  f1-score   support\n",
      "\n",
      "           0       0.94      0.82      0.88     82266\n",
      "           1       0.21      0.46      0.29      8273\n",
      "\n",
      "    accuracy                           0.79     90539\n",
      "   macro avg       0.57      0.64      0.58     90539\n",
      "weighted avg       0.87      0.79      0.82     90539\n",
      "\n"
     ]
    },
    {
     "data": {
      "image/png": "[encoded data removed]",
      "text/plain": [
       "<Figure size 432x288 with 2 Axes>"
      ]
     },
     "metadata": {
      "needs_background": "light",
      "tags": []
     },
     "output_type": "display_data"
    }
   ],
   "source": [
    "import seaborn as sns\n",
    "\n",
    "print('Accuracy is: ',knn_accuracy, '\\n')\n",
    "cm = confusion_matrix(Y_test,knn_predict)\n",
    "sns.heatmap(cm,annot=True,fmt=\"d\")\n",
    "\n",
    "print('KNN Reports\\n',classification_report(Y_test, knn_predict))\n"
   ]
  },
  {
   "cell_type": "markdown",
   "metadata": {
    "id": "7jS36BvOViK-"
   },
   "source": [
    "In our confusion matrix we can determine that False-Negative & False-Positive are crucial. We can determine that the F-scores for response 0 is high where the values is 0.88 indicating perfect precision and recall. For the second value we can determine that the F-score value for the response 1 is low which is 0.29 indicating low precision and recall. But we can notice that the accuracy of our model is 0.79 which means it has a good accuracy. "
   ]
  },
  {
   "cell_type": "markdown",
   "metadata": {
    "id": "J88oFbQNU-EU"
   },
   "source": [
    "## Evaluating using ROC"
   ]
  },
  {
   "cell_type": "code",
   "execution_count": null,
   "metadata": {
    "colab": {
     "base_uri": "https://localhost:8080/",
     "height": 295
    },
    "executionInfo": {
     "elapsed": 19147,
     "status": "ok",
     "timestamp": 1606348264932,
     "user": {
      "displayName": "Dany Tarabay",
      "photoUrl": "",
      "userId": "09758121906366027834"
     },
     "user_tz": -120
    },
    "id": "H_w_GCltyBcA",
    "outputId": "0c16ac5b-79c8-4246-eeba-1484b7b04ef5"
   },
   "outputs": [
    {
     "data": {
      "image/png": "[encoded data removed]",
      "text/plain": [
       "<Figure size 432x288 with 1 Axes>"
      ]
     },
     "metadata": {
      "needs_background": "light",
      "tags": []
     },
     "output_type": "display_data"
    }
   ],
   "source": [
    "import sklearn.metrics as metrics\n",
    "import matplotlib.pyplot as plt\n",
    "\n",
    "probs = kNN.predict_proba(X_test)\n",
    "preds = probs[:,1]\n",
    "fpr, tpr, threshold = metrics.roc_curve(Y_test, preds)\n",
    "roc_auc = metrics.auc(fpr, tpr)\n",
    "\n",
    "\n",
    "\n",
    "plt.title('ROC for KNN')\n",
    "plt.plot(fpr, tpr, 'b', label = 'AUC = %0.2f' % roc_auc)\n",
    "plt.legend(loc = 'lower right')\n",
    "plt.plot([0, 1], [0, 1],'r--')\n",
    "plt.xlim([0, 1])\n",
    "plt.ylim([0, 1])\n",
    "plt.ylabel('True Positive Rate')\n",
    "plt.xlabel('False Positive Rate')\n",
    "plt.show()"
   ]
  },
  {
   "cell_type": "markdown",
   "metadata": {
    "id": "czjrQPrrUkyo"
   },
   "source": [
    "In general, we use the following rule of thumb:\n",
    "And the AUC value as determined from the graph, is 0.71 this value means our descrimination is acceptable."
   ]
  },
  {
   "cell_type": "markdown",
   "metadata": {
    "id": "s_imi_QKyLuP"
   },
   "source": [
    "# Conclusion\n",
    "\n",
    "Decision treee classifiers performed way better then other models and this is because of the binary classification nature of the problem. Using SMOT was helpful to help balance the data but it created another problem of overfitting for some classes and underfitting for others which led to a huge decrease in some other models performance such as neural networks.\n",
    "We hope that by fitting the models on the features found after performing feature selection they will improve their performance.\n",
    "\n",
    "The main issue with the current model is despite the acceptable accuracy and Fmeasure, the huge ammount of false positives predicted by most of our models is a major drawback for these models."
   ]
  }
 ],
 "metadata": {
  "colab": {
   "name": "Training on all data.ipynb",
   "provenance": []
  },
  "kernelspec": {
   "display_name": "Python 3",
   "language": "python",
   "name": "python3"
  },
  "language_info": {
   "codemirror_mode": {
    "name": "ipython",
    "version": 3
   },
   "file_extension": ".py",
   "mimetype": "text/x-python",
   "name": "python",
   "nbconvert_exporter": "python",
   "pygments_lexer": "ipython3",
   "version": "3.7.4"
  }
 },
 "nbformat": 4,
 "nbformat_minor": 1
}
