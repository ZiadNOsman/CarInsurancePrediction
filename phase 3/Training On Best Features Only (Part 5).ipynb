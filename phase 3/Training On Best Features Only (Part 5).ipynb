{
 "cells": [
  {
   "cell_type": "markdown",
   "metadata": {
    "id": "q19Q7XnrRgP-"
   },
   "source": [
    "# Introduction\n",
    "\n",
    "In this Notebook, we will attempt to train multiple models and choose the best one based on the following matrices:\n",
    "\n",
    "* Accuracy.\n",
    "* F-score.\n",
    "* Receiver operating characteristic (ROC) and Area under the ROC Curve (AUC).\n",
    "* Confusion Matrix\n",
    "\n",
    "The models that we are going to fit are the following:\n",
    "\n",
    "* Bagging Decision Tree\n",
    "* Random Forest\n",
    "* XBoost\n",
    "* CATBoost\n",
    "* Neural Network\n",
    "* kNN\n",
    "\n",
    "The data used for training, testing and validation is cleaned, transformed, encoded using dummy encoder, and scaled as per Phase 2. \n",
    "The dataset file is 'Final Data.csv' provided in the Datasets directory in project phase 2 submission. From this data we choose the best features already found in Phase 2 using feature engineering and dimensionality reduction and chose to fit our model on these columns only. The columns are the following:\n",
    "\n",
    "'Age',\n",
    "'Annual_Premium',\n",
    "'Vehicle_Damage_Yes',\n",
    "'Vintage',\n",
    "'Policy_Sales_Channel',\n",
    "'Gender_Male',\n",
    "'Gender_Female',\n",
    "'Vehicle_Age_Ordinal'"
   ]
  },
  {
   "cell_type": "markdown",
   "metadata": {
    "id": "DcGBbeZmUjCT"
   },
   "source": [
    "# Understanding the Data Limitation\n",
    "\n",
    "The majority of our columns were **categorical**, which is why in Phase 2 we relied heavily on **dummy encoding**. This raised the number of columns we had to **16**. Now, in Phase 3, we are facing another issue with our data: the majority class.\n",
    "\n",
    "The problem we are trying to solve is a binary classification problem, but seeing as the **ratio of negative response to positive response is 10:1** in our dataset, we had to find a solution.\n",
    "\n",
    "First, we ran our models on the dataset as is, to make a baseline (so we can see how much our modified datasets improve the results).\n",
    "\n",
    "Next, we tried cost-sensitive learning (by assigning a higher weight to the positive response).\n",
    "\n",
    "This method produced marginally better results, not enough to call it a real improvement and certainly not enough to call a good model. Instead, we tried using SMOTE.\n",
    "\n",
    "This modified our datasets to a new dataset with no majority class. The resulting models were satisfying, but better changes could have been implemented if not for the time constraints (cost-sensitive ensembles, probabilistic predictions, meta-learning…).\n",
    "\n",
    "Even though the use of SMOTE should eliminate the concept of “minority” and “majority classes, we observed that all our models predicted what was previously the majority class (the negative response) much better. This is what led us to believe that SMOTE was not sophisticated enough to fix our large imbalance issue.\n",
    "\n",
    "\n",
    "**In addition**, due to the small size of features we used the best features only we faced other problems. The small amount of parameters may cause underfitting for some models and it happened, especially when it comes to neural networks.\n"
   ]
  },
  {
   "cell_type": "markdown",
   "metadata": {
    "id": "h-sSRbs8Wtfd"
   },
   "source": [
    "# Imports"
   ]
  },
  {
   "cell_type": "code",
   "execution_count": null,
   "metadata": {
    "id": "hsjD1_yFWk0K"
   },
   "outputs": [],
   "source": [
    "import nltk\n",
    "import keras\n",
    "import sklearn\n",
    "import xgboost\n",
    "import numpy as np\n",
    "import pandas as pd\n",
    "import seaborn as sns\n",
    "import tensorflow as tf\n",
    "import matplotlib.pyplot as plt\n",
    "from keras.optimizers import SGD\n",
    "from xgboost import XGBClassifier\n",
    "from imblearn.pipeline import Pipeline\n",
    "from imblearn.over_sampling import SMOTE\n",
    "from sklearn.ensemble import BaggingClassifier\n",
    "from tensorflow.python.client import device_lib\n",
    "from sklearn.tree import DecisionTreeClassifier\n",
    "from mlxtend.plotting import plot_confusion_matrix\n",
    "from sklearn.linear_model import LogisticRegression\n",
    "from sklearn.ensemble import RandomForestClassifier\n",
    "from sklearn.model_selection import train_test_split as tts\n",
    "from sklearn.model_selection import learning_curve,train_test_split,StratifiedKFold, KFold, GridSearchCV,RepeatedStratifiedKFold,cross_val_score\n",
    "from sklearn.metrics import precision_score,confusion_matrix, accuracy_score,f1_score, roc_auc_score,auc, roc_curve, recall_score,log_loss,classification_report, make_scorer\n",
    "#reproducibility\n",
    "SEED=6"
   ]
  },
  {
   "cell_type": "markdown",
   "metadata": {
    "id": "3yLGZm-DY9Eo"
   },
   "source": [
    "# Writing Some Functions for later usage\n",
    "\n",
    "These functions will help in visualizing the learning curve, ROC, and confusion matrix"
   ]
  },
  {
   "cell_type": "code",
   "execution_count": null,
   "metadata": {
    "id": "ogeoH3EoZSsh"
   },
   "outputs": [],
   "source": [
    "def plot_ROC(model,model_name):\n",
    "    with tf.device('/gpu:0'):\n",
    "        Y_score = model.predict_proba(X_test)[:,1]\n",
    "    fpr, tpr, _ = roc_curve(Y_test, Y_score)\n",
    "    plt.plot(fpr,tpr)\n",
    "    plt.plot((0,1), ls='dashed',color='black')\n",
    "    plt.title(str(model_name)+' ROC curve')\n",
    "    plt.xlabel('False Positive Rate')\n",
    "    plt.ylabel('True Positive Rate')\n",
    "    plt.show()\n",
    "    print ('Area under curve (AUC): ', auc(fpr,tpr))"
   ]
  },
  {
   "cell_type": "code",
   "execution_count": null,
   "metadata": {
    "id": "PN1r5v8zZVdo"
   },
   "outputs": [],
   "source": [
    "def CM_CR(model,model_name):\n",
    "    classes = [\"Response 0\", \"Response 1\"]\n",
    "\n",
    "    print(\"results\")\n",
    "    \n",
    "    with tf.device('/gpu:0'):\n",
    "        y_pred = model.predict(X_test)\n",
    "    precision = precision_score(Y_test, y_pred,average='micro') \n",
    "    recall = recall_score(Y_test, y_pred,average='micro')\n",
    "    f1 = f1_score(Y_test, y_pred,average='micro')\n",
    "    print(\"-\"*90)\n",
    "    print(\"Derived Report\")\n",
    "    print(\"-\"*90)\n",
    "    print(\"%s%.2f%s\"% (\"Precision     : \", precision*100, \"%\"))\n",
    "    print(\"%s%.2f%s\"% (\"Recall        : \", recall*100,    \"%\"))\n",
    "    print(\"%s%.2f%s\"% (\"F1-Score      : \", f1*100,        \"%\"))\n",
    "    print(\"-\"*90)\n",
    "    print(\"\\n\\n\")\n",
    "\n",
    "    CM = confusion_matrix(Y_test, y_pred)\n",
    "\n",
    "    fig, ax = plot_confusion_matrix(conf_mat=CM ,  figsize=(10,8), hide_ticks=True,cmap=plt.cm.Blues)\n",
    "    plt.xticks(range(len(classes)), classes, fontsize=12)\n",
    "    plt.yticks(range(len(classes)), classes, fontsize=12)\n",
    "    plt.title(\"Confusion Matrix for: \"+ str(model_name)+ \"\\n\", fontsize=20)\n",
    "    plt.show()\n",
    "\n",
    "\n",
    "    cls_report_print = classification_report(Y_test, y_pred, target_names=classes)\n",
    "\n",
    "    cls_report = classification_report(Y_test, y_pred, target_names=classes, output_dict=True)\n",
    "\n",
    "    print(\"\\n\\n\")\n",
    "    print(\"-\"*90)\n",
    "    print(\"-\"*90)\n",
    "    print(cls_report_print)\n",
    "    print(\"-\"*90)"
   ]
  },
  {
   "cell_type": "code",
   "execution_count": null,
   "metadata": {
    "id": "iqimG4-aZYhY"
   },
   "outputs": [],
   "source": [
    "def plot_learning_curve(estimator, title, X, y, ylim=None, cv=None,\n",
    "                        n_jobs=-1, train_sizes=np.linspace(.1, 1.0, 5)):\n",
    "    \n",
    "    plt.figure()\n",
    "    plt.title(title)\n",
    "    if ylim is not None:\n",
    "        plt.ylim(*ylim)\n",
    "    plt.xlabel(\"Training examples\")\n",
    "    plt.ylabel(\"Score\")\n",
    "    with tf.device('/gpu:0'): \n",
    "        train_sizes, train_scores, test_scores = learning_curve(\n",
    "            estimator, X, y, cv=cv, n_jobs=n_jobs, train_sizes=train_sizes)\n",
    "        train_scores_mean = 1- np.mean(train_scores, axis=1)\n",
    "        test_scores_mean = 1-np.mean(test_scores, axis=1)\n",
    "        plt.grid()\n",
    "        plt.plot(train_sizes, train_scores_mean, 'o-', color=\"r\",\n",
    "                 label=\"Training score\")\n",
    "        plt.plot(train_sizes, test_scores_mean, 'o-', color=\"g\",\n",
    "                 label=\"Cross-validation score\")\n",
    "        plt.legend(bbox_to_anchor=(1.05, 1), loc='upper left', borderaxespad=0.)\n",
    "\n",
    "        plt.show()\n",
    "\n",
    "\n",
    "# cv = ShuffleSplit(n_splits=5, test_size=0.4, random_state=0)"
   ]
  },
  {
   "cell_type": "markdown",
   "metadata": {
    "id": "clyRllwGXctw"
   },
   "source": [
    "# Import, split Data and Apply SMOTE"
   ]
  },
  {
   "cell_type": "markdown",
   "metadata": {
    "id": "EzGbfujGXctw"
   },
   "source": [
    "A problem with imbalanced classification is that there are too few examples of the minority class for a model to effectively learn the decision boundary, to overcome this drawback we use SMOTE.\n",
    "\n",
    "SMOTE works by selecting examples that are close in the feature space, drawing a line between the examples in the feature space and drawing a new sample at a point along that line."
   ]
  },
  {
   "cell_type": "code",
   "execution_count": null,
   "metadata": {
    "id": "rYd3WAmgXctw"
   },
   "outputs": [],
   "source": [
    "df=pd.read_csv('Final Data.csv')\n",
    "\n",
    "y=df.Response"
   ]
  },
  {
   "cell_type": "code",
   "execution_count": null,
   "metadata": {
    "id": "k8scVzzxqHUE"
   },
   "outputs": [],
   "source": [
    "#Getting best features from phase 2\n",
    "X = df[[\n",
    "'Age',\n",
    "'Annual_Premium',\n",
    "'Vehicle_Damage_Yes',\n",
    "'Vintage',\n",
    "'Policy_Sales_Channel',\n",
    "'Gender_Male',\n",
    "'Gender_Female',\n",
    "'Vehicle_Age_Ordinal'\n",
    "]]"
   ]
  },
  {
   "cell_type": "markdown",
   "metadata": {
    "id": "IDSstUR1Xctw"
   },
   "source": [
    "Spliting data into 80% train and 20% test"
   ]
  },
  {
   "cell_type": "code",
   "execution_count": null,
   "metadata": {
    "id": "CXz0S0zmXctw"
   },
   "outputs": [],
   "source": [
    "X_train,X_test,Y_train,y_test = tts(X,y,test_size= 0.20,random_state=42,shuffle=True)"
   ]
  },
  {
   "cell_type": "markdown",
   "metadata": {
    "id": "gPRaWJNRXctw"
   },
   "source": [
    "Applying SMOTE on training set only to avoid data leakage"
   ]
  },
  {
   "cell_type": "code",
   "execution_count": null,
   "metadata": {
    "id": "OYRsvOYeXctw"
   },
   "outputs": [],
   "source": [
    "X_train, y_train = SMOTE().fit_resample(X_train, Y_train)"
   ]
  },
  {
   "cell_type": "markdown",
   "metadata": {
    "id": "z-B-g2xDXctw"
   },
   "source": [
    "Spliting train data into 80% training and 20% validation. "
   ]
  },
  {
   "cell_type": "code",
   "execution_count": null,
   "metadata": {
    "id": "2Q4TJNpTXctw"
   },
   "outputs": [],
   "source": [
    "xtrain, xval, ytrain, yval = tts(X_train,y_train,test_size=0.2)"
   ]
  },
  {
   "cell_type": "markdown",
   "metadata": {
    "id": "CfPwy3dLOvFU"
   },
   "source": [
    "# Bagging Decision Tree (BaggingClassifier)"
   ]
  },
  {
   "cell_type": "markdown",
   "metadata": {
    "id": "DGyNEnygkqlJ"
   },
   "source": [
    "## Experimental Setup\n",
    "\n",
    "A Bagging classifier is an ensemble meta-estimator that fits base classifiers each on random subsets of the original dataset and then aggregate their individual predictions (either by voting or by averaging) to form a final prediction. Such a meta-estimator can typically be used as a way to reduce the variance of a black-box estimator (e.g., a decision tree), by introducing randomization into its construction procedure and then making an ensemble out of it."
   ]
  },
  {
   "cell_type": "markdown",
   "metadata": {
    "id": "zcqJHR5sk29m"
   },
   "source": [
    "## Hyperparameter tuning\n",
    "\n",
    "We are performing an exhaustive search over specified parameter values for an estimator. The parameters used are found in sclearn documentation of BaggingClassifier, and we didn't use all parameters cause grid search uses a lot of time to get the best combination of parameters.\n",
    "\n",
    "Why **n_estimators** ?\n",
    "\n",
    "Because it's one of the most important parameters in decision trees, it's the number of base estimators in the ensemble.\n",
    "\n",
    "*We only used this parameter in this grid search cause we already demonstrated that fitting other parameters on other models performed better than on the bagging classifier and because grid search takes a lot of time to run we preferred  investing this time on other models.*  "
   ]
  },
  {
   "cell_type": "code",
   "execution_count": null,
   "metadata": {
    "colab": {
     "base_uri": "https://localhost:8080/"
    },
    "id": "vL8hTJeoOvFU",
    "outputId": "c6a60597-258e-4020-dc58-898b2976321d"
   },
   "outputs": [
    {
     "name": "stdout",
     "output_type": "stream",
     "text": [
      "Fitting 10 folds for each of 3 candidates, totalling 30 fits\n"
     ]
    },
    {
     "name": "stderr",
     "output_type": "stream",
     "text": [
      "[Parallel(n_jobs=-1)]: Using backend LokyBackend with 2 concurrent workers.\n",
      "/usr/local/lib/python3.6/dist-packages/joblib/externals/loky/process_executor.py:691: UserWarning: A worker stopped while some jobs were given to the executor. This can be caused by a too short worker timeout or by a memory leak.\n",
      "  \"timeout or by a memory leak.\", UserWarning\n",
      "[Parallel(n_jobs=-1)]: Done  30 out of  30 | elapsed: 85.5min finished\n"
     ]
    },
    {
     "data": {
      "text/plain": [
       "GridSearchCV(cv=StratifiedKFold(n_splits=10, random_state=6, shuffle=True),\n",
       "             error_score=nan,\n",
       "             estimator=BaggingClassifier(base_estimator=None, bootstrap=True,\n",
       "                                         bootstrap_features=False,\n",
       "                                         max_features=1.0, max_samples=1.0,\n",
       "                                         n_estimators=10, n_jobs=None,\n",
       "                                         oob_score=False, random_state=6,\n",
       "                                         verbose=0, warm_start=False),\n",
       "             iid='deprecated', n_jobs=-1,\n",
       "             param_grid={'n_estimators': [50, 100, 200]},\n",
       "             pre_dispatch='2*n_jobs', refit=True, return_train_score=False,\n",
       "             scoring='accuracy', verbose=1)"
      ]
     },
     "execution_count": 28,
     "metadata": {
      "tags": []
     },
     "output_type": "execute_result"
    }
   ],
   "source": [
    "n_estimators=[50,100,200]\n",
    "\n",
    "params =dict(n_estimators=n_estimators)\n",
    "kfold = StratifiedKFold(n_splits=10, shuffle=True, random_state=SEED)\n",
    "\n",
    "GS_Bagging = GridSearchCV(BaggingClassifier(random_state=SEED),scoring='accuracy', param_grid=params, verbose=1, cv=kfold,n_jobs=-1)\n",
    "GS_Bagging.fit(X_train, Y_train)"
   ]
  },
  {
   "cell_type": "code",
   "execution_count": null,
   "metadata": {
    "colab": {
     "base_uri": "https://localhost:8080/"
    },
    "id": "VLtjzb0tOvFU",
    "outputId": "e931042d-688e-4102-e12c-1135b88d0941"
   },
   "outputs": [
    {
     "name": "stdout",
     "output_type": "stream",
     "text": [
      "Best params {'n_estimators': 200} yielded 0.9074358923545829 accuracy\n"
     ]
    }
   ],
   "source": [
    "print('Best params',GS_Bagging.best_params_,'yielded',GS_Bagging.best_score_,'accuracy')"
   ]
  },
  {
   "cell_type": "code",
   "execution_count": null,
   "metadata": {
    "colab": {
     "base_uri": "https://localhost:8080/"
    },
    "id": "pvKUit9iOvFU",
    "outputId": "f84e73f2-0ee0-4461-ea6f-decfe8fcda6c"
   },
   "outputs": [
    {
     "data": {
      "text/plain": [
       "BaggingClassifier(base_estimator=None, bootstrap=True, bootstrap_features=False,\n",
       "                  max_features=1.0, max_samples=1.0, n_estimators=200,\n",
       "                  n_jobs=None, oob_score=False, random_state=6, verbose=0,\n",
       "                  warm_start=False)"
      ]
     },
     "execution_count": 31,
     "metadata": {
      "tags": []
     },
     "output_type": "execute_result"
    }
   ],
   "source": [
    "BC=BaggingClassifier(random_state=SEED,n_estimators=200)\n",
    "BC.fit(X_train,Y_train)"
   ]
  },
  {
   "cell_type": "code",
   "execution_count": null,
   "metadata": {
    "colab": {
     "base_uri": "https://localhost:8080/",
     "height": 1000
    },
    "id": "kX0z6ufpOvFV",
    "outputId": "40f10877-3d9e-4cf3-8da3-72edd6e12d35"
   },
   "outputs": [
    {
     "name": "stdout",
     "output_type": "stream",
     "text": [
      "results\n",
      "------------------------------------------------------------------------------------------\n",
      "Derived Report\n",
      "------------------------------------------------------------------------------------------\n",
      "Precision     : 84.34%\n",
      "Recall        : 84.34%\n",
      "F1-Score      : 84.34%\n",
      "------------------------------------------------------------------------------------------\n",
      "\n",
      "\n",
      "\n"
     ]
    },
    {
     "data": {
      "image/png": "[encoded data removed]",
      "text/plain": [
       "<Figure size 720x576 with 1 Axes>"
      ]
     },
     "metadata": {
      "needs_background": "light",
      "tags": []
     },
     "output_type": "display_data"
    },
    {
     "name": "stdout",
     "output_type": "stream",
     "text": [
      "\n",
      "\n",
      "\n",
      "------------------------------------------------------------------------------------------\n",
      "------------------------------------------------------------------------------------------\n",
      "              precision    recall  f1-score   support\n",
      "\n",
      "  Response 0       0.93      0.90      0.91     82152\n",
      "  Response 1       0.23      0.29      0.26      8387\n",
      "\n",
      "    accuracy                           0.84     90539\n",
      "   macro avg       0.58      0.60      0.59     90539\n",
      "weighted avg       0.86      0.84      0.85     90539\n",
      "\n",
      "------------------------------------------------------------------------------------------\n"
     ]
    }
   ],
   "source": [
    "CM_CR(BC,\"BaggingClassifier\")"
   ]
  },
  {
   "cell_type": "code",
   "execution_count": null,
   "metadata": {
    "id": "Gl2s_ICIOvFV",
    "outputId": "2726b080-43cd-45bc-fc0b-0b3ea5ce4fba"
   },
   "outputs": [
    {
     "data": {
      "image/png": "[encoded data removed]",
      "text/plain": [
       "<Figure size 432x288 with 1 Axes>"
      ]
     },
     "metadata": {
      "needs_background": "light",
      "tags": []
     },
     "output_type": "display_data"
    },
    {
     "name": "stdout",
     "output_type": "stream",
     "text": [
      "Area under curve (AUC):  0.8104611748774934\n"
     ]
    }
   ],
   "source": [
    "plot_ROC(BC,\"BaggingClassifier\")"
   ]
  },
  {
   "cell_type": "code",
   "execution_count": null,
   "metadata": {
    "id": "LHY5Qv16OvFV",
    "outputId": "d31f3b6a-7053-4eb3-e9a1-b2a479681424"
   },
   "outputs": [
    {
     "data": {
      "image/png": "[encoded data removed]",
      "text/plain": [
       "<Figure size 432x288 with 1 Axes>"
      ]
     },
     "metadata": {
      "needs_background": "light",
      "tags": []
     },
     "output_type": "display_data"
    }
   ],
   "source": [
    "plot_learning_curve(BC,\"BaggingClassifier\", X_train, Y_train, cv=None)"
   ]
  },
  {
   "cell_type": "markdown",
   "metadata": {
    "id": "Bb5JzCyKqpYM"
   },
   "source": [
    "## Evaluation\n",
    "\n",
    "Similar to the bagging classifier trained on all the features we had the same issue of performing really poorly on the minority class.\n",
    "\n",
    "Using just the best features produced virtually the same results and even very similar learning curves and AUC, this could imply two things:\n",
    "\n",
    "The model wasn’t overfitting in the first place (using all features), so in reducing it to just the best features we didn’t get better results\n",
    "The model, using either the best features or all features, isn’t learning enough (as implied by the learning curves using best features and all features), and so it is producing equally sub-par results.\n",
    "Note: these reasons apply for all “best features” models, since all of them performed really similarly to their counterparts where we used all features.\n"
   ]
  },
  {
   "cell_type": "markdown",
   "metadata": {
    "id": "Q0vOd_-oOvFU"
   },
   "source": [
    "# Random Forest"
   ]
  },
  {
   "cell_type": "markdown",
   "metadata": {
    "id": "42wqnWa3b_0N"
   },
   "source": [
    "## Experimental Setup\n",
    "\n",
    "A random forest is a meta estimator that fits a number of decision tree classifiers on various sub-samples of the dataset and uses averaging to improve the predictive accuracy and control over-fitting.\n",
    "\n",
    "The sub-sample size is controlled with the max_samples parameter if bootstrap=True (default), otherwise the whole dataset is used to build each tree. "
   ]
  },
  {
   "cell_type": "markdown",
   "metadata": {
    "id": "crlEOfOqAAq5"
   },
   "source": [
    "## Hyperparameter tuning\n",
    "\n",
    "We are performing an exhaustive search over specified parameter values for an estimator. The parameters used are found in sclearn documentation of  RandomForestClassifier, and we didn't use all parameters cause grid search uses a lot of time to get the best combination of parameters.\n",
    "\n",
    "### Why these parameters\n",
    "**Criterion** is the function to measure the quality of a split. Supported criteria are “gini” for the Gini impurity and “entropy” for the information gain.\n",
    "\n",
    "**n_estimators** is the number of trees in forest\n",
    "\n",
    "**min_samples_split** is minimum number of samples required to split an internal node"
   ]
  },
  {
   "cell_type": "code",
   "execution_count": null,
   "metadata": {
    "id": "aLzZGM0QOvFU"
   },
   "outputs": [],
   "source": [
    "criterion = ['gini', 'entropy']\n",
    "n_estimators=[20,40,60]\n",
    "# max_features=['auto', 'sqrt']\n",
    "min_samples_leaf=[1,2]\n",
    "\n",
    "\n",
    "#max_depth=[6,10]\n",
    "#depth of the tree, might not be useful in our case since our data is huge \n",
    "#and we arent suffering from overfitting\n",
    "\n",
    "params =dict(criterion=criterion,\n",
    "            n_estimators=n_estimators,\n",
    "             min_samples_leaf=min_samples_leaf\n",
    "#            max_features=max_features,\n",
    "#             max_depth=max_depth\n",
    "            )\n",
    "\n",
    "kfold = StratifiedKFold(n_splits=10, shuffle=True, random_state=SEED)\n",
    "\n",
    "GS_RF = GridSearchCV(RandomForestClassifier(random_state=SEED), param_grid=params, verbose=1, cv=kfold,n_jobs=-1)\n",
    "GS_RF.fit(X_train, Y_train)"
   ]
  },
  {
   "cell_type": "code",
   "execution_count": null,
   "metadata": {
    "id": "U9LqgN-SOvFU"
   },
   "outputs": [],
   "source": [
    "#finding best parameters\n",
    "print('Best params',GS_RF.best_params_,'yielded',GS_RF.best_score_,'accuracy')"
   ]
  },
  {
   "cell_type": "code",
   "execution_count": null,
   "metadata": {
    "colab": {
     "base_uri": "https://localhost:8080/"
    },
    "id": "KxyY86J_OvFU",
    "outputId": "4decc34a-4da5-48e1-c2b7-6ce8442a9b1a"
   },
   "outputs": [
    {
     "data": {
      "text/plain": [
       "RandomForestClassifier(bootstrap=True, ccp_alpha=0.0, class_weight=None,\n",
       "                       criterion='gini', max_depth=None, max_features='auto',\n",
       "                       max_leaf_nodes=None, max_samples=None,\n",
       "                       min_impurity_decrease=0.0, min_impurity_split=None,\n",
       "                       min_samples_leaf=1, min_samples_split=2,\n",
       "                       min_weight_fraction_leaf=0.0, n_estimators=60, n_jobs=-1,\n",
       "                       oob_score=False, random_state=6, verbose=0,\n",
       "                       warm_start=False)"
      ]
     },
     "execution_count": 25,
     "metadata": {
      "tags": []
     },
     "output_type": "execute_result"
    }
   ],
   "source": [
    "#fit with best parameters\n",
    "RF=RandomForestClassifier(criterion='gini',min_samples_leaf=1,n_estimators=60,random_state=SEED,n_jobs=-1)\n",
    "RF.fit(X_train, Y_train)"
   ]
  },
  {
   "cell_type": "code",
   "execution_count": null,
   "metadata": {
    "colab": {
     "base_uri": "https://localhost:8080/",
     "height": 1000
    },
    "id": "kazIZU00OvFU",
    "outputId": "ed07ee03-89b5-40f6-d2a5-926a3b62ad26"
   },
   "outputs": [
    {
     "name": "stdout",
     "output_type": "stream",
     "text": [
      "results\n",
      "------------------------------------------------------------------------------------------\n",
      "Derived Report\n",
      "------------------------------------------------------------------------------------------\n",
      "Precision     : 84.25%\n",
      "Recall        : 84.25%\n",
      "F1-Score      : 84.25%\n",
      "------------------------------------------------------------------------------------------\n",
      "\n",
      "\n",
      "\n"
     ]
    },
    {
     "data": {
      "image/png": "[encoded data removed]",
      "text/plain": [
       "<Figure size 720x576 with 1 Axes>"
      ]
     },
     "metadata": {
      "needs_background": "light",
      "tags": []
     },
     "output_type": "display_data"
    },
    {
     "name": "stdout",
     "output_type": "stream",
     "text": [
      "\n",
      "\n",
      "\n",
      "------------------------------------------------------------------------------------------\n",
      "------------------------------------------------------------------------------------------\n",
      "              precision    recall  f1-score   support\n",
      "\n",
      "  Response 0       0.93      0.90      0.91     82152\n",
      "  Response 1       0.24      0.32      0.27      8387\n",
      "\n",
      "    accuracy                           0.84     90539\n",
      "   macro avg       0.58      0.61      0.59     90539\n",
      "weighted avg       0.86      0.84      0.85     90539\n",
      "\n",
      "------------------------------------------------------------------------------------------\n"
     ]
    }
   ],
   "source": [
    "CM_CR(RF,\"Random Forest\")"
   ]
  },
  {
   "cell_type": "code",
   "execution_count": null,
   "metadata": {
    "colab": {
     "base_uri": "https://localhost:8080/",
     "height": 312
    },
    "id": "kihifsO4OvFU",
    "outputId": "277cf5c7-8ef6-44a6-f467-584e81caa5c5"
   },
   "outputs": [
    {
     "data": {
      "image/png": "[encoded data removed]",
      "text/plain": [
       "<Figure size 432x288 with 1 Axes>"
      ]
     },
     "metadata": {
      "needs_background": "light",
      "tags": []
     },
     "output_type": "display_data"
    },
    {
     "name": "stdout",
     "output_type": "stream",
     "text": [
      "Area under curve (AUC):  0.7986121662499928\n"
     ]
    }
   ],
   "source": [
    "plot_ROC(RF,\"RF\")"
   ]
  },
  {
   "cell_type": "code",
   "execution_count": null,
   "metadata": {
    "id": "NrhpeOLXOvFU",
    "outputId": "38d8dc67-67fc-429c-a4fa-8e3f8271959a"
   },
   "outputs": [
    {
     "data": {
      "image/png": "[encoded data removed]",
      "text/plain": [
       "<Figure size 432x288 with 1 Axes>"
      ]
     },
     "metadata": {
      "needs_background": "light",
      "tags": []
     },
     "output_type": "display_data"
    }
   ],
   "source": [
    "plot_learning_curve(RF, 'Random Forest', X_train, Y_train, cv=None)"
   ]
  },
  {
   "cell_type": "markdown",
   "metadata": {
    "id": "BlLrTdrdsA8K"
   },
   "source": [
    "## Evaluation\n",
    "\n",
    "Comparing between the model fitted on all features and this model we find virtually no difference. If anything, the confusion matrix of all features had slightly better results, but both sub-par and similar. (Same reasons as the decision trees model apply)"
   ]
  },
  {
   "cell_type": "markdown",
   "metadata": {
    "id": "sU9fJVQGOvFV"
   },
   "source": [
    "# XGBoost"
   ]
  },
  {
   "cell_type": "markdown",
   "metadata": {
    "id": "I12i1O8PrVMB"
   },
   "source": [
    "## Experimental Setup\n",
    "\n",
    "XGBoost is an optimized distributed gradient boosting library designed to be highly efficient, flexible and portable. It implements machine learning algorithms under the Gradient Boosting framework. XGBoost provides a parallel tree boosting (also known as GBDT, GBM) that solve many data science problems in a fast and accurate way. The same code runs on major distributed environment (Hadoop, SGE, MPI) and can solve problems beyond billions of examples."
   ]
  },
  {
   "cell_type": "markdown",
   "metadata": {
    "id": "nPi6jMN6rVMB"
   },
   "source": [
    "## Hyperparameter tuning\n",
    "\n",
    "We are performing an exhaustive search over specified parameter values for an estimator. The parameters used are found in sclearn documentation of  RandomForestClassifier, and we didn't use all parameters cause grid search uses a lot of time to get the best combination of parameters.\n",
    "\n",
    "### kFold Validation\n",
    "\n",
    "In, we are using Stratified KFold with 10 splits for validation to improve the performance of our model and help the model fit better and to give an unbiased estimate of the skill of the final tuned model when comparing or selecting between final models "
   ]
  },
  {
   "cell_type": "code",
   "execution_count": null,
   "metadata": {
    "colab": {
     "base_uri": "https://localhost:8080/"
    },
    "id": "nvq_3nJyOvFV",
    "outputId": "6ffb0c44-0d5e-4402-a80d-f7894da2dbd4"
   },
   "outputs": [
    {
     "name": "stdout",
     "output_type": "stream",
     "text": [
      "Fitting 10 folds for each of 8 candidates, totalling 80 fits\n"
     ]
    },
    {
     "name": "stderr",
     "output_type": "stream",
     "text": [
      "[Parallel(n_jobs=-1)]: Using backend LokyBackend with 2 concurrent workers.\n",
      "[Parallel(n_jobs=-1)]: Done  46 tasks      | elapsed: 14.7min\n",
      "[Parallel(n_jobs=-1)]: Done  80 out of  80 | elapsed: 25.4min finished\n"
     ]
    },
    {
     "data": {
      "text/plain": [
       "GridSearchCV(cv=StratifiedKFold(n_splits=10, random_state=6, shuffle=True),\n",
       "             error_score=nan,\n",
       "             estimator=XGBClassifier(base_score=0.5, booster='gbtree',\n",
       "                                     colsample_bylevel=1, colsample_bynode=1,\n",
       "                                     colsample_bytree=1, gamma=0,\n",
       "                                     learning_rate=0.1, max_delta_step=0,\n",
       "                                     max_depth=3, min_child_weight=1,\n",
       "                                     missing=None, n_estimators=100, n_jobs=1,\n",
       "                                     nthread=None, objective='binary:logistic',\n",
       "                                     random_state=6, reg_alpha=0, reg_lambda=1,\n",
       "                                     scale_pos_weight=1, seed=None, silent=None,\n",
       "                                     subsample=1, verbosity=1),\n",
       "             iid='deprecated', n_jobs=-1,\n",
       "             param_grid={'learning_rate': [0.15, 0.3], 'reg_alpha': [0.8, 1.2],\n",
       "                         'reg_lambda': [0.8, 1.2]},\n",
       "             pre_dispatch='2*n_jobs', refit=True, return_train_score=False,\n",
       "             scoring='accuracy', verbose=1)"
      ]
     },
     "execution_count": 33,
     "metadata": {
      "tags": []
     },
     "output_type": "execute_result"
    }
   ],
   "source": [
    "#L2 regularization term on weights. Increasing this value will make model more conservative.\n",
    "reg_lambda = [0.8, 1.2]\n",
    "\n",
    "#L1 regularization term on weights. Increasing this value will make model more conservative.\n",
    "reg_alpha=[0.8, 1.2]\n",
    "\n",
    "learning_rate=[0.15,0.3]\n",
    "\n",
    "#n_estimators=[100,200]\n",
    "\n",
    "params =dict(reg_lambda=reg_lambda,\n",
    "            reg_alpha=reg_alpha,\n",
    "            learning_rate=learning_rate,\n",
    "#            n_estimators=n_estimators\n",
    "            )\n",
    "\n",
    "kfold = StratifiedKFold(n_splits=10, shuffle=True, random_state=SEED)\n",
    "\n",
    "GS_XGB = GridSearchCV(XGBClassifier(random_state=SEED), param_grid=params, verbose=1, cv=kfold,scoring='accuracy',n_jobs=-1)\n",
    "GS_XGB.fit(X_train, Y_train)"
   ]
  },
  {
   "cell_type": "code",
   "execution_count": null,
   "metadata": {
    "colab": {
     "base_uri": "https://localhost:8080/"
    },
    "id": "yjngAziVOvFV",
    "outputId": "7756b54b-7b71-42b4-8c8b-0b7f8e141e82"
   },
   "outputs": [
    {
     "name": "stdout",
     "output_type": "stream",
     "text": [
      "Best params {'learning_rate': 0.3, 'reg_alpha': 0.8, 'reg_lambda': 0.8} yielded 0.8543041101971907 accuracy\n"
     ]
    }
   ],
   "source": [
    "print('Best params',GS_XGB.best_params_,'yielded',GS_XGB.best_score_,'accuracy')"
   ]
  },
  {
   "cell_type": "code",
   "execution_count": null,
   "metadata": {
    "colab": {
     "base_uri": "https://localhost:8080/"
    },
    "id": "vF5_qGarnsyQ",
    "outputId": "8bf31b96-e6ac-4fce-daac-5b6fe97a7985"
   },
   "outputs": [
    {
     "name": "stdout",
     "output_type": "stream",
     "text": [
      "[0]\tvalidation_0-auc:0.766055\n",
      "Will train until validation_0-auc hasn't improved in 50 rounds.\n",
      "Stopping. Best iteration:\n",
      "[22]\tvalidation_0-auc:0.830671\n",
      "\n"
     ]
    },
    {
     "data": {
      "text/plain": [
       "XGBClassifier(base_score=0.5, booster='gbtree', colsample_bylevel=1,\n",
       "              colsample_bynode=1, colsample_bytree=0.5, eval_metric='auc',\n",
       "              gamma=5, learning_rate=0.3, max_delta_step=0, max_depth=8,\n",
       "              min_child_weight=1, missing=None, n_estimators=200, n_jobs=1,\n",
       "              nthread=None, objective='binary:logistic', random_state=6,\n",
       "              reg_alpha=0.8, reg_lambda=0.8, scale_pos_weight=1, seed=None,\n",
       "              silent=None, subsample=1, tree_method='gpu_hist', verbosity=1)"
      ]
     },
     "execution_count": 18,
     "metadata": {
      "tags": []
     },
     "output_type": "execute_result"
    }
   ],
   "source": [
    "XGB= XGBClassifier(random_state = SEED, max_depth = 8, \n",
    "                             n_estimators =200,\n",
    "                             reg_lambda =0.8, reg_alpha =0.8 , \n",
    "                            tree_method ='gpu_hist',\n",
    "                             objective = 'binary:logistic',\n",
    "                             learning_rate =0.3 , gamma = 5, colsample_bytree = 0.5, eval_metric = 'auc')\n",
    "\n",
    "XGB.fit(X_train, Y_train,\n",
    "                 eval_set = [(X_test, Y_test)],\n",
    "                 early_stopping_rounds=50,verbose = 1000)"
   ]
  },
  {
   "cell_type": "code",
   "execution_count": null,
   "metadata": {
    "id": "cQLnAzUQnsyQ",
    "outputId": "69b5272c-c052-4630-fa7c-8146176931d8"
   },
   "outputs": [
    {
     "name": "stdout",
     "output_type": "stream",
     "text": [
      "results\n",
      "------------------------------------------------------------------------------------------\n",
      "Derived Report\n",
      "------------------------------------------------------------------------------------------\n",
      "Precision     : 77.00%\n",
      "Recall        : 77.00%\n",
      "F1-Score      : 77.00%\n",
      "------------------------------------------------------------------------------------------\n",
      "\n",
      "\n",
      "\n"
     ]
    },
    {
     "data": {
      "image/png": "[encoded data removed]",
      "text/plain": [
       "<Figure size 720x576 with 1 Axes>"
      ]
     },
     "metadata": {
      "needs_background": "light",
      "tags": []
     },
     "output_type": "display_data"
    },
    {
     "name": "stdout",
     "output_type": "stream",
     "text": [
      "\n",
      "\n",
      "\n",
      "------------------------------------------------------------------------------------------\n",
      "------------------------------------------------------------------------------------------\n",
      "              precision    recall  f1-score   support\n",
      "\n",
      "  Response 0       0.96      0.78      0.86     82152\n",
      "  Response 1       0.23      0.64      0.34      8387\n",
      "\n",
      "    accuracy                           0.77     90539\n",
      "   macro avg       0.59      0.71      0.60     90539\n",
      "weighted avg       0.89      0.77      0.81     90539\n",
      "\n",
      "------------------------------------------------------------------------------------------\n"
     ]
    }
   ],
   "source": [
    "CM_CR(XGB,\"XGBoost\")"
   ]
  },
  {
   "cell_type": "code",
   "execution_count": null,
   "metadata": {
    "colab": {
     "base_uri": "https://localhost:8080/",
     "height": 315
    },
    "id": "9dCGrSx3OvFV",
    "outputId": "4f35fcd3-60dc-4024-c65a-5ec6f3f2a5a6"
   },
   "outputs": [
    {
     "data": {
      "image/png": "[encoded data removed]",
      "text/plain": [
       "<Figure size 432x288 with 1 Axes>"
      ]
     },
     "metadata": {
      "needs_background": "light",
      "tags": []
     },
     "output_type": "display_data"
    },
    {
     "name": "stdout",
     "output_type": "stream",
     "text": [
      "Area under curve (AUC):  0.8306714842595397\n"
     ]
    }
   ],
   "source": [
    "plot_ROC(XGB,\"XGBoost\")"
   ]
  },
  {
   "cell_type": "code",
   "execution_count": null,
   "metadata": {
    "colab": {
     "base_uri": "https://localhost:8080/",
     "height": 295
    },
    "id": "7uJBkGSYroXi",
    "outputId": "b6e2f153-8ab0-453a-c876-5903c7a916a5"
   },
   "outputs": [
    {
     "data": {
      "image/png": "[encoded data removed]",
      "text/plain": [
       "<Figure size 432x288 with 1 Axes>"
      ]
     },
     "metadata": {
      "needs_background": "light",
      "tags": []
     },
     "output_type": "display_data"
    }
   ],
   "source": [
    "plot_learning_curve(XGB,\"XGBoost\", X_train, Y_train, cv=None)"
   ]
  },
  {
   "cell_type": "markdown",
   "metadata": {
    "id": "qirxH5vsuAds"
   },
   "source": [
    "## Evaluation\n",
    "\n",
    "The XGBoost model using just the best features had a very similar confusion matrix to that of the model using all features. The learning curve, yet again, is very similar to the model using all feature"
   ]
  },
  {
   "cell_type": "markdown",
   "metadata": {
    "id": "BNWJyDfoOvFV"
   },
   "source": [
    "# CatBoost"
   ]
  },
  {
   "cell_type": "markdown",
   "metadata": {
    "id": "b4T5wMZ5vYg4"
   },
   "source": [
    "## Experimental Setup\n",
    "\n",
    "Catboost, unlike XGBOOST can handle categorical data. And, seeing as most of our data is categorical."
   ]
  },
  {
   "cell_type": "code",
   "execution_count": null,
   "metadata": {
    "id": "y7zLNawvSaDB"
   },
   "outputs": [],
   "source": [
    "from catboost import CatBoostClassifier"
   ]
  },
  {
   "cell_type": "code",
   "execution_count": null,
   "metadata": {
    "id": "K0TSJpygOvFV"
   },
   "outputs": [],
   "source": [
    "categorical_features=['Vehicle_Age_Ordinal' , 'Policy_Sales_Channel','Gender_Female', 'Gender_Male', 'Vehicle_Damage_Yes']\n",
    "num_features=['Age','Annual_Premium','Age_times_Annual']"
   ]
  },
  {
   "cell_type": "code",
   "execution_count": null,
   "metadata": {
    "colab": {
     "base_uri": "https://localhost:8080/"
    },
    "id": "q1oNXd9kqo2O",
    "outputId": "f279e78e-9654-41bb-db75-064bac4913d1"
   },
   "outputs": [
    {
     "name": "stdout",
     "output_type": "stream",
     "text": [
      "0:\tlearn: 0.5419337\ttest: 0.5424013\tbest: 0.5424013 (0)\ttotal: 53.9ms\tremaining: 16.1s\n",
      "1:\tlearn: 0.4485038\ttest: 0.4491454\tbest: 0.4491454 (1)\ttotal: 105ms\tremaining: 15.7s\n",
      "2:\tlearn: 0.3886156\ttest: 0.3892972\tbest: 0.3892972 (2)\ttotal: 157ms\tremaining: 15.6s\n",
      "3:\tlearn: 0.3511170\ttest: 0.3520007\tbest: 0.3520007 (3)\ttotal: 210ms\tremaining: 15.5s\n",
      "4:\tlearn: 0.3269361\ttest: 0.3280111\tbest: 0.3280111 (4)\ttotal: 268ms\tremaining: 15.8s\n",
      "5:\tlearn: 0.3107564\ttest: 0.3120381\tbest: 0.3120381 (5)\ttotal: 314ms\tremaining: 15.4s\n",
      "6:\tlearn: 0.3000144\ttest: 0.3014220\tbest: 0.3014220 (6)\ttotal: 360ms\tremaining: 15.1s\n",
      "7:\tlearn: 0.2929017\ttest: 0.2944388\tbest: 0.2944388 (7)\ttotal: 405ms\tremaining: 14.8s\n",
      "8:\tlearn: 0.2880457\ttest: 0.2896928\tbest: 0.2896928 (8)\ttotal: 450ms\tremaining: 14.5s\n",
      "9:\tlearn: 0.2674660\ttest: 0.2693642\tbest: 0.2693642 (9)\ttotal: 499ms\tremaining: 14.5s\n",
      "10:\tlearn: 0.2565144\ttest: 0.2585713\tbest: 0.2585713 (10)\ttotal: 542ms\tremaining: 14.2s\n",
      "11:\tlearn: 0.2494600\ttest: 0.2515406\tbest: 0.2515406 (11)\ttotal: 587ms\tremaining: 14.1s\n",
      "12:\tlearn: 0.2454113\ttest: 0.2475069\tbest: 0.2475069 (12)\ttotal: 634ms\tremaining: 14s\n",
      "13:\tlearn: 0.2429041\ttest: 0.2450640\tbest: 0.2450640 (13)\ttotal: 683ms\tremaining: 14s\n",
      "14:\tlearn: 0.2413128\ttest: 0.2434798\tbest: 0.2434798 (14)\ttotal: 730ms\tremaining: 13.9s\n",
      "15:\tlearn: 0.2410367\ttest: 0.2431746\tbest: 0.2431746 (15)\ttotal: 771ms\tremaining: 13.7s\n",
      "16:\tlearn: 0.2406299\ttest: 0.2427814\tbest: 0.2427814 (16)\ttotal: 814ms\tremaining: 13.5s\n",
      "17:\tlearn: 0.2402912\ttest: 0.2424608\tbest: 0.2424608 (17)\ttotal: 856ms\tremaining: 13.4s\n",
      "18:\tlearn: 0.2393208\ttest: 0.2415576\tbest: 0.2415576 (18)\ttotal: 900ms\tremaining: 13.3s\n",
      "19:\tlearn: 0.2386664\ttest: 0.2409531\tbest: 0.2409531 (19)\ttotal: 946ms\tremaining: 13.3s\n",
      "20:\tlearn: 0.2385776\ttest: 0.2408547\tbest: 0.2408547 (20)\ttotal: 988ms\tremaining: 13.1s\n",
      "21:\tlearn: 0.2381302\ttest: 0.2404194\tbest: 0.2404194 (21)\ttotal: 1.03s\tremaining: 13s\n",
      "22:\tlearn: 0.2380774\ttest: 0.2403670\tbest: 0.2403670 (22)\ttotal: 1.07s\tremaining: 13s\n",
      "23:\tlearn: 0.2377277\ttest: 0.2400316\tbest: 0.2400316 (23)\ttotal: 1.12s\tremaining: 12.9s\n",
      "24:\tlearn: 0.2375591\ttest: 0.2398814\tbest: 0.2398814 (24)\ttotal: 1.17s\tremaining: 12.8s\n",
      "25:\tlearn: 0.2373079\ttest: 0.2396600\tbest: 0.2396600 (25)\ttotal: 1.21s\tremaining: 12.7s\n",
      "26:\tlearn: 0.2371333\ttest: 0.2395446\tbest: 0.2395446 (26)\ttotal: 1.26s\tremaining: 12.8s\n",
      "27:\tlearn: 0.2370903\ttest: 0.2395051\tbest: 0.2395051 (27)\ttotal: 1.3s\tremaining: 12.7s\n",
      "28:\tlearn: 0.2369045\ttest: 0.2393572\tbest: 0.2393572 (28)\ttotal: 1.34s\tremaining: 12.6s\n",
      "29:\tlearn: 0.2368876\ttest: 0.2393403\tbest: 0.2393403 (29)\ttotal: 1.38s\tremaining: 12.5s\n",
      "30:\tlearn: 0.2368275\ttest: 0.2392877\tbest: 0.2392877 (30)\ttotal: 1.42s\tremaining: 12.4s\n",
      "31:\tlearn: 0.2367773\ttest: 0.2392525\tbest: 0.2392525 (31)\ttotal: 1.46s\tremaining: 12.3s\n",
      "32:\tlearn: 0.2366523\ttest: 0.2391799\tbest: 0.2391799 (32)\ttotal: 1.51s\tremaining: 12.2s\n",
      "33:\tlearn: 0.2366267\ttest: 0.2391576\tbest: 0.2391576 (33)\ttotal: 1.55s\tremaining: 12.2s\n",
      "34:\tlearn: 0.2364817\ttest: 0.2390488\tbest: 0.2390488 (34)\ttotal: 1.6s\tremaining: 12.1s\n",
      "35:\tlearn: 0.2364431\ttest: 0.2390300\tbest: 0.2390300 (35)\ttotal: 1.64s\tremaining: 12.1s\n",
      "36:\tlearn: 0.2364003\ttest: 0.2390053\tbest: 0.2390053 (36)\ttotal: 1.68s\tremaining: 12s\n",
      "37:\tlearn: 0.2363797\ttest: 0.2389871\tbest: 0.2389871 (37)\ttotal: 1.72s\tremaining: 11.9s\n",
      "38:\tlearn: 0.2363709\ttest: 0.2389820\tbest: 0.2389820 (38)\ttotal: 1.76s\tremaining: 11.8s\n",
      "39:\tlearn: 0.2362935\ttest: 0.2389548\tbest: 0.2389548 (39)\ttotal: 1.8s\tremaining: 11.7s\n",
      "40:\tlearn: 0.2362885\ttest: 0.2389567\tbest: 0.2389548 (39)\ttotal: 1.84s\tremaining: 11.6s\n",
      "41:\tlearn: 0.2362390\ttest: 0.2389182\tbest: 0.2389182 (41)\ttotal: 1.88s\tremaining: 11.6s\n",
      "42:\tlearn: 0.2361544\ttest: 0.2388596\tbest: 0.2388596 (42)\ttotal: 1.93s\tremaining: 11.5s\n",
      "43:\tlearn: 0.2360437\ttest: 0.2387692\tbest: 0.2387692 (43)\ttotal: 1.97s\tremaining: 11.5s\n",
      "44:\tlearn: 0.2360374\ttest: 0.2387616\tbest: 0.2387616 (44)\ttotal: 2.01s\tremaining: 11.4s\n",
      "45:\tlearn: 0.2360266\ttest: 0.2387483\tbest: 0.2387483 (45)\ttotal: 2.05s\tremaining: 11.3s\n",
      "46:\tlearn: 0.2359692\ttest: 0.2387108\tbest: 0.2387108 (46)\ttotal: 2.09s\tremaining: 11.3s\n",
      "47:\tlearn: 0.2359344\ttest: 0.2386883\tbest: 0.2386883 (47)\ttotal: 2.13s\tremaining: 11.2s\n",
      "48:\tlearn: 0.2358807\ttest: 0.2386496\tbest: 0.2386496 (48)\ttotal: 2.17s\tremaining: 11.1s\n",
      "49:\tlearn: 0.2358772\ttest: 0.2386489\tbest: 0.2386489 (49)\ttotal: 2.21s\tremaining: 11s\n",
      "50:\tlearn: 0.2358738\ttest: 0.2386437\tbest: 0.2386437 (50)\ttotal: 2.26s\tremaining: 11s\n",
      "51:\tlearn: 0.2358064\ttest: 0.2385992\tbest: 0.2385992 (51)\ttotal: 2.3s\tremaining: 11s\n",
      "52:\tlearn: 0.2357535\ttest: 0.2385668\tbest: 0.2385668 (52)\ttotal: 2.35s\tremaining: 10.9s\n",
      "53:\tlearn: 0.2357469\ttest: 0.2385553\tbest: 0.2385553 (53)\ttotal: 2.38s\tremaining: 10.9s\n",
      "54:\tlearn: 0.2357442\ttest: 0.2385527\tbest: 0.2385527 (54)\ttotal: 2.42s\tremaining: 10.8s\n",
      "55:\tlearn: 0.2357426\ttest: 0.2385509\tbest: 0.2385509 (55)\ttotal: 2.45s\tremaining: 10.7s\n",
      "56:\tlearn: 0.2357401\ttest: 0.2385506\tbest: 0.2385506 (56)\ttotal: 2.49s\tremaining: 10.6s\n",
      "57:\tlearn: 0.2357201\ttest: 0.2385470\tbest: 0.2385470 (57)\ttotal: 2.53s\tremaining: 10.6s\n",
      "58:\tlearn: 0.2356755\ttest: 0.2385079\tbest: 0.2385079 (58)\ttotal: 2.58s\tremaining: 10.5s\n",
      "59:\tlearn: 0.2356537\ttest: 0.2385079\tbest: 0.2385079 (58)\ttotal: 2.62s\tremaining: 10.5s\n",
      "60:\tlearn: 0.2356368\ttest: 0.2385048\tbest: 0.2385048 (60)\ttotal: 2.66s\tremaining: 10.4s\n",
      "61:\tlearn: 0.2355770\ttest: 0.2384579\tbest: 0.2384579 (61)\ttotal: 2.71s\tremaining: 10.4s\n",
      "62:\tlearn: 0.2355759\ttest: 0.2384573\tbest: 0.2384573 (62)\ttotal: 2.74s\tremaining: 10.3s\n",
      "63:\tlearn: 0.2355696\ttest: 0.2384597\tbest: 0.2384573 (62)\ttotal: 2.78s\tremaining: 10.2s\n",
      "64:\tlearn: 0.2355607\ttest: 0.2384656\tbest: 0.2384573 (62)\ttotal: 2.81s\tremaining: 10.2s\n",
      "65:\tlearn: 0.2355553\ttest: 0.2384663\tbest: 0.2384573 (62)\ttotal: 2.85s\tremaining: 10.1s\n",
      "66:\tlearn: 0.2355180\ttest: 0.2384418\tbest: 0.2384418 (66)\ttotal: 2.9s\tremaining: 10.1s\n",
      "67:\tlearn: 0.2355123\ttest: 0.2384421\tbest: 0.2384418 (66)\ttotal: 2.94s\tremaining: 10s\n",
      "68:\tlearn: 0.2354818\ttest: 0.2384257\tbest: 0.2384257 (68)\ttotal: 2.97s\tremaining: 9.96s\n",
      "69:\tlearn: 0.2354604\ttest: 0.2384181\tbest: 0.2384181 (69)\ttotal: 3.02s\tremaining: 9.92s\n",
      "70:\tlearn: 0.2354492\ttest: 0.2384080\tbest: 0.2384080 (70)\ttotal: 3.06s\tremaining: 9.87s\n",
      "71:\tlearn: 0.2354172\ttest: 0.2383904\tbest: 0.2383904 (71)\ttotal: 3.1s\tremaining: 9.82s\n",
      "72:\tlearn: 0.2354112\ttest: 0.2383843\tbest: 0.2383843 (72)\ttotal: 3.14s\tremaining: 9.77s\n",
      "73:\tlearn: 0.2353783\ttest: 0.2383609\tbest: 0.2383609 (73)\ttotal: 3.18s\tremaining: 9.72s\n",
      "74:\tlearn: 0.2353746\ttest: 0.2383666\tbest: 0.2383609 (73)\ttotal: 3.22s\tremaining: 9.66s\n",
      "75:\tlearn: 0.2353555\ttest: 0.2383634\tbest: 0.2383609 (73)\ttotal: 3.27s\tremaining: 9.63s\n",
      "76:\tlearn: 0.2353309\ttest: 0.2383613\tbest: 0.2383609 (73)\ttotal: 3.31s\tremaining: 9.59s\n",
      "77:\tlearn: 0.2353183\ttest: 0.2383599\tbest: 0.2383599 (77)\ttotal: 3.36s\tremaining: 9.57s\n",
      "78:\tlearn: 0.2353096\ttest: 0.2383549\tbest: 0.2383549 (78)\ttotal: 3.4s\tremaining: 9.51s\n",
      "79:\tlearn: 0.2352990\ttest: 0.2383464\tbest: 0.2383464 (79)\ttotal: 3.44s\tremaining: 9.46s\n",
      "80:\tlearn: 0.2352980\ttest: 0.2383443\tbest: 0.2383443 (80)\ttotal: 3.48s\tremaining: 9.4s\n",
      "81:\tlearn: 0.2352953\ttest: 0.2383436\tbest: 0.2383436 (81)\ttotal: 3.51s\tremaining: 9.34s\n",
      "82:\tlearn: 0.2352905\ttest: 0.2383469\tbest: 0.2383436 (81)\ttotal: 3.55s\tremaining: 9.28s\n",
      "83:\tlearn: 0.2352835\ttest: 0.2383379\tbest: 0.2383379 (83)\ttotal: 3.58s\tremaining: 9.22s\n",
      "84:\tlearn: 0.2352794\ttest: 0.2383324\tbest: 0.2383324 (84)\ttotal: 3.62s\tremaining: 9.16s\n",
      "85:\tlearn: 0.2352655\ttest: 0.2383272\tbest: 0.2383272 (85)\ttotal: 3.67s\tremaining: 9.14s\n",
      "86:\tlearn: 0.2352620\ttest: 0.2383266\tbest: 0.2383266 (86)\ttotal: 3.71s\tremaining: 9.09s\n",
      "87:\tlearn: 0.2352593\ttest: 0.2383278\tbest: 0.2383266 (86)\ttotal: 3.75s\tremaining: 9.03s\n",
      "88:\tlearn: 0.2352449\ttest: 0.2383227\tbest: 0.2383227 (88)\ttotal: 3.79s\tremaining: 8.99s\n",
      "89:\tlearn: 0.2352382\ttest: 0.2383218\tbest: 0.2383218 (89)\ttotal: 3.83s\tremaining: 8.94s\n",
      "90:\tlearn: 0.2352347\ttest: 0.2383211\tbest: 0.2383211 (90)\ttotal: 3.87s\tremaining: 8.88s\n",
      "91:\tlearn: 0.2352284\ttest: 0.2383330\tbest: 0.2383211 (90)\ttotal: 3.9s\tremaining: 8.82s\n",
      "92:\tlearn: 0.2352089\ttest: 0.2383154\tbest: 0.2383154 (92)\ttotal: 3.94s\tremaining: 8.78s\n",
      "93:\tlearn: 0.2352052\ttest: 0.2383127\tbest: 0.2383127 (93)\ttotal: 3.98s\tremaining: 8.73s\n",
      "94:\tlearn: 0.2352018\ttest: 0.2383135\tbest: 0.2383127 (93)\ttotal: 4.03s\tremaining: 8.69s\n",
      "95:\tlearn: 0.2352009\ttest: 0.2383141\tbest: 0.2383127 (93)\ttotal: 4.06s\tremaining: 8.63s\n",
      "96:\tlearn: 0.2351974\ttest: 0.2383144\tbest: 0.2383127 (93)\ttotal: 4.1s\tremaining: 8.58s\n",
      "97:\tlearn: 0.2351740\ttest: 0.2383082\tbest: 0.2383082 (97)\ttotal: 4.14s\tremaining: 8.53s\n",
      "98:\tlearn: 0.2351534\ttest: 0.2383036\tbest: 0.2383036 (98)\ttotal: 4.18s\tremaining: 8.48s\n",
      "99:\tlearn: 0.2351421\ttest: 0.2383017\tbest: 0.2383017 (99)\ttotal: 4.22s\tremaining: 8.44s\n",
      "100:\tlearn: 0.2351402\ttest: 0.2383070\tbest: 0.2383017 (99)\ttotal: 4.26s\tremaining: 8.39s\n",
      "101:\tlearn: 0.2351385\ttest: 0.2383062\tbest: 0.2383017 (99)\ttotal: 4.31s\tremaining: 8.36s\n",
      "102:\tlearn: 0.2351265\ttest: 0.2383085\tbest: 0.2383017 (99)\ttotal: 4.35s\tremaining: 8.31s\n",
      "103:\tlearn: 0.2351233\ttest: 0.2383120\tbest: 0.2383017 (99)\ttotal: 4.38s\tremaining: 8.26s\n",
      "104:\tlearn: 0.2351224\ttest: 0.2383122\tbest: 0.2383017 (99)\ttotal: 4.42s\tremaining: 8.21s\n",
      "105:\tlearn: 0.2351185\ttest: 0.2383130\tbest: 0.2383017 (99)\ttotal: 4.46s\tremaining: 8.17s\n",
      "106:\tlearn: 0.2351153\ttest: 0.2383096\tbest: 0.2383017 (99)\ttotal: 4.5s\tremaining: 8.12s\n",
      "107:\tlearn: 0.2351126\ttest: 0.2383136\tbest: 0.2383017 (99)\ttotal: 4.54s\tremaining: 8.07s\n",
      "108:\tlearn: 0.2351000\ttest: 0.2383094\tbest: 0.2383017 (99)\ttotal: 4.58s\tremaining: 8.03s\n",
      "109:\tlearn: 0.2350999\ttest: 0.2383101\tbest: 0.2383017 (99)\ttotal: 4.62s\tremaining: 7.98s\n",
      "110:\tlearn: 0.2350939\ttest: 0.2383070\tbest: 0.2383017 (99)\ttotal: 4.66s\tremaining: 7.93s\n",
      "111:\tlearn: 0.2350893\ttest: 0.2383019\tbest: 0.2383017 (99)\ttotal: 4.7s\tremaining: 7.89s\n",
      "112:\tlearn: 0.2350879\ttest: 0.2383007\tbest: 0.2383007 (112)\ttotal: 4.74s\tremaining: 7.84s\n",
      "113:\tlearn: 0.2350872\ttest: 0.2382992\tbest: 0.2382992 (113)\ttotal: 4.77s\tremaining: 7.78s\n",
      "114:\tlearn: 0.2350768\ttest: 0.2382963\tbest: 0.2382963 (114)\ttotal: 4.81s\tremaining: 7.74s\n",
      "115:\tlearn: 0.2350725\ttest: 0.2382946\tbest: 0.2382946 (115)\ttotal: 4.85s\tremaining: 7.7s\n",
      "116:\tlearn: 0.2350713\ttest: 0.2382943\tbest: 0.2382943 (116)\ttotal: 4.89s\tremaining: 7.65s\n",
      "117:\tlearn: 0.2350706\ttest: 0.2382944\tbest: 0.2382943 (116)\ttotal: 4.93s\tremaining: 7.61s\n",
      "118:\tlearn: 0.2350544\ttest: 0.2382941\tbest: 0.2382941 (118)\ttotal: 4.97s\tremaining: 7.56s\n",
      "119:\tlearn: 0.2350527\ttest: 0.2382938\tbest: 0.2382938 (119)\ttotal: 5.01s\tremaining: 7.52s\n",
      "120:\tlearn: 0.2350501\ttest: 0.2382934\tbest: 0.2382934 (120)\ttotal: 5.05s\tremaining: 7.47s\n",
      "121:\tlearn: 0.2350482\ttest: 0.2382930\tbest: 0.2382930 (121)\ttotal: 5.09s\tremaining: 7.43s\n",
      "122:\tlearn: 0.2350290\ttest: 0.2382916\tbest: 0.2382916 (122)\ttotal: 5.14s\tremaining: 7.39s\n",
      "123:\tlearn: 0.2349991\ttest: 0.2382833\tbest: 0.2382833 (123)\ttotal: 5.18s\tremaining: 7.35s\n",
      "124:\tlearn: 0.2349921\ttest: 0.2382848\tbest: 0.2382833 (123)\ttotal: 5.22s\tremaining: 7.31s\n",
      "125:\tlearn: 0.2349893\ttest: 0.2382895\tbest: 0.2382833 (123)\ttotal: 5.25s\tremaining: 7.26s\n",
      "126:\tlearn: 0.2349888\ttest: 0.2382897\tbest: 0.2382833 (123)\ttotal: 5.3s\tremaining: 7.22s\n",
      "127:\tlearn: 0.2349869\ttest: 0.2382890\tbest: 0.2382833 (123)\ttotal: 5.33s\tremaining: 7.17s\n",
      "128:\tlearn: 0.2349835\ttest: 0.2382868\tbest: 0.2382833 (123)\ttotal: 5.38s\tremaining: 7.13s\n",
      "129:\tlearn: 0.2349804\ttest: 0.2382872\tbest: 0.2382833 (123)\ttotal: 5.41s\tremaining: 7.08s\n",
      "130:\tlearn: 0.2349723\ttest: 0.2382803\tbest: 0.2382803 (130)\ttotal: 5.46s\tremaining: 7.04s\n",
      "131:\tlearn: 0.2349688\ttest: 0.2382804\tbest: 0.2382803 (130)\ttotal: 5.5s\tremaining: 7s\n",
      "132:\tlearn: 0.2349599\ttest: 0.2382742\tbest: 0.2382742 (132)\ttotal: 5.54s\tremaining: 6.96s\n",
      "133:\tlearn: 0.2349571\ttest: 0.2382768\tbest: 0.2382742 (132)\ttotal: 5.58s\tremaining: 6.92s\n",
      "134:\tlearn: 0.2349500\ttest: 0.2382837\tbest: 0.2382742 (132)\ttotal: 5.62s\tremaining: 6.87s\n",
      "135:\tlearn: 0.2349364\ttest: 0.2382863\tbest: 0.2382742 (132)\ttotal: 5.66s\tremaining: 6.83s\n",
      "136:\tlearn: 0.2349359\ttest: 0.2382855\tbest: 0.2382742 (132)\ttotal: 5.7s\tremaining: 6.78s\n",
      "137:\tlearn: 0.2349338\ttest: 0.2382865\tbest: 0.2382742 (132)\ttotal: 5.73s\tremaining: 6.73s\n",
      "138:\tlearn: 0.2349321\ttest: 0.2382866\tbest: 0.2382742 (132)\ttotal: 5.77s\tremaining: 6.68s\n",
      "139:\tlearn: 0.2349254\ttest: 0.2382881\tbest: 0.2382742 (132)\ttotal: 5.82s\tremaining: 6.65s\n",
      "140:\tlearn: 0.2349150\ttest: 0.2382843\tbest: 0.2382742 (132)\ttotal: 5.86s\tremaining: 6.61s\n",
      "141:\tlearn: 0.2349140\ttest: 0.2382849\tbest: 0.2382742 (132)\ttotal: 5.89s\tremaining: 6.56s\n",
      "142:\tlearn: 0.2348999\ttest: 0.2382855\tbest: 0.2382742 (132)\ttotal: 5.94s\tremaining: 6.52s\n",
      "143:\tlearn: 0.2348980\ttest: 0.2382876\tbest: 0.2382742 (132)\ttotal: 5.98s\tremaining: 6.47s\n",
      "144:\tlearn: 0.2348967\ttest: 0.2382874\tbest: 0.2382742 (132)\ttotal: 6.02s\tremaining: 6.43s\n",
      "145:\tlearn: 0.2348874\ttest: 0.2382828\tbest: 0.2382742 (132)\ttotal: 6.06s\tremaining: 6.39s\n",
      "146:\tlearn: 0.2348844\ttest: 0.2382852\tbest: 0.2382742 (132)\ttotal: 6.09s\tremaining: 6.34s\n",
      "147:\tlearn: 0.2348810\ttest: 0.2382850\tbest: 0.2382742 (132)\ttotal: 6.13s\tremaining: 6.29s\n",
      "148:\tlearn: 0.2348783\ttest: 0.2382834\tbest: 0.2382742 (132)\ttotal: 6.16s\tremaining: 6.25s\n",
      "149:\tlearn: 0.2348767\ttest: 0.2382820\tbest: 0.2382742 (132)\ttotal: 6.2s\tremaining: 6.2s\n",
      "150:\tlearn: 0.2348708\ttest: 0.2382810\tbest: 0.2382742 (132)\ttotal: 6.25s\tremaining: 6.17s\n",
      "151:\tlearn: 0.2348479\ttest: 0.2382791\tbest: 0.2382742 (132)\ttotal: 6.3s\tremaining: 6.13s\n",
      "152:\tlearn: 0.2348170\ttest: 0.2382679\tbest: 0.2382679 (152)\ttotal: 6.34s\tremaining: 6.09s\n",
      "153:\tlearn: 0.2348155\ttest: 0.2382693\tbest: 0.2382679 (152)\ttotal: 6.37s\tremaining: 6.04s\n",
      "154:\tlearn: 0.2348105\ttest: 0.2382718\tbest: 0.2382679 (152)\ttotal: 6.41s\tremaining: 6s\n",
      "155:\tlearn: 0.2348090\ttest: 0.2382710\tbest: 0.2382679 (152)\ttotal: 6.45s\tremaining: 5.95s\n",
      "156:\tlearn: 0.2348075\ttest: 0.2382717\tbest: 0.2382679 (152)\ttotal: 6.49s\tremaining: 5.91s\n",
      "157:\tlearn: 0.2348049\ttest: 0.2382718\tbest: 0.2382679 (152)\ttotal: 6.52s\tremaining: 5.86s\n",
      "158:\tlearn: 0.2348040\ttest: 0.2382718\tbest: 0.2382679 (152)\ttotal: 6.56s\tremaining: 5.82s\n",
      "159:\tlearn: 0.2348027\ttest: 0.2382715\tbest: 0.2382679 (152)\ttotal: 6.6s\tremaining: 5.77s\n",
      "160:\tlearn: 0.2348012\ttest: 0.2382712\tbest: 0.2382679 (152)\ttotal: 6.63s\tremaining: 5.73s\n",
      "161:\tlearn: 0.2347989\ttest: 0.2382679\tbest: 0.2382679 (152)\ttotal: 6.69s\tremaining: 5.7s\n",
      "162:\tlearn: 0.2347957\ttest: 0.2382649\tbest: 0.2382649 (162)\ttotal: 6.73s\tremaining: 5.65s\n",
      "163:\tlearn: 0.2347807\ttest: 0.2382717\tbest: 0.2382649 (162)\ttotal: 6.76s\tremaining: 5.61s\n",
      "164:\tlearn: 0.2347772\ttest: 0.2382720\tbest: 0.2382649 (162)\ttotal: 6.8s\tremaining: 5.56s\n",
      "165:\tlearn: 0.2347577\ttest: 0.2382709\tbest: 0.2382649 (162)\ttotal: 6.84s\tremaining: 5.53s\n",
      "166:\tlearn: 0.2347502\ttest: 0.2382644\tbest: 0.2382644 (166)\ttotal: 6.88s\tremaining: 5.48s\n",
      "167:\tlearn: 0.2347496\ttest: 0.2382639\tbest: 0.2382639 (167)\ttotal: 6.92s\tremaining: 5.44s\n",
      "168:\tlearn: 0.2347491\ttest: 0.2382641\tbest: 0.2382639 (167)\ttotal: 6.96s\tremaining: 5.39s\n",
      "169:\tlearn: 0.2347341\ttest: 0.2382513\tbest: 0.2382513 (169)\ttotal: 7s\tremaining: 5.35s\n",
      "170:\tlearn: 0.2347251\ttest: 0.2382484\tbest: 0.2382484 (170)\ttotal: 7.04s\tremaining: 5.31s\n",
      "171:\tlearn: 0.2347246\ttest: 0.2382485\tbest: 0.2382484 (170)\ttotal: 7.07s\tremaining: 5.26s\n",
      "172:\tlearn: 0.2347237\ttest: 0.2382502\tbest: 0.2382484 (170)\ttotal: 7.11s\tremaining: 5.22s\n",
      "173:\tlearn: 0.2347216\ttest: 0.2382508\tbest: 0.2382484 (170)\ttotal: 7.15s\tremaining: 5.18s\n",
      "174:\tlearn: 0.2347182\ttest: 0.2382516\tbest: 0.2382484 (170)\ttotal: 7.19s\tremaining: 5.13s\n",
      "175:\tlearn: 0.2347163\ttest: 0.2382554\tbest: 0.2382484 (170)\ttotal: 7.23s\tremaining: 5.09s\n",
      "176:\tlearn: 0.2347153\ttest: 0.2382569\tbest: 0.2382484 (170)\ttotal: 7.26s\tremaining: 5.05s\n",
      "177:\tlearn: 0.2346998\ttest: 0.2382592\tbest: 0.2382484 (170)\ttotal: 7.31s\tremaining: 5.01s\n",
      "178:\tlearn: 0.2346906\ttest: 0.2382536\tbest: 0.2382484 (170)\ttotal: 7.36s\tremaining: 4.97s\n",
      "179:\tlearn: 0.2346887\ttest: 0.2382597\tbest: 0.2382484 (170)\ttotal: 7.39s\tremaining: 4.93s\n",
      "180:\tlearn: 0.2346878\ttest: 0.2382626\tbest: 0.2382484 (170)\ttotal: 7.43s\tremaining: 4.88s\n",
      "181:\tlearn: 0.2346870\ttest: 0.2382616\tbest: 0.2382484 (170)\ttotal: 7.46s\tremaining: 4.84s\n",
      "182:\tlearn: 0.2346752\ttest: 0.2382600\tbest: 0.2382484 (170)\ttotal: 7.5s\tremaining: 4.8s\n",
      "183:\tlearn: 0.2346738\ttest: 0.2382578\tbest: 0.2382484 (170)\ttotal: 7.54s\tremaining: 4.75s\n",
      "184:\tlearn: 0.2346701\ttest: 0.2382589\tbest: 0.2382484 (170)\ttotal: 7.58s\tremaining: 4.71s\n",
      "185:\tlearn: 0.2346686\ttest: 0.2382594\tbest: 0.2382484 (170)\ttotal: 7.63s\tremaining: 4.67s\n",
      "186:\tlearn: 0.2346669\ttest: 0.2382605\tbest: 0.2382484 (170)\ttotal: 7.67s\tremaining: 4.63s\n",
      "187:\tlearn: 0.2346663\ttest: 0.2382606\tbest: 0.2382484 (170)\ttotal: 7.7s\tremaining: 4.59s\n",
      "188:\tlearn: 0.2346654\ttest: 0.2382606\tbest: 0.2382484 (170)\ttotal: 7.74s\tremaining: 4.54s\n",
      "189:\tlearn: 0.2346639\ttest: 0.2382631\tbest: 0.2382484 (170)\ttotal: 7.77s\tremaining: 4.5s\n",
      "190:\tlearn: 0.2346630\ttest: 0.2382636\tbest: 0.2382484 (170)\ttotal: 7.81s\tremaining: 4.46s\n",
      "191:\tlearn: 0.2346621\ttest: 0.2382638\tbest: 0.2382484 (170)\ttotal: 7.85s\tremaining: 4.42s\n",
      "192:\tlearn: 0.2346613\ttest: 0.2382647\tbest: 0.2382484 (170)\ttotal: 7.89s\tremaining: 4.38s\n",
      "193:\tlearn: 0.2346582\ttest: 0.2382638\tbest: 0.2382484 (170)\ttotal: 7.93s\tremaining: 4.33s\n",
      "194:\tlearn: 0.2346365\ttest: 0.2382528\tbest: 0.2382484 (170)\ttotal: 7.97s\tremaining: 4.29s\n",
      "195:\tlearn: 0.2346262\ttest: 0.2382557\tbest: 0.2382484 (170)\ttotal: 8.02s\tremaining: 4.25s\n",
      "196:\tlearn: 0.2346243\ttest: 0.2382555\tbest: 0.2382484 (170)\ttotal: 8.06s\tremaining: 4.21s\n",
      "197:\tlearn: 0.2346232\ttest: 0.2382558\tbest: 0.2382484 (170)\ttotal: 8.09s\tremaining: 4.17s\n",
      "198:\tlearn: 0.2346228\ttest: 0.2382568\tbest: 0.2382484 (170)\ttotal: 8.13s\tremaining: 4.13s\n",
      "199:\tlearn: 0.2346214\ttest: 0.2382567\tbest: 0.2382484 (170)\ttotal: 8.16s\tremaining: 4.08s\n",
      "200:\tlearn: 0.2345881\ttest: 0.2382422\tbest: 0.2382422 (200)\ttotal: 8.21s\tremaining: 4.04s\n",
      "201:\tlearn: 0.2345872\ttest: 0.2382432\tbest: 0.2382422 (200)\ttotal: 8.25s\tremaining: 4s\n",
      "202:\tlearn: 0.2345840\ttest: 0.2382380\tbest: 0.2382380 (202)\ttotal: 8.29s\tremaining: 3.96s\n",
      "203:\tlearn: 0.2345767\ttest: 0.2382430\tbest: 0.2382380 (202)\ttotal: 8.34s\tremaining: 3.92s\n",
      "204:\tlearn: 0.2345735\ttest: 0.2382410\tbest: 0.2382380 (202)\ttotal: 8.38s\tremaining: 3.88s\n",
      "205:\tlearn: 0.2345621\ttest: 0.2382376\tbest: 0.2382376 (205)\ttotal: 8.42s\tremaining: 3.84s\n",
      "206:\tlearn: 0.2345522\ttest: 0.2382354\tbest: 0.2382354 (206)\ttotal: 8.46s\tremaining: 3.8s\n",
      "207:\tlearn: 0.2345513\ttest: 0.2382350\tbest: 0.2382350 (207)\ttotal: 8.5s\tremaining: 3.76s\n",
      "208:\tlearn: 0.2345383\ttest: 0.2382486\tbest: 0.2382350 (207)\ttotal: 8.54s\tremaining: 3.72s\n",
      "209:\tlearn: 0.2345377\ttest: 0.2382485\tbest: 0.2382350 (207)\ttotal: 8.58s\tremaining: 3.68s\n",
      "210:\tlearn: 0.2345335\ttest: 0.2382496\tbest: 0.2382350 (207)\ttotal: 8.62s\tremaining: 3.64s\n",
      "211:\tlearn: 0.2345304\ttest: 0.2382518\tbest: 0.2382350 (207)\ttotal: 8.66s\tremaining: 3.59s\n",
      "212:\tlearn: 0.2345298\ttest: 0.2382521\tbest: 0.2382350 (207)\ttotal: 8.7s\tremaining: 3.55s\n",
      "213:\tlearn: 0.2345273\ttest: 0.2382517\tbest: 0.2382350 (207)\ttotal: 8.74s\tremaining: 3.51s\n",
      "214:\tlearn: 0.2345243\ttest: 0.2382522\tbest: 0.2382350 (207)\ttotal: 8.77s\tremaining: 3.47s\n",
      "215:\tlearn: 0.2345137\ttest: 0.2382568\tbest: 0.2382350 (207)\ttotal: 8.82s\tremaining: 3.43s\n",
      "216:\tlearn: 0.2345071\ttest: 0.2382581\tbest: 0.2382350 (207)\ttotal: 8.86s\tremaining: 3.39s\n",
      "217:\tlearn: 0.2345061\ttest: 0.2382579\tbest: 0.2382350 (207)\ttotal: 8.9s\tremaining: 3.35s\n",
      "218:\tlearn: 0.2345021\ttest: 0.2382585\tbest: 0.2382350 (207)\ttotal: 8.94s\tremaining: 3.31s\n",
      "219:\tlearn: 0.2344898\ttest: 0.2382591\tbest: 0.2382350 (207)\ttotal: 8.98s\tremaining: 3.26s\n",
      "220:\tlearn: 0.2344896\ttest: 0.2382584\tbest: 0.2382350 (207)\ttotal: 9.02s\tremaining: 3.22s\n",
      "221:\tlearn: 0.2344882\ttest: 0.2382627\tbest: 0.2382350 (207)\ttotal: 9.05s\tremaining: 3.18s\n",
      "222:\tlearn: 0.2344875\ttest: 0.2382625\tbest: 0.2382350 (207)\ttotal: 9.09s\tremaining: 3.14s\n",
      "223:\tlearn: 0.2344870\ttest: 0.2382623\tbest: 0.2382350 (207)\ttotal: 9.13s\tremaining: 3.1s\n",
      "224:\tlearn: 0.2344838\ttest: 0.2382625\tbest: 0.2382350 (207)\ttotal: 9.17s\tremaining: 3.06s\n",
      "225:\tlearn: 0.2344834\ttest: 0.2382619\tbest: 0.2382350 (207)\ttotal: 9.21s\tremaining: 3.02s\n",
      "226:\tlearn: 0.2344828\ttest: 0.2382617\tbest: 0.2382350 (207)\ttotal: 9.24s\tremaining: 2.97s\n",
      "227:\tlearn: 0.2344808\ttest: 0.2382624\tbest: 0.2382350 (207)\ttotal: 9.28s\tremaining: 2.93s\n",
      "228:\tlearn: 0.2344798\ttest: 0.2382631\tbest: 0.2382350 (207)\ttotal: 9.33s\tremaining: 2.89s\n",
      "229:\tlearn: 0.2344761\ttest: 0.2382630\tbest: 0.2382350 (207)\ttotal: 9.36s\tremaining: 2.85s\n",
      "230:\tlearn: 0.2344759\ttest: 0.2382628\tbest: 0.2382350 (207)\ttotal: 9.41s\tremaining: 2.81s\n",
      "231:\tlearn: 0.2344690\ttest: 0.2382609\tbest: 0.2382350 (207)\ttotal: 9.45s\tremaining: 2.77s\n",
      "232:\tlearn: 0.2344680\ttest: 0.2382605\tbest: 0.2382350 (207)\ttotal: 9.48s\tremaining: 2.73s\n",
      "233:\tlearn: 0.2344637\ttest: 0.2382625\tbest: 0.2382350 (207)\ttotal: 9.52s\tremaining: 2.69s\n",
      "234:\tlearn: 0.2344618\ttest: 0.2382694\tbest: 0.2382350 (207)\ttotal: 9.56s\tremaining: 2.64s\n",
      "235:\tlearn: 0.2344604\ttest: 0.2382719\tbest: 0.2382350 (207)\ttotal: 9.59s\tremaining: 2.6s\n",
      "236:\tlearn: 0.2344534\ttest: 0.2382675\tbest: 0.2382350 (207)\ttotal: 9.64s\tremaining: 2.56s\n",
      "237:\tlearn: 0.2344516\ttest: 0.2382678\tbest: 0.2382350 (207)\ttotal: 9.69s\tremaining: 2.52s\n",
      "238:\tlearn: 0.2344341\ttest: 0.2382669\tbest: 0.2382350 (207)\ttotal: 9.73s\tremaining: 2.48s\n",
      "239:\tlearn: 0.2344310\ttest: 0.2382689\tbest: 0.2382350 (207)\ttotal: 9.77s\tremaining: 2.44s\n",
      "240:\tlearn: 0.2344307\ttest: 0.2382692\tbest: 0.2382350 (207)\ttotal: 9.81s\tremaining: 2.4s\n",
      "241:\tlearn: 0.2344305\ttest: 0.2382696\tbest: 0.2382350 (207)\ttotal: 9.86s\tremaining: 2.36s\n",
      "242:\tlearn: 0.2344285\ttest: 0.2382716\tbest: 0.2382350 (207)\ttotal: 9.89s\tremaining: 2.32s\n",
      "243:\tlearn: 0.2344258\ttest: 0.2382735\tbest: 0.2382350 (207)\ttotal: 9.93s\tremaining: 2.28s\n",
      "244:\tlearn: 0.2344243\ttest: 0.2382716\tbest: 0.2382350 (207)\ttotal: 9.97s\tremaining: 2.24s\n",
      "245:\tlearn: 0.2344117\ttest: 0.2382668\tbest: 0.2382350 (207)\ttotal: 10s\tremaining: 2.2s\n",
      "246:\tlearn: 0.2344112\ttest: 0.2382682\tbest: 0.2382350 (207)\ttotal: 10.1s\tremaining: 2.16s\n",
      "247:\tlearn: 0.2344019\ttest: 0.2382655\tbest: 0.2382350 (207)\ttotal: 10.1s\tremaining: 2.12s\n",
      "248:\tlearn: 0.2344010\ttest: 0.2382647\tbest: 0.2382350 (207)\ttotal: 10.1s\tremaining: 2.08s\n",
      "249:\tlearn: 0.2344006\ttest: 0.2382643\tbest: 0.2382350 (207)\ttotal: 10.2s\tremaining: 2.03s\n",
      "250:\tlearn: 0.2343858\ttest: 0.2382654\tbest: 0.2382350 (207)\ttotal: 10.2s\tremaining: 1.99s\n",
      "251:\tlearn: 0.2343712\ttest: 0.2382626\tbest: 0.2382350 (207)\ttotal: 10.3s\tremaining: 1.95s\n",
      "252:\tlearn: 0.2343642\ttest: 0.2382632\tbest: 0.2382350 (207)\ttotal: 10.3s\tremaining: 1.92s\n",
      "253:\tlearn: 0.2343593\ttest: 0.2382607\tbest: 0.2382350 (207)\ttotal: 10.4s\tremaining: 1.88s\n",
      "254:\tlearn: 0.2343547\ttest: 0.2382624\tbest: 0.2382350 (207)\ttotal: 10.4s\tremaining: 1.83s\n",
      "255:\tlearn: 0.2343516\ttest: 0.2382610\tbest: 0.2382350 (207)\ttotal: 10.4s\tremaining: 1.79s\n",
      "256:\tlearn: 0.2343491\ttest: 0.2382608\tbest: 0.2382350 (207)\ttotal: 10.5s\tremaining: 1.75s\n",
      "257:\tlearn: 0.2343476\ttest: 0.2382703\tbest: 0.2382350 (207)\ttotal: 10.5s\tremaining: 1.71s\n",
      "258:\tlearn: 0.2343464\ttest: 0.2382700\tbest: 0.2382350 (207)\ttotal: 10.6s\tremaining: 1.68s\n",
      "259:\tlearn: 0.2343458\ttest: 0.2382703\tbest: 0.2382350 (207)\ttotal: 10.6s\tremaining: 1.63s\n",
      "260:\tlearn: 0.2343440\ttest: 0.2382707\tbest: 0.2382350 (207)\ttotal: 10.7s\tremaining: 1.59s\n",
      "261:\tlearn: 0.2343432\ttest: 0.2382710\tbest: 0.2382350 (207)\ttotal: 10.7s\tremaining: 1.55s\n",
      "262:\tlearn: 0.2343413\ttest: 0.2382713\tbest: 0.2382350 (207)\ttotal: 10.7s\tremaining: 1.51s\n",
      "263:\tlearn: 0.2343405\ttest: 0.2382710\tbest: 0.2382350 (207)\ttotal: 10.8s\tremaining: 1.47s\n",
      "264:\tlearn: 0.2343371\ttest: 0.2382701\tbest: 0.2382350 (207)\ttotal: 10.8s\tremaining: 1.43s\n",
      "265:\tlearn: 0.2343349\ttest: 0.2382748\tbest: 0.2382350 (207)\ttotal: 10.9s\tremaining: 1.39s\n",
      "266:\tlearn: 0.2343227\ttest: 0.2382754\tbest: 0.2382350 (207)\ttotal: 10.9s\tremaining: 1.35s\n",
      "267:\tlearn: 0.2343207\ttest: 0.2382742\tbest: 0.2382350 (207)\ttotal: 10.9s\tremaining: 1.31s\n",
      "268:\tlearn: 0.2343163\ttest: 0.2382728\tbest: 0.2382350 (207)\ttotal: 11s\tremaining: 1.26s\n",
      "269:\tlearn: 0.2343148\ttest: 0.2382735\tbest: 0.2382350 (207)\ttotal: 11s\tremaining: 1.22s\n",
      "270:\tlearn: 0.2343128\ttest: 0.2382757\tbest: 0.2382350 (207)\ttotal: 11.1s\tremaining: 1.18s\n",
      "271:\tlearn: 0.2343048\ttest: 0.2382710\tbest: 0.2382350 (207)\ttotal: 11.1s\tremaining: 1.14s\n",
      "272:\tlearn: 0.2342916\ttest: 0.2382643\tbest: 0.2382350 (207)\ttotal: 11.1s\tremaining: 1.1s\n",
      "273:\tlearn: 0.2342907\ttest: 0.2382640\tbest: 0.2382350 (207)\ttotal: 11.2s\tremaining: 1.06s\n",
      "274:\tlearn: 0.2342896\ttest: 0.2382639\tbest: 0.2382350 (207)\ttotal: 11.2s\tremaining: 1.02s\n",
      "275:\tlearn: 0.2342876\ttest: 0.2382616\tbest: 0.2382350 (207)\ttotal: 11.3s\tremaining: 980ms\n",
      "276:\tlearn: 0.2342705\ttest: 0.2382563\tbest: 0.2382350 (207)\ttotal: 11.3s\tremaining: 940ms\n",
      "277:\tlearn: 0.2342696\ttest: 0.2382560\tbest: 0.2382350 (207)\ttotal: 11.4s\tremaining: 899ms\n",
      "278:\tlearn: 0.2342680\ttest: 0.2382598\tbest: 0.2382350 (207)\ttotal: 11.4s\tremaining: 858ms\n",
      "279:\tlearn: 0.2342678\ttest: 0.2382595\tbest: 0.2382350 (207)\ttotal: 11.4s\tremaining: 817ms\n",
      "280:\tlearn: 0.2342591\ttest: 0.2382614\tbest: 0.2382350 (207)\ttotal: 11.5s\tremaining: 776ms\n",
      "281:\tlearn: 0.2342336\ttest: 0.2382532\tbest: 0.2382350 (207)\ttotal: 11.5s\tremaining: 736ms\n",
      "282:\tlearn: 0.2342334\ttest: 0.2382527\tbest: 0.2382350 (207)\ttotal: 11.6s\tremaining: 695ms\n",
      "283:\tlearn: 0.2342328\ttest: 0.2382586\tbest: 0.2382350 (207)\ttotal: 11.6s\tremaining: 654ms\n",
      "284:\tlearn: 0.2342299\ttest: 0.2382574\tbest: 0.2382350 (207)\ttotal: 11.6s\tremaining: 613ms\n",
      "285:\tlearn: 0.2342295\ttest: 0.2382567\tbest: 0.2382350 (207)\ttotal: 11.7s\tremaining: 572ms\n",
      "286:\tlearn: 0.2342289\ttest: 0.2382566\tbest: 0.2382350 (207)\ttotal: 11.7s\tremaining: 531ms\n",
      "287:\tlearn: 0.2342279\ttest: 0.2382584\tbest: 0.2382350 (207)\ttotal: 11.8s\tremaining: 490ms\n",
      "288:\tlearn: 0.2342175\ttest: 0.2382504\tbest: 0.2382350 (207)\ttotal: 11.8s\tremaining: 449ms\n",
      "289:\tlearn: 0.2342152\ttest: 0.2382487\tbest: 0.2382350 (207)\ttotal: 11.8s\tremaining: 408ms\n",
      "290:\tlearn: 0.2342134\ttest: 0.2382502\tbest: 0.2382350 (207)\ttotal: 11.9s\tremaining: 368ms\n",
      "291:\tlearn: 0.2342129\ttest: 0.2382486\tbest: 0.2382350 (207)\ttotal: 11.9s\tremaining: 327ms\n",
      "292:\tlearn: 0.2342083\ttest: 0.2382518\tbest: 0.2382350 (207)\ttotal: 12s\tremaining: 286ms\n",
      "293:\tlearn: 0.2342066\ttest: 0.2382515\tbest: 0.2382350 (207)\ttotal: 12s\tremaining: 245ms\n",
      "294:\tlearn: 0.2342051\ttest: 0.2382541\tbest: 0.2382350 (207)\ttotal: 12s\tremaining: 204ms\n",
      "295:\tlearn: 0.2342041\ttest: 0.2382555\tbest: 0.2382350 (207)\ttotal: 12.1s\tremaining: 163ms\n",
      "296:\tlearn: 0.2342038\ttest: 0.2382555\tbest: 0.2382350 (207)\ttotal: 12.1s\tremaining: 122ms\n",
      "297:\tlearn: 0.2342024\ttest: 0.2382563\tbest: 0.2382350 (207)\ttotal: 12.2s\tremaining: 81.6ms\n",
      "298:\tlearn: 0.2342001\ttest: 0.2382577\tbest: 0.2382350 (207)\ttotal: 12.2s\tremaining: 40.8ms\n",
      "299:\tlearn: 0.2341997\ttest: 0.2382568\tbest: 0.2382350 (207)\ttotal: 12.2s\tremaining: 0us\n",
      "bestTest = 0.2382350424\n",
      "bestIteration = 207\n",
      "Shrink model to first 208 iterations.\n"
     ]
    },
    {
     "data": {
      "text/plain": [
       "<catboost.core.CatBoostClassifier at 0x7f107e065898>"
      ]
     },
     "execution_count": 30,
     "metadata": {
      "tags": []
     },
     "output_type": "execute_result"
    }
   ],
   "source": [
    "Cat_model = CatBoostClassifier(iterations = 300, \n",
    "                                random_seed = SEED, \n",
    "                                task_type = 'GPU',\n",
    "                                learning_rate=0.15,\n",
    "                                loss_function='Logloss',\n",
    "                                eval_metric='Logloss',\n",
    "                                custom_loss = ['AUC'] )\n",
    "Cat_model.fit(X_train, Y_train,cat_features = categorical_features, eval_set = (X_test, Y_test), plot = False)"
   ]
  },
  {
   "cell_type": "code",
   "execution_count": null,
   "metadata": {
    "id": "K3SdwsCtnsyR",
    "outputId": "5a64fbf5-3d59-4f02-8fcf-e02b34718505"
   },
   "outputs": [
    {
     "name": "stdout",
     "output_type": "stream",
     "text": [
      "results\n",
      "------------------------------------------------------------------------------------------\n",
      "Derived Report\n",
      "------------------------------------------------------------------------------------------\n",
      "Precision     : 78.72%\n",
      "Recall        : 78.72%\n",
      "F1-Score      : 78.72%\n",
      "------------------------------------------------------------------------------------------\n",
      "\n",
      "\n",
      "\n"
     ]
    },
    {
     "data": {
      "image/png": "[encoded data removed]",
      "text/plain": [
       "<Figure size 720x576 with 1 Axes>"
      ]
     },
     "metadata": {
      "needs_background": "light",
      "tags": []
     },
     "output_type": "display_data"
    },
    {
     "name": "stdout",
     "output_type": "stream",
     "text": [
      "\n",
      "\n",
      "\n",
      "------------------------------------------------------------------------------------------\n",
      "------------------------------------------------------------------------------------------\n",
      "              precision    recall  f1-score   support\n",
      "\n",
      "  Response 0       0.95      0.81      0.87     82152\n",
      "  Response 1       0.24      0.58      0.33      8387\n",
      "\n",
      "    accuracy                           0.79     90539\n",
      "   macro avg       0.59      0.69      0.60     90539\n",
      "weighted avg       0.88      0.79      0.82     90539\n",
      "\n",
      "------------------------------------------------------------------------------------------\n"
     ]
    }
   ],
   "source": [
    "CM_CR(Cat_model,\"Cat Boost\")"
   ]
  },
  {
   "cell_type": "code",
   "execution_count": null,
   "metadata": {
    "colab": {
     "base_uri": "https://localhost:8080/",
     "height": 315
    },
    "id": "S1uKcWxEnsyR",
    "outputId": "89a2f79a-9f2a-4636-eb34-96446d065fca"
   },
   "outputs": [
    {
     "data": {
      "image/png": "[encoded data removed]",
      "text/plain": [
       "<Figure size 432x288 with 1 Axes>"
      ]
     },
     "metadata": {
      "needs_background": "light",
      "tags": []
     },
     "output_type": "display_data"
    },
    {
     "name": "stdout",
     "output_type": "stream",
     "text": [
      "Area under curve (AUC):  0.8328376393913934\n"
     ]
    }
   ],
   "source": [
    "plot_ROC(Cat_model,\"Cat Boost\")"
   ]
  },
  {
   "cell_type": "code",
   "execution_count": null,
   "metadata": {
    "colab": {
     "base_uri": "https://localhost:8080/",
     "height": 295
    },
    "id": "o_QLF-2pnsyR",
    "outputId": "08ba0ff6-4ff0-4721-bb7c-e78310e7d4ef"
   },
   "outputs": [
    {
     "data": {
      "image/png": "[encoded data removed]",
      "text/plain": [
       "<Figure size 432x288 with 1 Axes>"
      ]
     },
     "metadata": {
      "needs_background": "light",
      "tags": []
     },
     "output_type": "display_data"
    }
   ],
   "source": [
    "plot_learning_curve(Cat_model,\"Cat Boost\", X_train, Y_train, cv=None)"
   ]
  },
  {
   "cell_type": "markdown",
   "metadata": {
    "id": "_Pk_CNeUugOZ"
   },
   "source": [
    "## Evaluation\n",
    "\n",
    "This model represents the biggest dichotomy yet between a model with all features to model with best features. We mentioned above that the first Catboost model performed just like the other models, without over-predicting the minority class (thus avoiding the 15,000+ false positives the XGBoost produced). However, the Catboost using feature selection went back to what the XGBoost did. It did in fact over-predict, but that produced a slightly better f1 score (0.33 from 0.27), overall nothing major. Again, we would like to note that the model had no issues at all predicting the majority class with precisions and f-1 measures of 0.9+. \n"
   ]
  },
  {
   "cell_type": "markdown",
   "metadata": {
    "id": "ChxQ4sdPoJ1Q"
   },
   "source": [
    "# Neural Network"
   ]
  },
  {
   "cell_type": "markdown",
   "metadata": {
    "id": "OBL4jm67oJ1Q"
   },
   "source": [
    "## Experimental Setup\n",
    "\n",
    "We will train a neural network on the training data for 25 epochs with mini-batch size as hyperparameter .\n",
    "\n",
    "The architecture is as follows:\n",
    "- Multiple hidden layer with units as hyperparameter, \n",
    "- One output layer preceded with one dropout layer and one batch normalization layer \n",
    "- The activation of the hidden layers is a Relu cause it does not activate all the neurons at the same time\n",
    "- The activation of the output layer is a Softmax because it converts the scores to a normalized probability distribution, which can be displayed to a user or used as input to other systems.\n",
    "- The loss function is a binary cross-entropy funtion\n",
    "- The optimizer of this model is adam because combines the best properties of the AdaGrad and RMSProp algorithms to provide an optimization algorithm that can handle sparse gradients on noisy problems.\n"
   ]
  },
  {
   "cell_type": "markdown",
   "metadata": {
    "id": "Vzeg9I2MoJ1Q"
   },
   "source": [
    "## Hyperparameters Tuning"
   ]
  },
  {
   "cell_type": "markdown",
   "metadata": {
    "id": "rAcHqF4-oJ1Q"
   },
   "source": [
    "We will tune the hyperparameters of the above architecture using random search by validating on the validation set. \n",
    "\n",
    "The hyperparameters that need to be tuned are:\n",
    "- Learning rates\n",
    "- Dropout rate\n",
    "- Number of hidden units\n",
    "- Mini-batch size\n",
    "- Learning rate decay\n",
    "- Number of layers\n",
    "\n",
    "We will be using random search to find the best parameters cause GridSearch is taking a huge ammount of time and we are going to implement our own random search"
   ]
  },
  {
   "cell_type": "code",
   "execution_count": null,
   "metadata": {
    "id": "ZmPOM4_IoJ1Q"
   },
   "outputs": [],
   "source": [
    "import keras.backend as K\n",
    "def get_f1(y_true, y_pred): #taken from old keras source code cause it doesnt support f1 anymore\n",
    "    true_positives = K.sum(K.round(K.clip(y_true * y_pred, 0, 1)))\n",
    "    possible_positives = K.sum(K.round(K.clip(y_true, 0, 1)))\n",
    "    predicted_positives = K.sum(K.round(K.clip(y_pred, 0, 1)))\n",
    "    precision = true_positives / (predicted_positives + K.epsilon())\n",
    "    recall = true_positives / (possible_positives + K.epsilon())\n",
    "    f1_val = 2*(precision*recall)/(precision+recall+K.epsilon())\n",
    "    return f1_val"
   ]
  },
  {
   "cell_type": "code",
   "execution_count": null,
   "metadata": {
    "id": "mltnnu5hoJ1Q"
   },
   "outputs": [],
   "source": [
    "#The function that build the neural network given the random parameters\n",
    "import random\n",
    "def create_model(params):\n",
    "    model = keras.Sequential()\n",
    "    model.add(keras.layers.Dense(units = params['units'],activation = 'relu',input_shape = (xtrain.shape[1],))) \n",
    "    for i in range(params['layers']):\n",
    "        model.add(keras.layers.Dense(units = params['units'],activation = 'relu'))\n",
    "    model.add(keras.layers.BatchNormalization())\n",
    "    model.add(keras.layers.Dropout(params['dropout']))\n",
    "    model.add(keras.layers.Dense(1,activation='softmax'))\n",
    "    \n",
    "    opt = keras.optimizers.adam(lr=params['Learning Rate'], decay = params['decay'])                               \n",
    "    model.compile(optimizer = opt,loss='binary_crossentropy',metrics = ['accuracy',get_f1])\n",
    "    return model"
   ]
  },
  {
   "cell_type": "code",
   "execution_count": null,
   "metadata": {
    "id": "UBmU0XdOoJ1Q"
   },
   "outputs": [],
   "source": [
    "#The function that does the randomization given the parameters dictionnary\n",
    "#It fits models based on the <<num_iterations>> parameter and append these models to a list \n",
    "def random_search(params, num_iterations, xtrain, ytrain, xval, yval, epochs):\n",
    "    models = []\n",
    "    for i in range(num_iterations):\n",
    "        print(\"Sample Number : \"+str(i+1))        \n",
    "        passing_params = {}\n",
    "        passing_params.update({'layers' : random.choice(params['layers'])})\n",
    "        passing_params.update({'Learning Rate' :random.choice(params['Learning Rate'])})\n",
    "        passing_params.update({'units' : random.choice(params['units'])})\n",
    "        passing_params.update({'batchSize' : random.choice(params['batchSize'])})\n",
    "        passing_params.update({'decay' : random.choice(params['decay'])})\n",
    "        passing_params.update({'dropout' : random.choice(params['dropout'])})\n",
    "        print('Batch Size : '+str(passing_params['batchSize']))\n",
    "        model = create_model(passing_params)\n",
    "        h = model.fit(xtrain,ytrain,validation_data=(xval,yval),\n",
    "                            batch_size=passing_params['batchSize'],epochs=epochs)\n",
    "        val_acc = h.history['val_accuracy'][-1]\n",
    "        get_f1 = h.history['get_f1'][-1]\n",
    "        models.append([str(passing_params),val_acc,get_f1,h,model])\n",
    "    return models"
   ]
  },
  {
   "cell_type": "code",
   "execution_count": null,
   "metadata": {
    "id": "vQMQOu38oJ1Q"
   },
   "outputs": [],
   "source": [
    "#The table of choosen values for parameter tuning\n",
    "params = { 'Learning Rate': [0.001, 0.25, 0.5, 0.4],\n",
    "          'dropout' : [0.2,0.1,0.3],\n",
    "          'batchSize' : [128,256,512,1024],\n",
    "          'decay': [0.055,0.003, 0.022, 0.001],\n",
    "          'layers' : [7,10,15],\n",
    "          'units' : [20,30,40,50]\n",
    "         }"
   ]
  },
  {
   "cell_type": "code",
   "execution_count": null,
   "metadata": {
    "id": "3pro2EHgoJ1Q",
    "outputId": "54bbd285-84a0-4673-9b09-577ba6b528f5"
   },
   "outputs": [
    {
     "name": "stdout",
     "output_type": "stream",
     "text": [
      "Sample Number : 1\n",
      "Batch Size : 512\n",
      "Train on 526086 samples, validate on 131522 samples\n",
      "Epoch 1/15\n",
      "526086/526086 [==============================] - 15s 28us/step - loss: 7.6660 - accuracy: 0.5000 - get_f1: 0.6665 - val_loss: 7.6271 - val_accuracy: 0.4998 - val_get_f1: 0.6662\n",
      "Epoch 2/15\n",
      "526086/526086 [==============================] - 17s 32us/step - loss: 7.6660 - accuracy: 0.5000 - get_f1: 0.6664 - val_loss: 7.6271 - val_accuracy: 0.4998 - val_get_f1: 0.6662\n",
      "Epoch 3/15\n",
      "526086/526086 [==============================] - 18s 34us/step - loss: 7.6660 - accuracy: 0.5000 - get_f1: 0.6664 - val_loss: 7.6271 - val_accuracy: 0.4998 - val_get_f1: 0.6662\n",
      "Epoch 4/15\n",
      "526086/526086 [==============================] - 17s 33us/step - loss: 7.6660 - accuracy: 0.5000 - get_f1: 0.6664 - val_loss: 7.6271 - val_accuracy: 0.4998 - val_get_f1: 0.6662\n",
      "Epoch 5/15\n",
      "526086/526086 [==============================] - 18s 34us/step - loss: 7.6660 - accuracy: 0.5000 - get_f1: 0.6664 - val_loss: 7.6271 - val_accuracy: 0.4998 - val_get_f1: 0.6662\n",
      "Epoch 6/15\n",
      "526086/526086 [==============================] - 18s 34us/step - loss: 7.6660 - accuracy: 0.5000 - get_f1: 0.6664 - val_loss: 7.6271 - val_accuracy: 0.4998 - val_get_f1: 0.6662\n",
      "Epoch 7/15\n",
      "526086/526086 [==============================] - 18s 35us/step - loss: 7.6660 - accuracy: 0.5000 - get_f1: 0.6664 - val_loss: 7.6271 - val_accuracy: 0.4998 - val_get_f1: 0.6662\n",
      "Epoch 8/15\n",
      "526086/526086 [==============================] - 17s 32us/step - loss: 7.6660 - accuracy: 0.5000 - get_f1: 0.6664 - val_loss: 7.6271 - val_accuracy: 0.4998 - val_get_f1: 0.6662\n",
      "Epoch 9/15\n",
      "526086/526086 [==============================] - 17s 32us/step - loss: 7.6660 - accuracy: 0.5000 - get_f1: 0.6664 - val_loss: 7.6271 - val_accuracy: 0.4998 - val_get_f1: 0.6662\n",
      "Epoch 10/15\n",
      "526086/526086 [==============================] - 17s 33us/step - loss: 7.6660 - accuracy: 0.5000 - get_f1: 0.6664 - val_loss: 7.6271 - val_accuracy: 0.4998 - val_get_f1: 0.6662\n",
      "Epoch 11/15\n",
      "526086/526086 [==============================] - 17s 32us/step - loss: 7.6660 - accuracy: 0.5000 - get_f1: 0.6664 - val_loss: 7.6271 - val_accuracy: 0.4998 - val_get_f1: 0.6662\n",
      "Epoch 12/15\n",
      "526086/526086 [==============================] - 17s 32us/step - loss: 7.6660 - accuracy: 0.5000 - get_f1: 0.6664 - val_loss: 7.6271 - val_accuracy: 0.4998 - val_get_f1: 0.6662\n",
      "Epoch 13/15\n",
      "526086/526086 [==============================] - 17s 32us/step - loss: 7.6660 - accuracy: 0.5000 - get_f1: 0.6664 - val_loss: 7.6271 - val_accuracy: 0.4998 - val_get_f1: 0.6662cy: 0.5000 - get_f1: 0 - ETA: 2s - loss: 7.6676 - accuracy: - ETA: 1s - loss: 7.6623 - accuracy: 0.\n",
      "Epoch 14/15\n",
      "526086/526086 [==============================] - 17s 32us/step - loss: 7.6660 - accuracy: 0.5000 - get_f1: 0.6664 - val_loss: 7.6271 - val_accuracy: 0.4998 - val_get_f1: 0.6662\n",
      "Epoch 15/15\n",
      "526086/526086 [==============================] - 17s 32us/step - loss: 7.6660 - accuracy: 0.5000 - get_f1: 0.6664 - val_loss: 7.6271 - val_accuracy: 0.4998 - val_get_f1: 0.6662\n",
      "Sample Number : 2\n",
      "Batch Size : 512\n",
      "Train on 526086 samples, validate on 131522 samples\n",
      "Epoch 1/15\n",
      "526086/526086 [==============================] - 18s 35us/step - loss: 7.6660 - accuracy: 0.5000 - get_f1: 0.6664 - val_loss: 7.6271 - val_accuracy: 0.4998 - val_get_f1: 0.6662\n",
      "Epoch 2/15\n",
      "526086/526086 [==============================] - 16s 31us/step - loss: 7.6660 - accuracy: 0.5000 - get_f1: 0.6664 - val_loss: 7.6271 - val_accuracy: 0.4998 - val_get_f1: 0.6662\n",
      "Epoch 3/15\n",
      "526086/526086 [==============================] - 17s 32us/step - loss: 7.6660 - accuracy: 0.5000 - get_f1: 0.6664 - val_loss: 7.6271 - val_accuracy: 0.4998 - val_get_f1: 0.6662\n",
      "Epoch 4/15\n",
      "526086/526086 [==============================] - 17s 32us/step - loss: 7.6660 - accuracy: 0.5000 - get_f1: 0.6664 - val_loss: 7.6271 - val_accuracy: 0.4998 - val_get_f1: 0.6662\n",
      "Epoch 5/15\n",
      "526086/526086 [==============================] - 18s 34us/step - loss: 7.6660 - accuracy: 0.5000 - get_f1: 0.6664 - val_loss: 7.6271 - val_accuracy: 0.4998 - val_get_f1: 0.6662\n",
      "Epoch 6/15\n",
      "526086/526086 [==============================] - 17s 32us/step - loss: 7.6660 - accuracy: 0.5000 - get_f1: 0.6664 - val_loss: 7.6271 - val_accuracy: 0.4998 - val_get_f1: 0.6662\n",
      "Epoch 7/15\n",
      "526086/526086 [==============================] - 17s 32us/step - loss: 7.6660 - accuracy: 0.5000 - get_f1: 0.6664 - val_loss: 7.6271 - val_accuracy: 0.4998 - val_get_f1: 0.6662\n",
      "Epoch 8/15\n",
      "526086/526086 [==============================] - 17s 31us/step - loss: 7.6660 - accuracy: 0.5000 - get_f1: 0.6664 - val_loss: 7.6271 - val_accuracy: 0.4998 - val_get_f1: 0.6662\n",
      "Epoch 9/15\n",
      "526086/526086 [==============================] - 17s 33us/step - loss: 7.6660 - accuracy: 0.5000 - get_f1: 0.6664 - val_loss: 7.6271 - val_accuracy: 0.4998 - val_get_f1: 0.6662\n",
      "Epoch 10/15\n",
      "526086/526086 [==============================] - 17s 33us/step - loss: 7.6660 - accuracy: 0.5000 - get_f1: 0.6664 - val_loss: 7.6271 - val_accuracy: 0.4998 - val_get_f1: 0.6662\n",
      "Epoch 11/15\n",
      "526086/526086 [==============================] - 17s 32us/step - loss: 7.6660 - accuracy: 0.5000 - get_f1: 0.6664 - val_loss: 7.6271 - val_accuracy: 0.4998 - val_get_f1: 0.6662\n",
      "Epoch 12/15\n",
      "526086/526086 [==============================] - 17s 32us/step - loss: 7.6660 - accuracy: 0.5000 - get_f1: 0.6664 - val_loss: 7.6271 - val_accuracy: 0.4998 - val_get_f1: 0.6662\n",
      "Epoch 13/15\n",
      "526086/526086 [==============================] - 17s 32us/step - loss: 7.6660 - accuracy: 0.5000 - get_f1: 0.6664 - val_loss: 7.6271 - val_accuracy: 0.4998 - val_get_f1: 0.6662\n",
      "Epoch 14/15\n",
      "526086/526086 [==============================] - 17s 33us/step - loss: 7.6660 - accuracy: 0.5000 - get_f1: 0.6664 - val_loss: 7.6271 - val_accuracy: 0.4998 - val_get_f1: 0.6662\n",
      "Epoch 15/15\n",
      "526086/526086 [==============================] - 18s 34us/step - loss: 7.6660 - accuracy: 0.5000 - get_f1: 0.6664 - val_loss: 7.6271 - val_accuracy: 0.4998 - val_get_f1: 0.6662\n",
      "Sample Number : 3\n",
      "Batch Size : 512\n",
      "Train on 526086 samples, validate on 131522 samples\n",
      "Epoch 1/15\n",
      "526086/526086 [==============================] - 18s 35us/step - loss: 7.6660 - accuracy: 0.5000 - get_f1: 0.6664 - val_loss: 7.6271 - val_accuracy: 0.4998 - val_get_f1: 0.6662\n",
      "Epoch 2/15\n",
      "526086/526086 [==============================] - 17s 32us/step - loss: 7.6660 - accuracy: 0.5000 - get_f1: 0.6664 - val_loss: 7.6271 - val_accuracy: 0.4998 - val_get_f1: 0.6662\n",
      "Epoch 3/15\n",
      "526086/526086 [==============================] - 18s 34us/step - loss: 7.6660 - accuracy: 0.5000 - get_f1: 0.6664 - val_loss: 7.6271 - val_accuracy: 0.4998 - val_get_f1: 0.6662\n",
      "Epoch 4/15\n",
      "526086/526086 [==============================] - 17s 32us/step - loss: 7.6660 - accuracy: 0.5000 - get_f1: 0.6664 - val_loss: 7.6271 - val_accuracy: 0.4998 - val_get_f1: 0.6662\n",
      "Epoch 5/15\n",
      "526086/526086 [==============================] - 17s 32us/step - loss: 7.6660 - accuracy: 0.5000 - get_f1: 0.6664 - val_loss: 7.6271 - val_accuracy: 0.4998 - val_get_f1: 0.6662\n",
      "Epoch 6/15\n",
      "526086/526086 [==============================] - 17s 32us/step - loss: 7.6660 - accuracy: 0.5000 - get_f1: 0.6664 - val_loss: 7.6271 - val_accuracy: 0.4998 - val_get_f1: 0.6662\n",
      "Epoch 7/15\n",
      "526086/526086 [==============================] - 17s 33us/step - loss: 7.6660 - accuracy: 0.5000 - get_f1: 0.6664 - val_loss: 7.6271 - val_accuracy: 0.4998 - val_get_f1: 0.6662\n",
      "Epoch 8/15\n",
      "526086/526086 [==============================] - 17s 32us/step - loss: 7.6660 - accuracy: 0.5000 - get_f1: 0.6664 - val_loss: 7.6271 - val_accuracy: 0.4998 - val_get_f1: 0.6662\n",
      "Epoch 9/15\n",
      "526086/526086 [==============================] - 17s 32us/step - loss: 7.6660 - accuracy: 0.5000 - get_f1: 0.6664 - val_loss: 7.6271 - val_accuracy: 0.4998 - val_get_f1: 0.6662\n",
      "Epoch 10/15\n",
      "526086/526086 [==============================] - 17s 32us/step - loss: 7.6660 - accuracy: 0.5000 - get_f1: 0.6664 - val_loss: 7.6271 - val_accuracy: 0.4998 - val_get_f1: 0.6662\n",
      "Epoch 11/15\n",
      "526086/526086 [==============================] - 17s 33us/step - loss: 7.6660 - accuracy: 0.5000 - get_f1: 0.6664 - val_loss: 7.6271 - val_accuracy: 0.4998 - val_get_f1: 0.6662\n",
      "Epoch 12/15\n",
      "526086/526086 [==============================] - 16s 31us/step - loss: 7.6660 - accuracy: 0.5000 - get_f1: 0.6664 - val_loss: 7.6271 - val_accuracy: 0.4998 - val_get_f1: 0.6662 \n",
      "Epoch 13/15\n",
      "526086/526086 [==============================] - 17s 32us/step - loss: 7.6660 - accuracy: 0.5000 - get_f1: 0.6664 - val_loss: 7.6271 - val_accuracy: 0.4998 - val_get_f1: 0.6662\n",
      "Epoch 14/15\n",
      "526086/526086 [==============================] - 17s 32us/step - loss: 7.6660 - accuracy: 0.5000 - get_f1: 0.6664 - val_loss: 7.6271 - val_accuracy: 0.4998 - val_get_f1: 0.6662\n",
      "Epoch 15/15\n",
      "526086/526086 [==============================] - 18s 34us/step - loss: 7.6660 - accuracy: 0.5000 - get_f1: 0.6664 - val_loss: 7.6271 - val_accuracy: 0.4998 - val_get_f1: 0.6662\n",
      "Sample Number : 4\n",
      "Batch Size : 1024\n",
      "Train on 526086 samples, validate on 131522 samples\n",
      "Epoch 1/15\n",
      "526086/526086 [==============================] - 8s 16us/step - loss: 7.6660 - accuracy: 0.5000 - get_f1: 0.6666 - val_loss: 7.6271 - val_accuracy: 0.4998 - val_get_f1: 0.6662\n",
      "Epoch 2/15\n",
      "526086/526086 [==============================] - 8s 15us/step - loss: 7.6660 - accuracy: 0.5000 - get_f1: 0.6666 - val_loss: 7.6271 - val_accuracy: 0.4998 - val_get_f1: 0.6662\n",
      "Epoch 3/15\n",
      "526086/526086 [==============================] - 7s 13us/step - loss: 7.6660 - accuracy: 0.5000 - get_f1: 0.6666 - val_loss: 7.6271 - val_accuracy: 0.4998 - val_get_f1: 0.6662\n",
      "Epoch 4/15\n",
      "526086/526086 [==============================] - 7s 14us/step - loss: 7.6660 - accuracy: 0.5000 - get_f1: 0.6666 - val_loss: 7.6271 - val_accuracy: 0.4998 - val_get_f1: 0.6662get_f1: 0.6\n",
      "Epoch 5/15\n",
      "526086/526086 [==============================] - 7s 14us/step - loss: 7.6660 - accuracy: 0.5000 - get_f1: 0.6665 - val_loss: 7.6271 - val_accuracy: 0.4998 - val_get_f1: 0.6662\n",
      "Epoch 6/15\n",
      "526086/526086 [==============================] - 7s 14us/step - loss: 7.6660 - accuracy: 0.5000 - get_f1: 0.6666 - val_loss: 7.6271 - val_accuracy: 0.4998 - val_get_f1: 0.6662\n",
      "Epoch 7/15\n",
      "526086/526086 [==============================] - 7s 14us/step - loss: 7.6660 - accuracy: 0.5000 - get_f1: 0.6666 - val_loss: 7.6271 - val_accuracy: 0.4998 - val_get_f1: 0.6662\n",
      "Epoch 8/15\n",
      "526086/526086 [==============================] - 7s 14us/step - loss: 7.6660 - accuracy: 0.5000 - get_f1: 0.6666 - val_loss: 7.6271 - val_accuracy: 0.4998 - val_get_f1: 0.6662\n",
      "Epoch 9/15\n",
      "526086/526086 [==============================] - 7s 13us/step - loss: 7.6660 - accuracy: 0.5000 - get_f1: 0.6666 - val_loss: 7.6271 - val_accuracy: 0.4998 - val_get_f1: 0.6662\n",
      "Epoch 10/15\n",
      "526086/526086 [==============================] - 7s 13us/step - loss: 7.6660 - accuracy: 0.5000 - get_f1: 0.6666 - val_loss: 7.6271 - val_accuracy: 0.4998 - val_get_f1: 0.6662\n",
      "Epoch 11/15\n",
      "526086/526086 [==============================] - 7s 13us/step - loss: 7.6660 - accuracy: 0.5000 - get_f1: 0.6666 - val_loss: 7.6271 - val_accuracy: 0.4998 - val_get_f1: 0.6662\n",
      "Epoch 12/15\n",
      "526086/526086 [==============================] - 7s 13us/step - loss: 7.6660 - accuracy: 0.5000 - get_f1: 0.6665 - val_loss: 7.6271 - val_accuracy: 0.4998 - val_get_f1: 0.6662\n",
      "Epoch 13/15\n",
      "526086/526086 [==============================] - 7s 13us/step - loss: 7.6660 - accuracy: 0.5000 - get_f1: 0.6666 - val_loss: 7.6271 - val_accuracy: 0.4998 - val_get_f1: 0.6662\n",
      "Epoch 14/15\n",
      "526086/526086 [==============================] - 7s 13us/step - loss: 7.6660 - accuracy: 0.5000 - get_f1: 0.6666 - val_loss: 7.6271 - val_accuracy: 0.4998 - val_get_f1: 0.6662\n",
      "Epoch 15/15\n",
      "526086/526086 [==============================] - 7s 13us/step - loss: 7.6660 - accuracy: 0.5000 - get_f1: 0.6666 - val_loss: 7.6271 - val_accuracy: 0.4998 - val_get_f1: 0.6662\n",
      "Sample Number : 5\n",
      "Batch Size : 512\n",
      "Train on 526086 samples, validate on 131522 samples\n",
      "Epoch 1/15\n",
      "526086/526086 [==============================] - 17s 32us/step - loss: 7.6660 - accuracy: 0.5000 - get_f1: 0.6664 - val_loss: 7.6271 - val_accuracy: 0.4998 - val_get_f1: 0.6662\n",
      "Epoch 2/15\n",
      "526086/526086 [==============================] - 15s 29us/step - loss: 7.6660 - accuracy: 0.5000 - get_f1: 0.6664 - val_loss: 7.6271 - val_accuracy: 0.4998 - val_get_f1: 0.6662\n",
      "Epoch 3/15\n",
      "526086/526086 [==============================] - 16s 29us/step - loss: 7.6660 - accuracy: 0.5000 - get_f1: 0.6664 - val_loss: 7.6271 - val_accuracy: 0.4998 - val_get_f1: 0.6662\n",
      "Epoch 4/15\n",
      "526086/526086 [==============================] - 19s 35us/step - loss: 7.6660 - accuracy: 0.5000 - get_f1: 0.6664 - val_loss: 7.6271 - val_accuracy: 0.4998 - val_get_f1: 0.6662\n",
      "Epoch 5/15\n",
      "526086/526086 [==============================] - 17s 31us/step - loss: 7.6660 - accuracy: 0.5000 - get_f1: 0.6664 - val_loss: 7.6271 - val_accuracy: 0.4998 - val_get_f1: 0.6662\n",
      "Epoch 6/15\n",
      "526086/526086 [==============================] - 15s 29us/step - loss: 7.6660 - accuracy: 0.5000 - get_f1: 0.6664 - val_loss: 7.6271 - val_accuracy: 0.4998 - val_get_f1: 0.6662\n",
      "Epoch 7/15\n",
      "526086/526086 [==============================] - 14s 27us/step - loss: 7.6660 - accuracy: 0.5000 - get_f1: 0.6664 - val_loss: 7.6271 - val_accuracy: 0.4998 - val_get_f1: 0.6662\n",
      "Epoch 8/15\n",
      "526086/526086 [==============================] - 14s 27us/step - loss: 7.6660 - accuracy: 0.5000 - get_f1: 0.6664 - val_loss: 7.6271 - val_accuracy: 0.4998 - val_get_f1: 0.6662\n",
      "Epoch 9/15\n",
      "526086/526086 [==============================] - 15s 28us/step - loss: 7.6660 - accuracy: 0.5000 - get_f1: 0.6664 - val_loss: 7.6271 - val_accuracy: 0.4998 - val_get_f1: 0.6662\n",
      "Epoch 10/15\n",
      "526086/526086 [==============================] - 15s 28us/step - loss: 7.6660 - accuracy: 0.5000 - get_f1: 0.6664 - val_loss: 7.6271 - val_accuracy: 0.4998 - val_get_f1: 0.6662\n",
      "Epoch 11/15\n",
      "526086/526086 [==============================] - 14s 27us/step - loss: 7.6660 - accuracy: 0.5000 - get_f1: 0.6664 - val_loss: 7.6271 - val_accuracy: 0.4998 - val_get_f1: 0.6662\n",
      "Epoch 12/15\n",
      "526086/526086 [==============================] - 14s 27us/step - loss: 7.6660 - accuracy: 0.5000 - get_f1: 0.6664 - val_loss: 7.6271 - val_accuracy: 0.4998 - val_get_f1: 0.6662\n",
      "Epoch 13/15\n",
      "526086/526086 [==============================] - 14s 27us/step - loss: 7.6660 - accuracy: 0.5000 - get_f1: 0.6664 - val_loss: 7.6271 - val_accuracy: 0.4998 - val_get_f1: 0.6662\n",
      "Epoch 14/15\n",
      "526086/526086 [==============================] - 14s 27us/step - loss: 7.6660 - accuracy: 0.5000 - get_f1: 0.6664 - val_loss: 7.6271 - val_accuracy: 0.4998 - val_get_f1: 0.6662\n",
      "Epoch 15/15\n",
      "526086/526086 [==============================] - 14s 27us/step - loss: 7.6660 - accuracy: 0.5000 - get_f1: 0.6664 - val_loss: 7.6271 - val_accuracy: 0.4998 - val_get_f1: 0.6662\n"
     ]
    }
   ],
   "source": [
    "#Fitting the model using 15 epochs on 5 randmonized set of paremeters\n",
    "models = random_search(params,5 ,xtrain, ytrain, xval, yval, 15)"
   ]
  },
  {
   "cell_type": "code",
   "execution_count": null,
   "metadata": {
    "id": "O6IgENFNoJ1R",
    "outputId": "bae2ee3f-57f9-4d48-9996-1b0f4fc77bd9"
   },
   "outputs": [
    {
     "name": "stdout",
     "output_type": "stream",
     "text": [
      "The highest accuracy is 49.98403191566467 and it corresponds to these following hyperparameters\n",
      "\n",
      "{'layers': 15, 'Learning Rate': 0.5, 'units': 50, 'batchSize': 512, 'decay': 0.001, 'dropout': 0.1}\n",
      "It's F-measure is 0.6664199\n"
     ]
    }
   ],
   "source": [
    "#This function is used to get the best model given the list of models generated earlier\n",
    "def getBest(models):\n",
    "    best_model_params = models[0][0]\n",
    "    maxAcc = models[0][1]*100\n",
    "    f = models[0][2]\n",
    "    h = models[0][3]\n",
    "    best_model = models[0][4]\n",
    "    for model in models:\n",
    "        if model[1]>maxAcc:\n",
    "            maxAcc = model[1]*100\n",
    "            best_model_params = model[0]\n",
    "            f = model[2]\n",
    "            h = model[3]\n",
    "            best_model = model[4]\n",
    "    return best_model_params, maxAcc, f, h, best_model\n",
    "parameters, accuracy, Fmeasure, history, model = getBest(models)\n",
    "print(\"The highest accuracy is\",accuracy,\"and it corresponds to these following hyperparameters\\n\")\n",
    "print(parameters)\n",
    "print(\"It's F-measure is\", Fmeasure)\n"
   ]
  },
  {
   "cell_type": "markdown",
   "metadata": {
    "id": "w1wOzsCHoJ1R"
   },
   "source": [
    "## Evaluating the model using Accuracy and Fmeasure"
   ]
  },
  {
   "cell_type": "markdown",
   "metadata": {
    "id": "pT_KD0AdoJ1R"
   },
   "source": [
    "The neural network presented very low accuracy and Fmeasure. The low accuracy means that you are doing underfitting (high bias) and the low Fmeasure indicates both poor precision and poor recall. This  poor performance is due to poor training and overfitted and underfitted classes in the data because of SMOTE. We could conclude clearly that SMOTE after all isn't that good to deal with imbalanced data when it comes to neural networks"
   ]
  },
  {
   "cell_type": "markdown",
   "metadata": {
    "id": "RMMs8mk0oJ1R"
   },
   "source": [
    "## Visualize Model Training History"
   ]
  },
  {
   "cell_type": "markdown",
   "metadata": {
    "id": "xJbIbCE2oJ1R"
   },
   "source": [
    "Below is the plot of accuracy on the training and validation datasets over training epochs."
   ]
  },
  {
   "cell_type": "code",
   "execution_count": null,
   "metadata": {
    "id": "4CMzTXxSoJ1R",
    "outputId": "9db96f09-dbc7-48e6-86bc-97367c6b579a"
   },
   "outputs": [
    {
     "data": {
      "image/png": "[encoded data removed]",
      "text/plain": [
       "<Figure size 432x288 with 1 Axes>"
      ]
     },
     "metadata": {
      "needs_background": "light",
      "tags": []
     },
     "output_type": "display_data"
    }
   ],
   "source": [
    "plt.plot(history.history['accuracy'])\n",
    "plt.plot(history.history['val_accuracy'])\n",
    "plt.title('model accuracy')\n",
    "plt.ylabel('accuracy')\n",
    "plt.xlabel('epoch')\n",
    "plt.legend(['train', 'test'], loc='upper left')\n",
    "plt.show()"
   ]
  },
  {
   "cell_type": "markdown",
   "metadata": {
    "id": "M0CRGBN1oJ1R"
   },
   "source": [
    "From the plot of accuracy, we can see that the model must be trained differently and more epochs will not increase the performance since it didn't change during the whole training. This means the optimizer has found a local minimum for the loss. This may be an undesirable minimum. One common local minimum is to always predict the class with the most number of data points. It could also mean that the optimizer isn't fit for the data.\n",
    "\n",
    "We tried **many** combinations and many different architectures but nothing helped to get the best results. This might be because of the undersampling of the majority class and the oversampling of the minority class that happened when we used SMOTE."
   ]
  },
  {
   "cell_type": "markdown",
   "metadata": {
    "id": "RBloxyoFoJ1R"
   },
   "source": [
    "Below is the plot of loss on the training and validation datasets over training epochs."
   ]
  },
  {
   "cell_type": "code",
   "execution_count": null,
   "metadata": {
    "id": "ItB7QHq-oJ1R",
    "outputId": "4cb50cbb-cf30-46e3-ae0e-f9663a4517c6"
   },
   "outputs": [
    {
     "data": {
      "image/png": "[encoded data removed]",
      "text/plain": [
       "<Figure size 432x288 with 1 Axes>"
      ]
     },
     "metadata": {
      "needs_background": "light",
      "tags": []
     },
     "output_type": "display_data"
    }
   ],
   "source": [
    "# summarize history for loss\n",
    "plt.plot(history.history['loss'])\n",
    "plt.plot(history.history['val_loss'])\n",
    "plt.title('model loss')\n",
    "plt.ylabel('loss')\n",
    "plt.xlabel('epoch')\n",
    "plt.legend(['train', 'test'], loc='upper left')\n",
    "plt.show()"
   ]
  },
  {
   "cell_type": "markdown",
   "metadata": {
    "id": "fhhBKOlgoJ1R"
   },
   "source": [
    "From the plot of loss, we can see that both validation and training loss are very high but very similar.\n",
    "Higher loss is the worse(bad prediction) for any model. The loss is calculated on training and validation and its interpretation is how well the model is doing for these two sets.\n",
    "If the model's prediction is perfect, the loss is zero; otherwise, the loss is greater.\n",
    "The loss in our model is very high indicating that the model isn't well-performing.\n",
    "From the other side, we see that the validation and training loss are very similar and that the validation loss is lower than the training loss and this is the result of data leakage because of SMOTE."
   ]
  },
  {
   "cell_type": "markdown",
   "metadata": {
    "id": "c7K410CxoJ1R"
   },
   "source": [
    "## Evaluating the model using ROC and AUC"
   ]
  },
  {
   "cell_type": "markdown",
   "metadata": {
    "id": "lkgH181ToJ1R"
   },
   "source": [
    "AUC - ROC curve is a performance measurement for classification problem at various thresholds settings. ROC is a probability curve and AUC represents degree or measure of separability. It tells how much model is capable of distinguishing between classes. Higher the AUC, better the model is at predicting 0s as 0s and 1s as 1s. By analogy, Higher the AUC, better the model is at distinguishing between patients with disease and no disease."
   ]
  },
  {
   "cell_type": "markdown",
   "metadata": {
    "id": "AcH0oYbBoJ1R"
   },
   "source": [
    "To make the plot looks more meaningful, let's train another binary classifier and compare it with our Keras classifier later in the same plot."
   ]
  },
  {
   "cell_type": "code",
   "execution_count": null,
   "metadata": {
    "id": "Pv3zhLkloJ1R"
   },
   "outputs": [],
   "source": [
    "from sklearn.ensemble import RandomForestClassifier\n",
    "# Supervised transformation based on random forests\n",
    "rf = RandomForestClassifier(max_depth=3, n_estimators=10)\n",
    "rf.fit(X_train, y_train)\n",
    "\n",
    "y_pred_rf = rf.predict_proba(X_test)[:, 1]\n",
    "fpr_rf, tpr_rf, thresholds_rf = roc_curve(y_test, y_pred_rf)\n",
    "auc_rf = auc(fpr_rf, tpr_rf)"
   ]
  },
  {
   "cell_type": "markdown",
   "metadata": {
    "id": "wl9s6wAOoJ1S"
   },
   "source": [
    "Now, let's plot the ROC for the two classifiers."
   ]
  },
  {
   "cell_type": "code",
   "execution_count": null,
   "metadata": {
    "id": "uHIh1tYboJ1S"
   },
   "outputs": [],
   "source": [
    "y_pred = model.predict(X_test).ravel()\n",
    "fpr_keras, tpr_keras, thresholds_keras = roc_curve(y_test, y_pred)\n",
    "auc_keras = auc(fpr_keras, tpr_keras)"
   ]
  },
  {
   "cell_type": "code",
   "execution_count": null,
   "metadata": {
    "id": "mX-CQ6GWoJ1S",
    "outputId": "b89c89e1-60ec-472b-e06f-2db98070970a"
   },
   "outputs": [
    {
     "data": {
      "image/png": "[encoded data removed]",
      "text/plain": [
       "<Figure size 432x288 with 1 Axes>"
      ]
     },
     "metadata": {
      "needs_background": "light",
      "tags": []
     },
     "output_type": "display_data"
    }
   ],
   "source": [
    "plt.figure(1)\n",
    "plt.plot([0, 1], [0, 1], 'k--')\n",
    "plt.plot(fpr_keras, tpr_keras, label='Keras (area = {:.3f})'.format(auc_keras))\n",
    "plt.plot(fpr_rf, tpr_rf, label='RF (area = {:.3f})'.format(auc_rf))\n",
    "plt.xlabel('False positive rate')\n",
    "plt.ylabel('True positive rate')\n",
    "plt.title('ROC curve')\n",
    "plt.legend(loc='best')\n",
    "plt.show()"
   ]
  },
  {
   "cell_type": "markdown",
   "metadata": {
    "id": "sgnqhF_BoJ1S"
   },
   "source": [
    "With AUC=0.5, then the classifier is not able to distinguish between Positive and Negative class points. Meaning either the classifier is predicting random class or constant class for all the data points."
   ]
  },
  {
   "cell_type": "markdown",
   "metadata": {
    "id": "Qpm-TQVtoJ1S"
   },
   "source": [
    "## Comparing with the previouse Neural Network\n",
    "\n",
    "Since the model operated very badly on the first place, reducing the dataset to the important features only increased the accuracy and Fmeasure for a very minimal fraction. Both models using all features and best features are not helpful, their performance and evaluation are the same."
   ]
  },
  {
   "cell_type": "markdown",
   "metadata": {
    "id": "P_uosNTyutL4"
   },
   "source": [
    "# KNN"
   ]
  },
  {
   "cell_type": "markdown",
   "metadata": {
    "id": "FAlOXeStvBpQ"
   },
   "source": [
    "KNN algorithm is one of the simplest classification algorithm and it is one of the most used learning algorithms.KNN is a non-parametric, lazy learning algorithm. Its purpose is to use a database in which the data points are separated into several classes to predict the classification of a new sample point. The KNN algorithm works to classify new data based on its proximity to K-neighbors (training data). So if the new data is surrounded by training data that has Class 1, it can be concluded that the new data is included in Class."
   ]
  },
  {
   "cell_type": "markdown",
   "metadata": {
    "id": "uR9Ry2B_vGb1"
   },
   "source": [
    "##Experimental Setup"
   ]
  },
  {
   "cell_type": "markdown",
   "metadata": {
    "id": "l-xl_M6WvJkY"
   },
   "source": [
    "Parameters:\n",
    "\n",
    "n_neighbors\n",
    "\n",
    "Number of neighbors. We set the value from 3 to 10. We will choose later the most appropriate on the values passed to fit method.\n",
    "\n",
    "weights{‘uniform’, ‘distance’}\n",
    "\n",
    "We used both weights, which is kept for the gridSearch to choose which one is most appropriate on the values passed to fit method, chosen by the randomSearch.\n",
    "\n",
    "algorithm\n",
    "\n",
    "we use the auto algo which will attempt to decide the most appropriate algorithm based on the values passed to fit method.\n",
    "\n",
    "Leaf_size\n",
    "\n",
    "This can affect the speed of the construction and query, as well as the memory required to store the tree. From 30,60 & 90, we will get the most appropriate value on the values passed to fit method, by the randomSearch.\n",
    "\n",
    "p\n",
    "\n",
    "Power parameter for the Minkowski metric. When p = 1, this is equivalent to using manhattan_distance (l1), and euclidean_distance (l2) for p = 2. We set the parameter for both values, we will get the most appropriate value on the values passed to fit method, by the randomSearch.\n",
    "\n",
    "n_jobs\n",
    "\n",
    "We used -1 value to use all processes while fitting."
   ]
  },
  {
   "cell_type": "code",
   "execution_count": null,
   "metadata": {
    "id": "TI6MXuG8t7sq"
   },
   "outputs": [],
   "source": [
    "#Grid Table for kNN\n",
    "kNN_parameters = {\n",
    "    \"n_neighbors\" : np.arange(3, 10),\n",
    "    \"weights\"     : ['uniform', 'distance'],    \n",
    "    \"leaf_size\"   : [30,60,90],\n",
    "    \"p\"           : [1,2]\n",
    "}\n",
    "n_jobs = -1"
   ]
  },
  {
   "cell_type": "markdown",
   "metadata": {
    "id": "8eLV4cs9vPwB"
   },
   "source": [
    "We pass the Knn Parameters, after choosing our model (KNeighborsClassifier), then we run our random search using the parameters chosen before, with 3 random iterations and cv = 3. We used these small values inorder to finish the random search and fitting algo in the fastest time possible."
   ]
  },
  {
   "cell_type": "markdown",
   "metadata": {
    "id": "zHIsEggzvSnO"
   },
   "source": [
    "##Hyper Parameters Tuning"
   ]
  },
  {
   "cell_type": "markdown",
   "metadata": {
    "id": "MlYSxpiZvUgF"
   },
   "source": [
    "In machine learning, hyperparameter tuning is the problem of choosing a set of optimal hyperparameters for a learning algorithm. A hyperparameter is a parameter whose value is used to control the learning process. By contrast, the values of other parameters are learned."
   ]
  },
  {
   "cell_type": "code",
   "execution_count": null,
   "metadata": {
    "id": "IZduBFKJt7sq"
   },
   "outputs": [],
   "source": [
    "knn = KNeighborsClassifier()\n",
    "clf = RandomizedSearchCV(knn,kNN_parameters,n_iter=3,n_jobs=-1,cv=3)\n",
    "kNN = clf.fit(X_train,Y_train)"
   ]
  },
  {
   "cell_type": "markdown",
   "metadata": {
    "id": "X6CLipbJvdsy"
   },
   "source": [
    "After finishing the fitting algorithm, we save the values in kNN variable, and then we interpret the result by printing them to the screen. We print the best estimator, best score, and best parameters in our to determine what are the parameters chosen by the random search funtion."
   ]
  },
  {
   "cell_type": "code",
   "execution_count": null,
   "metadata": {
    "id": "1H0LWB9Ut7sq",
    "outputId": "791c129d-ce9c-446d-e4d0-cbb7767603bd"
   },
   "outputs": [
    {
     "name": "stdout",
     "output_type": "stream",
     "text": [
      " Results from Random Search \n",
      "\n",
      " The best estimator across ALL searched params:\n",
      " KNeighborsClassifier(n_neighbors=4, weights='distance')\n",
      "\n",
      " The best score across ALL searched params:\n",
      " 0.8812864206242246\n",
      "\n",
      " The best parameters across ALL searched params:\n",
      " {'weights': 'distance', 'p': 2, 'n_neighbors': 4, 'leaf_size': 30}\n"
     ]
    }
   ],
   "source": [
    "print(\" Results from Random Search \" )\n",
    "print(\"\\n The best estimator across ALL searched params:\\n\", kNN.best_estimator_)\n",
    "print(\"\\n The best score across ALL searched params:\\n\", kNN.best_score_)\n",
    "print(\"\\n The best parameters across ALL searched params:\\n\", kNN.best_params_)"
   ]
  },
  {
   "cell_type": "markdown",
   "metadata": {
    "id": "eG36BDDFvy41"
   },
   "source": [
    "Interpreting the results\n",
    "\n",
    "1) We can determine that the hyper parameters chosen after the tuning process on the data with the selected features were {'weights': 'distance', 'p': 2, 'n_neighbors': 4, 'leaf_size': 30}. We can see that the parameters didn't change accoring to the random search function, even by chosing the best features.\n",
    "\n",
    "2) The best score across all search params chosen by the random search funtion on our new data (after choosing the best features), was 88% similar to the accuracy on the whole initial data .\n",
    "\n",
    "3)We got the best estimator parameters n_neighbors = 4 and weights= \"distance\". The rest parameters weren't mentioned because they are chosen by default in the funtion. "
   ]
  },
  {
   "cell_type": "markdown",
   "metadata": {
    "id": "3gA5RKCpw533"
   },
   "source": [
    "##Evaluating using Confusion Matrix"
   ]
  },
  {
   "cell_type": "markdown",
   "metadata": {
    "id": "8v-9T8trxATW"
   },
   "source": [
    "We use the predict function in the model class to predict the values gained by the fitting function with the Input_testing data.\n",
    "\n",
    "We use the accuracy_score function to get the accuracy of our model."
   ]
  },
  {
   "cell_type": "code",
   "execution_count": null,
   "metadata": {
    "id": "rTwPuBI6t7sr"
   },
   "outputs": [],
   "source": [
    "knn_predict = kNN.predict(X_test)\n",
    "knn_accuracy = accuracy_score(Y_test, knn_predict)"
   ]
  },
  {
   "cell_type": "code",
   "execution_count": null,
   "metadata": {
    "id": "QYaXrk13t7sr",
    "outputId": "d10de11a-e9da-4d17-bfac-a495e015e801"
   },
   "outputs": [
    {
     "name": "stdout",
     "output_type": "stream",
     "text": [
      "Accuracy is:  0.790532256817504 \n",
      "\n",
      "KNN Reports\n",
      "               precision    recall  f1-score   support\n",
      "\n",
      "           0       0.94      0.82      0.88     82266\n",
      "           1       0.21      0.46      0.29      8273\n",
      "\n",
      "    accuracy                           0.79     90539\n",
      "   macro avg       0.57      0.64      0.58     90539\n",
      "weighted avg       0.87      0.79      0.82     90539\n",
      "\n"
     ]
    },
    {
     "data": {
      "image/png": "[encoded data removed]",
      "text/plain": [
       "<Figure size 432x288 with 2 Axes>"
      ]
     },
     "metadata": {
      "needs_background": "light",
      "tags": []
     },
     "output_type": "display_data"
    }
   ],
   "source": [
    "import seaborn as sns\n",
    "\n",
    "print('Accuracy is: ',knn_accuracy, '\\n')\n",
    "cm = confusion_matrix(Y_test,knn_predict)\n",
    "sns.heatmap(cm,annot=True,fmt=\"d\")\n",
    "\n",
    "print('KNN Reports\\n',classification_report(Y_test, knn_predict))\n"
   ]
  },
  {
   "cell_type": "markdown",
   "metadata": {
    "id": "cVnsjofRxI4h"
   },
   "source": [
    "The results here (on the feature selected data) are similar to the one in our whole data confusion matrix. We can determine that the F-scores for response 0 is high where the values is 0.88 indicating perfect precision and recall. For the second value we can determine that the F-score value for the response 1 is low which is 0.29 indicating low precision and recall. But we can notice that the accuracy of our model is 0.79 which means it has a good accuracy."
   ]
  },
  {
   "cell_type": "markdown",
   "metadata": {
    "id": "oj2MRFXxyGmr"
   },
   "source": [
    "##Evaluating using ROC"
   ]
  },
  {
   "cell_type": "code",
   "execution_count": null,
   "metadata": {
    "colab": {
     "base_uri": "https://localhost:8080/",
     "height": 295
    },
    "executionInfo": {
     "elapsed": 19147,
     "status": "ok",
     "timestamp": 1606348264932,
     "user": {
      "displayName": "Dany Tarabay",
      "photoUrl": "",
      "userId": "09758121906366027834"
     },
     "user_tz": -120
    },
    "id": "H_w_GCltyBcA",
    "outputId": "0c16ac5b-79c8-4246-eeba-1484b7b04ef5"
   },
   "outputs": [
    {
     "data": {
      "image/png": "[encoded data removed]",
      "text/plain": [
       "<Figure size 432x288 with 1 Axes>"
      ]
     },
     "metadata": {
      "needs_background": "light",
      "tags": []
     },
     "output_type": "display_data"
    }
   ],
   "source": [
    "import sklearn.metrics as metrics\n",
    "\n",
    "probs = kNN.predict_proba(X_test)\n",
    "preds = probs[:,1]\n",
    "fpr, tpr, threshold = metrics.roc_curve(Y_test, preds)\n",
    "roc_auc = metrics.auc(fpr, tpr)\n",
    "\n",
    "#  plt\n",
    "import matplotlib.pyplot as plt\n",
    "plt.title('ROC for KNN')\n",
    "plt.plot(fpr, tpr, 'b', label = 'AUC = %0.2f' % roc_auc)\n",
    "plt.legend(loc = 'lower right')\n",
    "plt.plot([0, 1], [0, 1],'r--')\n",
    "plt.xlim([0, 1])\n",
    "plt.ylim([0, 1])\n",
    "plt.ylabel('True Positive Rate')\n",
    "plt.xlabel('False Positive Rate')\n",
    "plt.show()"
   ]
  },
  {
   "cell_type": "markdown",
   "metadata": {
    "id": "w_zpPFqtyOwf"
   },
   "source": [
    "In general, we use the following rule of thumb: And the AUC value as determined from the graph, is 0.71 this value means our descrimination is acceptable."
   ]
  },
  {
   "cell_type": "markdown",
   "metadata": {
    "id": "Kcr8057JwtZf"
   },
   "source": [
    "# Conclusion: Overall Evaluation of Feature Selection\n",
    "\n",
    "In addition to the Interpretation of the result gathered from all models and mentioned above: \n",
    "\n",
    "After interpreting the results we got after applying the model to the feature selected dataset above, we can say that the overall performance wasn’t deteriorating performance. In some models, we found out that the performance improved, but the majority had no change either improving or declining in performance, which is considered as stagnating performance.\n",
    "\n",
    "# Best Model\n",
    "In our case since all the models performed relatively the same, the choice was not super clear. But, if we had to choose we’d pick the CatBoost model trained on the data set with feature selection. Our decision is based on objective analysis of the different scores the model got (precision, recall, f1-score). \n",
    "\n"
   ]
  }
 ],
 "metadata": {
  "colab": {
   "authorship_tag": "ABX9TyP0AM00UsgKXhpKhwOrkfZd",
   "name": "Training Using Best Features Only (Part 4)Training Using Best Features Only (Part 4).ipynb",
   "provenance": []
  },
  "kernelspec": {
   "display_name": "Python 3",
   "language": "python",
   "name": "python3"
  },
  "language_info": {
   "codemirror_mode": {
    "name": "ipython",
    "version": 3
   },
   "file_extension": ".py",
   "mimetype": "text/x-python",
   "name": "python",
   "nbconvert_exporter": "python",
   "pygments_lexer": "ipython3",
   "version": "3.7.4"
  }
 },
 "nbformat": 4,
 "nbformat_minor": 1
}
